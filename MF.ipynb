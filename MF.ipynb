{
 "metadata": {
  "language_info": {
   "codemirror_mode": {
    "name": "ipython",
    "version": 3
   },
   "file_extension": ".py",
   "mimetype": "text/x-python",
   "name": "python",
   "nbconvert_exporter": "python",
   "pygments_lexer": "ipython3",
   "version": "3.7.9"
  },
  "orig_nbformat": 2,
  "kernelspec": {
   "name": "pythonjvsc74a57bd03e450a651d082633f5bc5e89c9da064f1b780eaed216155c44f4406c42d93987",
   "display_name": "Python 3.7.9  ('venv': venv)"
  },
  "metadata": {
   "interpreter": {
    "hash": "3e450a651d082633f5bc5e89c9da064f1b780eaed216155c44f4406c42d93987"
   }
  }
 },
 "nbformat": 4,
 "nbformat_minor": 2,
 "cells": [
  {
   "cell_type": "code",
   "execution_count": 1,
   "metadata": {},
   "outputs": [],
   "source": [
    "import numpy \n",
    "import pandas as pd\n"
   ]
  },
  {
   "cell_type": "code",
   "execution_count": 2,
   "metadata": {},
   "outputs": [],
   "source": [
    "def matrix_factorization(R, P, Q, K, steps=2000, alpha=0.0002, beta=0.02):\n",
    "    Q = Q.T\n",
    "\n",
    "    for step in range(steps):\n",
    "        for i in range(len(R)):\n",
    "            for j in range(len(R[i])):\n",
    "                if R[i][j] > 0:\n",
    "                    # calculate error\n",
    "                    # print(R[i][j])\n",
    "                    eij = R[i][j] - numpy.dot(P[i,:],Q[:,j])\n",
    "\n",
    "                    for k in range(K):\n",
    "                        # calculate gradient with a and beta parameter\n",
    "                        P[i][k] = P[i][k] + alpha * (2 * eij * Q[k][j] - beta * P[i][k])\n",
    "                        Q[k][j] = Q[k][j] + alpha * (2 * eij * P[i][k] - beta * Q[k][j])\n",
    "\n",
    "        eR = numpy.dot(P,Q)\n",
    "        \n",
    "        e = 0\n",
    "\n",
    "        for i in range(len(R)):\n",
    "\n",
    "            for j in range(len(R[i])):\n",
    "\n",
    "                if R[i][j] > 0:\n",
    "\n",
    "                    e = e + pow(R[i][j] - numpy.dot(P[i,:],Q[:,j]), 2)\n",
    "\n",
    "        # 0.001: local minimum\n",
    "        if step%500:er.append(e)\n",
    "        if e < 0.001:\n",
    "\n",
    "            break\n",
    "\n",
    "    return P, Q.T\n"
   ]
  },
  {
   "cell_type": "code",
   "execution_count": 3,
   "metadata": {
    "tags": []
   },
   "outputs": [],
   "source": [
    "er=[]\n",
    "R = [\n",
    "     [5,3,0,1,2,5,3,0,1,0],\n",
    "     [4,0,0,1,0,5,3,2,0,3],\n",
    "     [1,1,0,5,0,2,4,0,1,2],\n",
    "     [1,0,0,4,3,1,3,1,1,1],\n",
    "     [0,1,5,4,5,0,3,5,1,0],\n",
    "     [2,1,3,0,0,5,1,3,1,2],\n",
    "     [5,3,0,1,2,5,3,0,1,0],\n",
    "     [4,0,0,1,0,5,3,2,0,3],\n",
    "     [1,1,0,5,0,2,4,0,1,2],\n",
    "     [1,0,0,4,3,1,3,1,1,1],\n",
    "     [0,1,5,4,5,0,3,5,1,0],\n",
    "     [2,1,3,0,0,5,1,3,1,2],\n",
    "    ]\n",
    "\n",
    "R = numpy.array(R)\n",
    "# N: num of User\n",
    "N = len(R)\n",
    "# M: num of Movie\n",
    "M = len(R[0])\n",
    "# Num of Features\n",
    "K = 3\n",
    "\n",
    " \n",
    "P = numpy.random.rand(N,K)\n",
    "Q = numpy.random.rand(M,K)\n",
    "\n",
    " \n",
    "\n",
    "nP, nQ = matrix_factorization(R, P, Q, K)\n",
    "\n",
    "nR = numpy.dot(nP, nQ.T)"
   ]
  },
  {
   "cell_type": "code",
   "execution_count": 4,
   "metadata": {},
   "outputs": [
    {
     "output_type": "execute_result",
     "data": {
      "text/plain": [
       "(array([[5., 3., 3., 1., 2., 5., 3., 3., 1., 3.],\n",
       "        [4., 2., 3., 1., 2., 5., 3., 2., 1., 3.],\n",
       "        [1., 1., 3., 5., 4., 2., 4., 2., 1., 2.],\n",
       "        [1., 0., 2., 4., 3., 1., 3., 1., 1., 1.],\n",
       "        [4., 2., 5., 4., 5., 6., 3., 5., 1., 4.],\n",
       "        [2., 1., 3., 3., 3., 4., 2., 3., 1., 2.],\n",
       "        [5., 2., 3., 1., 2., 6., 3., 3., 1., 3.],\n",
       "        [4., 2., 3., 1., 2., 5., 3., 2., 1., 3.],\n",
       "        [1., 1., 3., 5., 4., 2., 4., 2., 1., 2.],\n",
       "        [0., 0., 2., 4., 3., 1., 3., 1., 1., 1.],\n",
       "        [4., 2., 5., 4., 5., 6., 3., 5., 1., 4.],\n",
       "        [2., 1., 3., 3., 3., 4., 1., 3., 1., 2.]]),\n",
       " array([[5, 3, 0, 1, 2, 5, 3, 0, 1, 0],\n",
       "        [4, 0, 0, 1, 0, 5, 3, 2, 0, 3],\n",
       "        [1, 1, 0, 5, 0, 2, 4, 0, 1, 2],\n",
       "        [1, 0, 0, 4, 3, 1, 3, 1, 1, 1],\n",
       "        [0, 1, 5, 4, 5, 0, 3, 5, 1, 0],\n",
       "        [2, 1, 3, 0, 0, 5, 1, 3, 1, 2],\n",
       "        [5, 3, 0, 1, 2, 5, 3, 0, 1, 0],\n",
       "        [4, 0, 0, 1, 0, 5, 3, 2, 0, 3],\n",
       "        [1, 1, 0, 5, 0, 2, 4, 0, 1, 2],\n",
       "        [1, 0, 0, 4, 3, 1, 3, 1, 1, 1],\n",
       "        [0, 1, 5, 4, 5, 0, 3, 5, 1, 0],\n",
       "        [2, 1, 3, 0, 0, 5, 1, 3, 1, 2]]))"
      ]
     },
     "metadata": {},
     "execution_count": 4
    }
   ],
   "source": [
    "numpy.round(nR),R"
   ]
  },
  {
   "cell_type": "code",
   "execution_count": 5,
   "metadata": {},
   "outputs": [],
   "source": [
    "from sklearn.metrics import mean_squared_error\n",
    "from scipy.sparse.linalg import svds"
   ]
  },
  {
   "cell_type": "code",
   "execution_count": 6,
   "metadata": {},
   "outputs": [],
   "source": [
    "u,s,v = svds(R.astype('float'),k=3)"
   ]
  },
  {
   "cell_type": "code",
   "execution_count": 7,
   "metadata": {},
   "outputs": [
    {
     "output_type": "execute_result",
     "data": {
      "text/plain": [
       "((12, 3), (3,), (3, 10))"
      ]
     },
     "metadata": {},
     "execution_count": 7
    }
   ],
   "source": [
    "u.shape,s.shape,v.shape "
   ]
  },
  {
   "cell_type": "code",
   "execution_count": 8,
   "metadata": {},
   "outputs": [
    {
     "output_type": "execute_result",
     "data": {
      "text/plain": [
       "array([[ 8.82765703,  0.        ,  0.        ],\n",
       "       [ 0.        , 12.73610292,  0.        ],\n",
       "       [ 0.        ,  0.        , 21.88000922]])"
      ]
     },
     "metadata": {},
     "execution_count": 8
    }
   ],
   "source": [
    "s_d = numpy.diag(s)\n",
    "s_d"
   ]
  },
  {
   "cell_type": "code",
   "execution_count": 9,
   "metadata": {},
   "outputs": [
    {
     "output_type": "execute_result",
     "data": {
      "text/plain": [
       "(array([[ 4. ,  1.4,  0.1,  1.6,  0.4,  5.2,  3.1,  0.9,  0.8,  2. ],\n",
       "        [ 3.9,  1.4,  0.4,  1. ,  0.3,  5.3,  2.7,  1.1,  0.7,  1.9],\n",
       "        [ 1.9,  0.9, -0.7,  4.4,  1.5,  1.8,  3.9, -0.1,  0.9,  1.3],\n",
       "        [ 0.9,  0.7,  0.5,  4.2,  2.2,  0.8,  3.3,  0.9,  0.8,  0.8],\n",
       "        [-0.3,  0.8,  5. ,  4.2,  4.8,  0.2,  2.9,  5. ,  1.2,  0.3],\n",
       "        [ 2.9,  1.2,  2.6, -0.5,  0.9,  4.6,  1.2,  3. ,  0.6,  1.3],\n",
       "        [ 4. ,  1.4,  0.1,  1.6,  0.4,  5.2,  3.1,  0.9,  0.8,  2. ],\n",
       "        [ 3.9,  1.4,  0.4,  1. ,  0.3,  5.3,  2.7,  1.1,  0.7,  1.9],\n",
       "        [ 1.9,  0.9, -0.7,  4.4,  1.5,  1.8,  3.9, -0.1,  0.9,  1.3],\n",
       "        [ 0.9,  0.7,  0.5,  4.2,  2.2,  0.8,  3.3,  0.9,  0.8,  0.8],\n",
       "        [-0.3,  0.8,  5. ,  4.2,  4.8,  0.2,  2.9,  5. ,  1.2,  0.3],\n",
       "        [ 2.9,  1.2,  2.6, -0.5,  0.9,  4.6,  1.2,  3. ,  0.6,  1.3]]),\n",
       " array([[5, 3, 0, 1, 2, 5, 3, 0, 1, 0],\n",
       "        [4, 0, 0, 1, 0, 5, 3, 2, 0, 3],\n",
       "        [1, 1, 0, 5, 0, 2, 4, 0, 1, 2],\n",
       "        [1, 0, 0, 4, 3, 1, 3, 1, 1, 1],\n",
       "        [0, 1, 5, 4, 5, 0, 3, 5, 1, 0],\n",
       "        [2, 1, 3, 0, 0, 5, 1, 3, 1, 2],\n",
       "        [5, 3, 0, 1, 2, 5, 3, 0, 1, 0],\n",
       "        [4, 0, 0, 1, 0, 5, 3, 2, 0, 3],\n",
       "        [1, 1, 0, 5, 0, 2, 4, 0, 1, 2],\n",
       "        [1, 0, 0, 4, 3, 1, 3, 1, 1, 1],\n",
       "        [0, 1, 5, 4, 5, 0, 3, 5, 1, 0],\n",
       "        [2, 1, 3, 0, 0, 5, 1, 3, 1, 2]]))"
      ]
     },
     "metadata": {},
     "execution_count": 9
    }
   ],
   "source": [
    "r_hat = numpy.dot(numpy.dot(u,s_d),v)\n",
    "r_hat.round(1),R"
   ]
  },
  {
   "cell_type": "code",
   "execution_count": 10,
   "metadata": {},
   "outputs": [
    {
     "output_type": "execute_result",
     "data": {
      "text/plain": [
       "array([[-0.3527413 , -3.57321135,  7.06420921],\n",
       "       [ 0.38035366, -3.69369552,  6.74280072],\n",
       "       [-3.84965167,  0.20997275,  5.71249047],\n",
       "       [-2.56000861,  2.06904129,  5.1532322 ],\n",
       "       [ 1.90122748,  6.85627158,  7.13924453],\n",
       "       [ 3.70223459, -1.8328809 ,  5.81737282],\n",
       "       [-0.3527413 , -3.57321135,  7.06420921],\n",
       "       [ 0.38035366, -3.69369552,  6.74280072],\n",
       "       [-3.84965167,  0.20997275,  5.71249047],\n",
       "       [-2.56000861,  2.06904129,  5.1532322 ],\n",
       "       [ 1.90122748,  6.85627158,  7.13924453],\n",
       "       [ 3.70223459, -1.8328809 ,  5.81737282]])"
      ]
     },
     "metadata": {},
     "execution_count": 10
    }
   ],
   "source": [
    "q=[5, 3, 0, 1, 2, 5, 3, 0, 1, 0]\n",
    "numpy.dot(R,v.T)"
   ]
  },
  {
   "cell_type": "code",
   "execution_count": 11,
   "metadata": {},
   "outputs": [
    {
     "output_type": "stream",
     "name": "stdout",
     "text": [
      "Transformed Matrix:\n[[ 5.7942733  -0.46723885]\n [ 3.3604414  -1.58000033]\n [ 4.14622666  1.93351902]]\n"
     ]
    }
   ],
   "source": [
    "#Importing required modules\n",
    "import numpy as np\n",
    "from sklearn.decomposition import TruncatedSVD\n",
    " \n",
    "#Creating array \n",
    "A = np.array([[3,4,3],[1,2,3],[4,2,1]])\n",
    " \n",
    "#Fitting the SVD class\n",
    "trun_svd =  TruncatedSVD(n_components = 2)\n",
    "A_transformed = trun_svd.fit_transform(A)\n",
    " \n",
    "#Printing the transformed matrix\n",
    "print(\"Transformed Matrix:\")\n",
    "print(A_transformed)"
   ]
  },
  {
   "cell_type": "code",
   "execution_count": 12,
   "metadata": {},
   "outputs": [
    {
     "output_type": "execute_result",
     "data": {
      "text/plain": [
       "       userId  movieId  rating                                          title\n",
       "16230     699      328       2                       Conspiracy Theory (1997)\n",
       "74275     450      372       4                                 Jeffrey (1995)\n",
       "59691     796      692       5                 American President, The (1995)\n",
       "40934     938      678       3                                 Volcano (1997)\n",
       "1795      500     1014       2  Romy and Michele's High School Reunion (1997)"
      ],
      "text/html": "<div>\n<style scoped>\n    .dataframe tbody tr th:only-of-type {\n        vertical-align: middle;\n    }\n\n    .dataframe tbody tr th {\n        vertical-align: top;\n    }\n\n    .dataframe thead th {\n        text-align: right;\n    }\n</style>\n<table border=\"1\" class=\"dataframe\">\n  <thead>\n    <tr style=\"text-align: right;\">\n      <th></th>\n      <th>userId</th>\n      <th>movieId</th>\n      <th>rating</th>\n      <th>title</th>\n    </tr>\n  </thead>\n  <tbody>\n    <tr>\n      <th>16230</th>\n      <td>699</td>\n      <td>328</td>\n      <td>2</td>\n      <td>Conspiracy Theory (1997)</td>\n    </tr>\n    <tr>\n      <th>74275</th>\n      <td>450</td>\n      <td>372</td>\n      <td>4</td>\n      <td>Jeffrey (1995)</td>\n    </tr>\n    <tr>\n      <th>59691</th>\n      <td>796</td>\n      <td>692</td>\n      <td>5</td>\n      <td>American President, The (1995)</td>\n    </tr>\n    <tr>\n      <th>40934</th>\n      <td>938</td>\n      <td>678</td>\n      <td>3</td>\n      <td>Volcano (1997)</td>\n    </tr>\n    <tr>\n      <th>1795</th>\n      <td>500</td>\n      <td>1014</td>\n      <td>2</td>\n      <td>Romy and Michele's High School Reunion (1997)</td>\n    </tr>\n  </tbody>\n</table>\n</div>"
     },
     "metadata": {},
     "execution_count": 12
    }
   ],
   "source": [
    "col = ['movieId','title']\n",
    "movies = pd.read_csv('u.item',usecols=[0,1],delimiter='|',names=col)\n",
    "rating = pd.read_csv(\"u.data\", delimiter=\"\\t\",usecols=[0,1,2] ,\n",
    "                     names=[\"userId\", \"movieId\", \"rating\"])\n",
    "newdata =  pd.merge(rating,movies,on='movieId')\n",
    "newdata.sample(5)"
   ]
  },
  {
   "cell_type": "code",
   "execution_count": 13,
   "metadata": {},
   "outputs": [
    {
     "output_type": "execute_result",
     "data": {
      "text/plain": [
       "userId     0\n",
       "movieId    0\n",
       "rating     0\n",
       "title      0\n",
       "dtype: int64"
      ]
     },
     "metadata": {},
     "execution_count": 13
    }
   ],
   "source": [
    "newdata = newdata.dropna(axis=0,subset=['title'])\n",
    "newdata.isnull().sum()"
   ]
  },
  {
   "cell_type": "code",
   "execution_count": 14,
   "metadata": {},
   "outputs": [],
   "source": [
    "movies_rating_count = (newdata.groupby('title')['rating'].count().reset_index().rename(columns={'rating':'totalRatingCount'}))"
   ]
  },
  {
   "cell_type": "code",
   "execution_count": 15,
   "metadata": {},
   "outputs": [],
   "source": [
    "newdata_rating = newdata.merge(movies_rating_count,left_on='title',right_on='title',how='left')\n"
   ]
  },
  {
   "cell_type": "code",
   "execution_count": 16,
   "metadata": {},
   "outputs": [],
   "source": [
    "threshold = 100\n",
    "popular_movies = newdata_rating[newdata_rating['totalRatingCount']>=threshold]"
   ]
  },
  {
   "cell_type": "code",
   "execution_count": 17,
   "metadata": {},
   "outputs": [],
   "source": [
    "rating_matrix = popular_movies.pivot_table(index='movieId',columns='userId',values='rating').fillna(0.0)\n",
    "rating_matrix =rating_matrix.apply(lambda x:x-x.mean())"
   ]
  },
  {
   "cell_type": "code",
   "execution_count": 18,
   "metadata": {},
   "outputs": [],
   "source": [
    "K=5\n",
    "N,M=rating_matrix.shape\n",
    "P = numpy.random.rand(N,K)\n",
    "Q = numpy.random.rand(M,K)\n",
    "\n",
    " \n",
    "\n",
    "nP, nQ = matrix_factorization(R, P, Q, K)\n",
    "\n",
    "nR = numpy.dot(nP, nQ.T)"
   ]
  },
  {
   "cell_type": "code",
   "execution_count": 19,
   "metadata": {},
   "outputs": [],
   "source": [
    "from sklearn.decomposition import TruncatedSVD\n",
    "from sklearn.preprocessing import StandardScaler"
   ]
  },
  {
   "cell_type": "code",
   "execution_count": 20,
   "metadata": {},
   "outputs": [
    {
     "output_type": "execute_result",
     "data": {
      "text/plain": [
       "StandardScaler()"
      ]
     },
     "metadata": {},
     "execution_count": 20
    }
   ],
   "source": [
    "sc= StandardScaler()\n",
    "sc.fit(rating_matrix)"
   ]
  },
  {
   "cell_type": "code",
   "execution_count": 21,
   "metadata": {},
   "outputs": [],
   "source": [
    "rating_matrix_s = sc.transform(rating_matrix)"
   ]
  },
  {
   "cell_type": "code",
   "execution_count": 22,
   "metadata": {},
   "outputs": [],
   "source": [
    "svd = TruncatedSVD(n_components=10, n_iter=7, random_state=42)"
   ]
  },
  {
   "cell_type": "code",
   "execution_count": 23,
   "metadata": {},
   "outputs": [],
   "source": [
    "U = svd.fit_transform(rating_matrix_s)"
   ]
  },
  {
   "cell_type": "code",
   "execution_count": 24,
   "metadata": {},
   "outputs": [],
   "source": [
    "V=svd.components_\n",
    "S=svd.singular_values_ "
   ]
  },
  {
   "cell_type": "code",
   "execution_count": 25,
   "metadata": {},
   "outputs": [],
   "source": [
    "result = numpy.dot(U,V)"
   ]
  },
  {
   "cell_type": "code",
   "execution_count": null,
   "metadata": {},
   "outputs": [],
   "source": [
    "result"
   ]
  },
  {
   "cell_type": "code",
   "execution_count": 27,
   "metadata": {},
   "outputs": [
    {
     "output_type": "stream",
     "name": "stdout",
     "text": [
      "X_restored dot way [[ 3.   3.5 -0.3 ...  4.8 -0.8 -1.3]\n",
      " [ 1.2 -0.4 -0.6 ... -0.4 -0.1  4.1]\n",
      " [ 1.1 -0.7 -0.1 ... -0.2 -1.  -1.1]\n",
      " ...\n",
      " [-2.  -0.2 -0.4 ... -0.2 -0.5 -1.3]\n",
      " [-2.1 -0.7 -0.3 ... -0.3  3.1  1.3]\n",
      " [-1.9 -0.4 -0.4 ... -0.3 -0.4  1. ]]\n",
      "X restored u1,s1,v1, 2 components [[ 3.   3.5 -0.3 ...  4.8 -0.8 -1.3]\n",
      " [ 1.2 -0.4 -0.5 ... -0.3 -0.1  4.1]\n",
      " [ 1.1 -0.7 -0.1 ... -0.2 -1.  -1.1]\n",
      " ...\n",
      " [-2.  -0.3 -0.4 ... -0.2 -0.6 -1.3]\n",
      " [-2.1 -0.7 -0.4 ... -0.3  3.1  1.3]\n",
      " [-1.9 -0.4 -0.5 ... -0.3 -0.6  1. ]]\n",
      "x restored [[ 3.   3.5 -0.3 ...  4.8 -0.8 -1.3]\n",
      " [ 1.2 -0.4 -0.5 ... -0.3 -0.1  4.1]\n",
      " [ 1.1 -0.7 -0.1 ... -0.2 -1.  -1.1]\n",
      " ...\n",
      " [-2.  -0.3 -0.4 ... -0.2 -0.6 -1.3]\n",
      " [-2.1 -0.7 -0.4 ... -0.3  3.1  1.3]\n",
      " [-1.9 -0.4 -0.5 ... -0.3 -0.6  1. ]]\n"
     ]
    },
    {
     "output_type": "execute_result",
     "data": {
      "text/plain": [
       "array([[ 3.0497076 ,  3.49707602, -0.26900585, ...,  4.77777778,\n",
       "        -0.75438596, -1.23099415],\n",
       "       [ 1.0497076 , -0.50292398, -0.26900585, ..., -0.22222222,\n",
       "        -0.75438596,  3.76900585],\n",
       "       [ 1.0497076 , -0.50292398, -0.26900585, ..., -0.22222222,\n",
       "        -0.75438596, -1.23099415],\n",
       "       ...,\n",
       "       [-1.9502924 , -0.50292398, -0.26900585, ..., -0.22222222,\n",
       "        -0.75438596, -1.23099415],\n",
       "       [-1.9502924 , -0.50292398, -0.26900585, ..., -0.22222222,\n",
       "         3.24561404,  0.76900585],\n",
       "       [-1.9502924 , -0.50292398, -0.26900585, ..., -0.22222222,\n",
       "        -0.75438596,  0.76900585]])"
      ]
     },
     "metadata": {},
     "execution_count": 27
    }
   ],
   "source": [
    "\n",
    "# TRUNCATED SVD\n",
    "\n",
    "from sklearn.decomposition import TruncatedSVD\n",
    "import numpy as np\n",
    "\n",
    "K=300\n",
    "svd = TruncatedSVD(n_components=K, n_iter=7, random_state=42)\n",
    "X = rating_matrix\n",
    "US=svd.fit_transform(X)\n",
    "\n",
    "V=svd.components_\n",
    "S=svd.singular_values_ \n",
    "\n",
    "\n",
    "# print('u,s,v', US,S,V)\n",
    "print('X_restored dot way',np.round(np.dot(US,V),1))#,'svdinverse way',np.round(svd.inverse_transform(U),1))\n",
    "\n",
    "# LINALG SVD\n",
    "\n",
    "\n",
    "U1,S1,V1=np.linalg.svd(X)\n",
    "\n",
    "\n",
    "# print('u1,s1,v1 remark negative mirrored',U1[:,:K]*S1[:K],V1[:K,:])\n",
    "print('X restored u1,s1,v1, 2 components',np.round( np.dot( U1[:,:K]*S1[:K],V1[:K,:] ),1 ) ) \n",
    "\n",
    "# sparse svd\n",
    "from scipy.sparse import csc_matrix\n",
    "from scipy.sparse.linalg import svds, eigs\n",
    "\n",
    "\n",
    "A = csc_matrix(X, dtype=float)\n",
    "\n",
    "u2, s2, vt2 = svds(A, k=K)\n",
    "\n",
    "\n",
    "# print('sparse reverses !',u2*s2,vt2)\n",
    "print('x restored',np.round( np.dot(u2*s2,vt2),1) )\n",
    "rating_matrix.values\n",
    "\n"
   ]
  },
  {
   "cell_type": "code",
   "execution_count": null,
   "metadata": {},
   "outputs": [],
   "source": []
  }
 ]
}