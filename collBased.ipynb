{
 "metadata": {
  "language_info": {
   "codemirror_mode": {
    "name": "ipython",
    "version": 3
   },
   "file_extension": ".py",
   "mimetype": "text/x-python",
   "name": "python",
   "nbconvert_exporter": "python",
   "pygments_lexer": "ipython3",
   "version": "3.7.9"
  },
  "orig_nbformat": 2,
  "kernelspec": {
   "name": "python3",
   "display_name": "Python 3.7.9 64-bit ('venv': venv)",
   "metadata": {
    "interpreter": {
     "hash": "3e450a651d082633f5bc5e89c9da064f1b780eaed216155c44f4406c42d93987"
    }
   }
  }
 },
 "nbformat": 4,
 "nbformat_minor": 2,
 "cells": [
  {
   "cell_type": "code",
   "execution_count": 1,
   "metadata": {},
   "outputs": [],
   "source": [
    "import pandas as pd\n",
    "import numpy as np"
   ]
  },
  {
   "source": [
    "<h3>Creating DataFrames</h3>"
   ],
   "cell_type": "markdown",
   "metadata": {}
  },
  {
   "cell_type": "code",
   "execution_count": 69,
   "metadata": {},
   "outputs": [
    {
     "output_type": "execute_result",
     "data": {
      "text/plain": [
       "   movieId              title\n",
       "0        1   Toy Story (1995)\n",
       "1        2   GoldenEye (1995)\n",
       "2        3  Four Rooms (1995)\n",
       "3        4  Get Shorty (1995)\n",
       "4        5     Copycat (1995)"
      ],
      "text/html": "<div>\n<style scoped>\n    .dataframe tbody tr th:only-of-type {\n        vertical-align: middle;\n    }\n\n    .dataframe tbody tr th {\n        vertical-align: top;\n    }\n\n    .dataframe thead th {\n        text-align: right;\n    }\n</style>\n<table border=\"1\" class=\"dataframe\">\n  <thead>\n    <tr style=\"text-align: right;\">\n      <th></th>\n      <th>movieId</th>\n      <th>title</th>\n    </tr>\n  </thead>\n  <tbody>\n    <tr>\n      <th>0</th>\n      <td>1</td>\n      <td>Toy Story (1995)</td>\n    </tr>\n    <tr>\n      <th>1</th>\n      <td>2</td>\n      <td>GoldenEye (1995)</td>\n    </tr>\n    <tr>\n      <th>2</th>\n      <td>3</td>\n      <td>Four Rooms (1995)</td>\n    </tr>\n    <tr>\n      <th>3</th>\n      <td>4</td>\n      <td>Get Shorty (1995)</td>\n    </tr>\n    <tr>\n      <th>4</th>\n      <td>5</td>\n      <td>Copycat (1995)</td>\n    </tr>\n  </tbody>\n</table>\n</div>"
     },
     "metadata": {},
     "execution_count": 69
    }
   ],
   "source": [
    "col = ['movieId','title']\n",
    "movies = pd.read_csv('u.item',usecols=[0,1],delimiter='|',names=col)\n",
    "movies.head()"
   ]
  },
  {
   "cell_type": "code",
   "execution_count": 70,
   "metadata": {},
   "outputs": [
    {
     "output_type": "execute_result",
     "data": {
      "text/plain": [
       "   userId  movieId  rating\n",
       "0     196      242       3\n",
       "1     186      302       3\n",
       "2      22      377       1\n",
       "3     244       51       2\n",
       "4     166      346       1"
      ],
      "text/html": "<div>\n<style scoped>\n    .dataframe tbody tr th:only-of-type {\n        vertical-align: middle;\n    }\n\n    .dataframe tbody tr th {\n        vertical-align: top;\n    }\n\n    .dataframe thead th {\n        text-align: right;\n    }\n</style>\n<table border=\"1\" class=\"dataframe\">\n  <thead>\n    <tr style=\"text-align: right;\">\n      <th></th>\n      <th>userId</th>\n      <th>movieId</th>\n      <th>rating</th>\n    </tr>\n  </thead>\n  <tbody>\n    <tr>\n      <th>0</th>\n      <td>196</td>\n      <td>242</td>\n      <td>3</td>\n    </tr>\n    <tr>\n      <th>1</th>\n      <td>186</td>\n      <td>302</td>\n      <td>3</td>\n    </tr>\n    <tr>\n      <th>2</th>\n      <td>22</td>\n      <td>377</td>\n      <td>1</td>\n    </tr>\n    <tr>\n      <th>3</th>\n      <td>244</td>\n      <td>51</td>\n      <td>2</td>\n    </tr>\n    <tr>\n      <th>4</th>\n      <td>166</td>\n      <td>346</td>\n      <td>1</td>\n    </tr>\n  </tbody>\n</table>\n</div>"
     },
     "metadata": {},
     "execution_count": 70
    }
   ],
   "source": [
    "rating = pd.read_csv(\"u.data\", delimiter=\"\\t\",usecols=[0,1,2] ,\n",
    "                     names=[\"userId\", \"movieId\", \"rating\"])\n",
    "rating.head()"
   ]
  },
  {
   "source": [
    "<h1>Merging above two DataFrames</h1>"
   ],
   "cell_type": "markdown",
   "metadata": {}
  },
  {
   "cell_type": "code",
   "execution_count": 4,
   "metadata": {},
   "outputs": [
    {
     "output_type": "execute_result",
     "data": {
      "text/plain": [
       "       userId  movieId  rating  \\\n",
       "7035      896        4       3   \n",
       "57161      94      961       4   \n",
       "2252      455       40       3   \n",
       "83466     634      840       2   \n",
       "89256     560      489       3   \n",
       "\n",
       "                                                   title  \n",
       "7035                                   Get Shorty (1995)  \n",
       "57161                                     Orlando (1993)  \n",
       "2252   To Wong Foo, Thanks for Everything! Julie Newm...  \n",
       "83466                           Last Man Standing (1996)  \n",
       "89256                                   Notorious (1946)  "
      ],
      "text/html": "<div>\n<style scoped>\n    .dataframe tbody tr th:only-of-type {\n        vertical-align: middle;\n    }\n\n    .dataframe tbody tr th {\n        vertical-align: top;\n    }\n\n    .dataframe thead th {\n        text-align: right;\n    }\n</style>\n<table border=\"1\" class=\"dataframe\">\n  <thead>\n    <tr style=\"text-align: right;\">\n      <th></th>\n      <th>userId</th>\n      <th>movieId</th>\n      <th>rating</th>\n      <th>title</th>\n    </tr>\n  </thead>\n  <tbody>\n    <tr>\n      <th>7035</th>\n      <td>896</td>\n      <td>4</td>\n      <td>3</td>\n      <td>Get Shorty (1995)</td>\n    </tr>\n    <tr>\n      <th>57161</th>\n      <td>94</td>\n      <td>961</td>\n      <td>4</td>\n      <td>Orlando (1993)</td>\n    </tr>\n    <tr>\n      <th>2252</th>\n      <td>455</td>\n      <td>40</td>\n      <td>3</td>\n      <td>To Wong Foo, Thanks for Everything! Julie Newm...</td>\n    </tr>\n    <tr>\n      <th>83466</th>\n      <td>634</td>\n      <td>840</td>\n      <td>2</td>\n      <td>Last Man Standing (1996)</td>\n    </tr>\n    <tr>\n      <th>89256</th>\n      <td>560</td>\n      <td>489</td>\n      <td>3</td>\n      <td>Notorious (1946)</td>\n    </tr>\n  </tbody>\n</table>\n</div>"
     },
     "metadata": {},
     "execution_count": 4
    }
   ],
   "source": [
    "newdata =  pd.merge(rating,movies,on='movieId')\n",
    "newdata.sample(5)"
   ]
  },
  {
   "source": [
    "<h3>Checking for null"
   ],
   "cell_type": "markdown",
   "metadata": {}
  },
  {
   "cell_type": "code",
   "execution_count": 5,
   "metadata": {},
   "outputs": [
    {
     "output_type": "execute_result",
     "data": {
      "text/plain": [
       "userId     0\n",
       "movieId    0\n",
       "rating     0\n",
       "title      0\n",
       "dtype: int64"
      ]
     },
     "metadata": {},
     "execution_count": 5
    }
   ],
   "source": [
    "newdata = newdata.dropna(axis=0,subset=['title'])\n",
    "newdata.isnull().sum()"
   ]
  },
  {
   "source": [
    "<h3>Counts the number of rating given to each movie</h3>"
   ],
   "cell_type": "markdown",
   "metadata": {}
  },
  {
   "cell_type": "code",
   "execution_count": 6,
   "metadata": {},
   "outputs": [],
   "source": [
    "movies_rating_count = (newdata.groupby('title')['rating'].count().reset_index().rename(columns={'rating':'totalRatingCount'}))"
   ]
  },
  {
   "cell_type": "code",
   "execution_count": 7,
   "metadata": {},
   "outputs": [
    {
     "output_type": "execute_result",
     "data": {
      "text/plain": [
       "                                      title  totalRatingCount\n",
       "0                 'Til There Was You (1997)                 9\n",
       "1                              1-900 (1994)                 5\n",
       "2                     101 Dalmatians (1996)               109\n",
       "3                       12 Angry Men (1957)               125\n",
       "4                                187 (1997)                41\n",
       "...                                     ...               ...\n",
       "1659                   Young Guns II (1990)                44\n",
       "1660  Young Poisoner's Handbook, The (1995)                41\n",
       "1661                Zeus and Roxanne (1997)                 6\n",
       "1662                                unknown                 9\n",
       "1663     � k�ldum klaka (Cold Fever) (1994)                 1\n",
       "\n",
       "[1664 rows x 2 columns]"
      ],
      "text/html": "<div>\n<style scoped>\n    .dataframe tbody tr th:only-of-type {\n        vertical-align: middle;\n    }\n\n    .dataframe tbody tr th {\n        vertical-align: top;\n    }\n\n    .dataframe thead th {\n        text-align: right;\n    }\n</style>\n<table border=\"1\" class=\"dataframe\">\n  <thead>\n    <tr style=\"text-align: right;\">\n      <th></th>\n      <th>title</th>\n      <th>totalRatingCount</th>\n    </tr>\n  </thead>\n  <tbody>\n    <tr>\n      <th>0</th>\n      <td>'Til There Was You (1997)</td>\n      <td>9</td>\n    </tr>\n    <tr>\n      <th>1</th>\n      <td>1-900 (1994)</td>\n      <td>5</td>\n    </tr>\n    <tr>\n      <th>2</th>\n      <td>101 Dalmatians (1996)</td>\n      <td>109</td>\n    </tr>\n    <tr>\n      <th>3</th>\n      <td>12 Angry Men (1957)</td>\n      <td>125</td>\n    </tr>\n    <tr>\n      <th>4</th>\n      <td>187 (1997)</td>\n      <td>41</td>\n    </tr>\n    <tr>\n      <th>...</th>\n      <td>...</td>\n      <td>...</td>\n    </tr>\n    <tr>\n      <th>1659</th>\n      <td>Young Guns II (1990)</td>\n      <td>44</td>\n    </tr>\n    <tr>\n      <th>1660</th>\n      <td>Young Poisoner's Handbook, The (1995)</td>\n      <td>41</td>\n    </tr>\n    <tr>\n      <th>1661</th>\n      <td>Zeus and Roxanne (1997)</td>\n      <td>6</td>\n    </tr>\n    <tr>\n      <th>1662</th>\n      <td>unknown</td>\n      <td>9</td>\n    </tr>\n    <tr>\n      <th>1663</th>\n      <td>� k�ldum klaka (Cold Fever) (1994)</td>\n      <td>1</td>\n    </tr>\n  </tbody>\n</table>\n<p>1664 rows × 2 columns</p>\n</div>"
     },
     "metadata": {},
     "execution_count": 7
    }
   ],
   "source": [
    "movies_rating_count"
   ]
  },
  {
   "source": [
    "<h1>Merge 'totalRatingCount' to original dataframe</h1>"
   ],
   "cell_type": "markdown",
   "metadata": {}
  },
  {
   "cell_type": "code",
   "execution_count": 8,
   "metadata": {},
   "outputs": [],
   "source": [
    "newdata_rating = newdata.merge(movies_rating_count,left_on='title',right_on='title',how='left')"
   ]
  },
  {
   "cell_type": "code",
   "execution_count": 9,
   "metadata": {},
   "outputs": [
    {
     "output_type": "execute_result",
     "data": {
      "text/plain": [
       "       userId  movieId  rating                            title  \\\n",
       "89394     269      636       3      Escape from New York (1981)   \n",
       "13959     758     1016       4                   Con Air (1997)   \n",
       "68003     864      472       4               Dragonheart (1996)   \n",
       "72152     210      708       5  Sex, Lies, and Videotape (1989)   \n",
       "54652     532      824       4     Great White Hype, The (1996)   \n",
       "\n",
       "       totalRatingCount  \n",
       "89394                91  \n",
       "13959               137  \n",
       "68003               158  \n",
       "72152               101  \n",
       "54652                49  "
      ],
      "text/html": "<div>\n<style scoped>\n    .dataframe tbody tr th:only-of-type {\n        vertical-align: middle;\n    }\n\n    .dataframe tbody tr th {\n        vertical-align: top;\n    }\n\n    .dataframe thead th {\n        text-align: right;\n    }\n</style>\n<table border=\"1\" class=\"dataframe\">\n  <thead>\n    <tr style=\"text-align: right;\">\n      <th></th>\n      <th>userId</th>\n      <th>movieId</th>\n      <th>rating</th>\n      <th>title</th>\n      <th>totalRatingCount</th>\n    </tr>\n  </thead>\n  <tbody>\n    <tr>\n      <th>89394</th>\n      <td>269</td>\n      <td>636</td>\n      <td>3</td>\n      <td>Escape from New York (1981)</td>\n      <td>91</td>\n    </tr>\n    <tr>\n      <th>13959</th>\n      <td>758</td>\n      <td>1016</td>\n      <td>4</td>\n      <td>Con Air (1997)</td>\n      <td>137</td>\n    </tr>\n    <tr>\n      <th>68003</th>\n      <td>864</td>\n      <td>472</td>\n      <td>4</td>\n      <td>Dragonheart (1996)</td>\n      <td>158</td>\n    </tr>\n    <tr>\n      <th>72152</th>\n      <td>210</td>\n      <td>708</td>\n      <td>5</td>\n      <td>Sex, Lies, and Videotape (1989)</td>\n      <td>101</td>\n    </tr>\n    <tr>\n      <th>54652</th>\n      <td>532</td>\n      <td>824</td>\n      <td>4</td>\n      <td>Great White Hype, The (1996)</td>\n      <td>49</td>\n    </tr>\n  </tbody>\n</table>\n</div>"
     },
     "metadata": {},
     "execution_count": 9
    }
   ],
   "source": [
    "newdata_rating.sample(5)"
   ]
  },
  {
   "cell_type": "code",
   "execution_count": 10,
   "metadata": {},
   "outputs": [
    {
     "output_type": "execute_result",
     "data": {
      "text/plain": [
       "(100000, 5)"
      ]
     },
     "metadata": {},
     "execution_count": 10
    }
   ],
   "source": [
    "newdata_rating.shape"
   ]
  },
  {
   "source": [
    "<h2>use minimun rating count to get popular movies </h2>"
   ],
   "cell_type": "markdown",
   "metadata": {}
  },
  {
   "cell_type": "code",
   "execution_count": 11,
   "metadata": {},
   "outputs": [],
   "source": [
    "threshold = 100\n",
    "popular_movies = newdata_rating[newdata_rating['totalRatingCount']>=threshold]"
   ]
  },
  {
   "cell_type": "code",
   "execution_count": 12,
   "metadata": {},
   "outputs": [
    {
     "output_type": "execute_result",
     "data": {
      "text/plain": [
       "(65008, 5)"
      ]
     },
     "metadata": {},
     "execution_count": 12
    }
   ],
   "source": [
    "popular_movies.shape"
   ]
  },
  {
   "cell_type": "code",
   "execution_count": 13,
   "metadata": {},
   "outputs": [
    {
     "output_type": "execute_result",
     "data": {
      "text/plain": [
       "       userId  movieId  rating                       title  totalRatingCount\n",
       "29795     613      127       4       Godfather, The (1972)               413\n",
       "33395     738       56       4         Pulp Fiction (1994)               394\n",
       "18790      94      195       3      Terminator, The (1984)               301\n",
       "38156      49      343       2  Alien: Resurrection (1997)               124"
      ],
      "text/html": "<div>\n<style scoped>\n    .dataframe tbody tr th:only-of-type {\n        vertical-align: middle;\n    }\n\n    .dataframe tbody tr th {\n        vertical-align: top;\n    }\n\n    .dataframe thead th {\n        text-align: right;\n    }\n</style>\n<table border=\"1\" class=\"dataframe\">\n  <thead>\n    <tr style=\"text-align: right;\">\n      <th></th>\n      <th>userId</th>\n      <th>movieId</th>\n      <th>rating</th>\n      <th>title</th>\n      <th>totalRatingCount</th>\n    </tr>\n  </thead>\n  <tbody>\n    <tr>\n      <th>29795</th>\n      <td>613</td>\n      <td>127</td>\n      <td>4</td>\n      <td>Godfather, The (1972)</td>\n      <td>413</td>\n    </tr>\n    <tr>\n      <th>33395</th>\n      <td>738</td>\n      <td>56</td>\n      <td>4</td>\n      <td>Pulp Fiction (1994)</td>\n      <td>394</td>\n    </tr>\n    <tr>\n      <th>18790</th>\n      <td>94</td>\n      <td>195</td>\n      <td>3</td>\n      <td>Terminator, The (1984)</td>\n      <td>301</td>\n    </tr>\n    <tr>\n      <th>38156</th>\n      <td>49</td>\n      <td>343</td>\n      <td>2</td>\n      <td>Alien: Resurrection (1997)</td>\n      <td>124</td>\n    </tr>\n  </tbody>\n</table>\n</div>"
     },
     "metadata": {},
     "execution_count": 13
    }
   ],
   "source": [
    "popular_movies.sample(4)"
   ]
  },
  {
   "source": [
    "<h1>Creating Pivot table based on ratings</h1> "
   ],
   "cell_type": "markdown",
   "metadata": {}
  },
  {
   "cell_type": "code",
   "execution_count": 14,
   "metadata": {},
   "outputs": [],
   "source": [
    "rating_matrix = popular_movies.pivot_table(index='movieId',columns='userId',values='rating').fillna(0.0)"
   ]
  },
  {
   "cell_type": "code",
   "execution_count": 15,
   "metadata": {},
   "outputs": [
    {
     "output_type": "execute_result",
     "data": {
      "text/plain": [
       "userId   1    2    3    4    5    6    7    8    9    10   ...  934  935  936  \\\n",
       "movieId                                                    ...                  \n",
       "1        5.0  4.0  0.0  0.0  4.0  4.0  0.0  0.0  0.0  4.0  ...  2.0  3.0  4.0   \n",
       "2        3.0  0.0  0.0  0.0  3.0  0.0  0.0  0.0  0.0  0.0  ...  4.0  0.0  0.0   \n",
       "4        3.0  0.0  0.0  0.0  0.0  0.0  5.0  0.0  0.0  4.0  ...  5.0  0.0  0.0   \n",
       "7        4.0  0.0  0.0  0.0  0.0  2.0  5.0  3.0  4.0  4.0  ...  0.0  0.0  4.0   \n",
       "8        1.0  0.0  0.0  0.0  0.0  4.0  5.0  0.0  0.0  0.0  ...  0.0  0.0  0.0   \n",
       "...      ...  ...  ...  ...  ...  ...  ...  ...  ...  ...  ...  ...  ...  ...   \n",
       "928      0.0  0.0  0.0  0.0  0.0  0.0  0.0  0.0  0.0  0.0  ...  0.0  0.0  3.0   \n",
       "1012     0.0  0.0  0.0  0.0  0.0  0.0  0.0  0.0  0.0  0.0  ...  0.0  0.0  0.0   \n",
       "1016     0.0  0.0  0.0  0.0  0.0  0.0  0.0  0.0  0.0  0.0  ...  0.0  4.0  3.0   \n",
       "1028     0.0  0.0  0.0  0.0  0.0  0.0  0.0  0.0  0.0  0.0  ...  0.0  0.0  0.0   \n",
       "1047     0.0  0.0  0.0  0.0  0.0  0.0  0.0  0.0  0.0  0.0  ...  0.0  0.0  0.0   \n",
       "\n",
       "userId   937  938  939  940  941  942  943  \n",
       "movieId                                     \n",
       "1        0.0  4.0  0.0  0.0  5.0  0.0  0.0  \n",
       "2        0.0  0.0  0.0  0.0  0.0  0.0  5.0  \n",
       "4        0.0  0.0  0.0  2.0  0.0  0.0  0.0  \n",
       "7        0.0  4.0  0.0  4.0  4.0  0.0  0.0  \n",
       "8        0.0  0.0  0.0  5.0  0.0  0.0  0.0  \n",
       "...      ...  ...  ...  ...  ...  ...  ...  \n",
       "928      0.0  5.0  0.0  0.0  0.0  0.0  5.0  \n",
       "1012     0.0  5.0  0.0  0.0  0.0  0.0  0.0  \n",
       "1016     0.0  3.0  0.0  0.0  0.0  0.0  0.0  \n",
       "1028     0.0  5.0  5.0  0.0  0.0  4.0  2.0  \n",
       "1047     0.0  3.0  0.0  0.0  0.0  0.0  2.0  \n",
       "\n",
       "[342 rows x 943 columns]"
      ],
      "text/html": "<div>\n<style scoped>\n    .dataframe tbody tr th:only-of-type {\n        vertical-align: middle;\n    }\n\n    .dataframe tbody tr th {\n        vertical-align: top;\n    }\n\n    .dataframe thead th {\n        text-align: right;\n    }\n</style>\n<table border=\"1\" class=\"dataframe\">\n  <thead>\n    <tr style=\"text-align: right;\">\n      <th>userId</th>\n      <th>1</th>\n      <th>2</th>\n      <th>3</th>\n      <th>4</th>\n      <th>5</th>\n      <th>6</th>\n      <th>7</th>\n      <th>8</th>\n      <th>9</th>\n      <th>10</th>\n      <th>...</th>\n      <th>934</th>\n      <th>935</th>\n      <th>936</th>\n      <th>937</th>\n      <th>938</th>\n      <th>939</th>\n      <th>940</th>\n      <th>941</th>\n      <th>942</th>\n      <th>943</th>\n    </tr>\n    <tr>\n      <th>movieId</th>\n      <th></th>\n      <th></th>\n      <th></th>\n      <th></th>\n      <th></th>\n      <th></th>\n      <th></th>\n      <th></th>\n      <th></th>\n      <th></th>\n      <th></th>\n      <th></th>\n      <th></th>\n      <th></th>\n      <th></th>\n      <th></th>\n      <th></th>\n      <th></th>\n      <th></th>\n      <th></th>\n      <th></th>\n    </tr>\n  </thead>\n  <tbody>\n    <tr>\n      <th>1</th>\n      <td>5.0</td>\n      <td>4.0</td>\n      <td>0.0</td>\n      <td>0.0</td>\n      <td>4.0</td>\n      <td>4.0</td>\n      <td>0.0</td>\n      <td>0.0</td>\n      <td>0.0</td>\n      <td>4.0</td>\n      <td>...</td>\n      <td>2.0</td>\n      <td>3.0</td>\n      <td>4.0</td>\n      <td>0.0</td>\n      <td>4.0</td>\n      <td>0.0</td>\n      <td>0.0</td>\n      <td>5.0</td>\n      <td>0.0</td>\n      <td>0.0</td>\n    </tr>\n    <tr>\n      <th>2</th>\n      <td>3.0</td>\n      <td>0.0</td>\n      <td>0.0</td>\n      <td>0.0</td>\n      <td>3.0</td>\n      <td>0.0</td>\n      <td>0.0</td>\n      <td>0.0</td>\n      <td>0.0</td>\n      <td>0.0</td>\n      <td>...</td>\n      <td>4.0</td>\n      <td>0.0</td>\n      <td>0.0</td>\n      <td>0.0</td>\n      <td>0.0</td>\n      <td>0.0</td>\n      <td>0.0</td>\n      <td>0.0</td>\n      <td>0.0</td>\n      <td>5.0</td>\n    </tr>\n    <tr>\n      <th>4</th>\n      <td>3.0</td>\n      <td>0.0</td>\n      <td>0.0</td>\n      <td>0.0</td>\n      <td>0.0</td>\n      <td>0.0</td>\n      <td>5.0</td>\n      <td>0.0</td>\n      <td>0.0</td>\n      <td>4.0</td>\n      <td>...</td>\n      <td>5.0</td>\n      <td>0.0</td>\n      <td>0.0</td>\n      <td>0.0</td>\n      <td>0.0</td>\n      <td>0.0</td>\n      <td>2.0</td>\n      <td>0.0</td>\n      <td>0.0</td>\n      <td>0.0</td>\n    </tr>\n    <tr>\n      <th>7</th>\n      <td>4.0</td>\n      <td>0.0</td>\n      <td>0.0</td>\n      <td>0.0</td>\n      <td>0.0</td>\n      <td>2.0</td>\n      <td>5.0</td>\n      <td>3.0</td>\n      <td>4.0</td>\n      <td>4.0</td>\n      <td>...</td>\n      <td>0.0</td>\n      <td>0.0</td>\n      <td>4.0</td>\n      <td>0.0</td>\n      <td>4.0</td>\n      <td>0.0</td>\n      <td>4.0</td>\n      <td>4.0</td>\n      <td>0.0</td>\n      <td>0.0</td>\n    </tr>\n    <tr>\n      <th>8</th>\n      <td>1.0</td>\n      <td>0.0</td>\n      <td>0.0</td>\n      <td>0.0</td>\n      <td>0.0</td>\n      <td>4.0</td>\n      <td>5.0</td>\n      <td>0.0</td>\n      <td>0.0</td>\n      <td>0.0</td>\n      <td>...</td>\n      <td>0.0</td>\n      <td>0.0</td>\n      <td>0.0</td>\n      <td>0.0</td>\n      <td>0.0</td>\n      <td>0.0</td>\n      <td>5.0</td>\n      <td>0.0</td>\n      <td>0.0</td>\n      <td>0.0</td>\n    </tr>\n    <tr>\n      <th>...</th>\n      <td>...</td>\n      <td>...</td>\n      <td>...</td>\n      <td>...</td>\n      <td>...</td>\n      <td>...</td>\n      <td>...</td>\n      <td>...</td>\n      <td>...</td>\n      <td>...</td>\n      <td>...</td>\n      <td>...</td>\n      <td>...</td>\n      <td>...</td>\n      <td>...</td>\n      <td>...</td>\n      <td>...</td>\n      <td>...</td>\n      <td>...</td>\n      <td>...</td>\n      <td>...</td>\n    </tr>\n    <tr>\n      <th>928</th>\n      <td>0.0</td>\n      <td>0.0</td>\n      <td>0.0</td>\n      <td>0.0</td>\n      <td>0.0</td>\n      <td>0.0</td>\n      <td>0.0</td>\n      <td>0.0</td>\n      <td>0.0</td>\n      <td>0.0</td>\n      <td>...</td>\n      <td>0.0</td>\n      <td>0.0</td>\n      <td>3.0</td>\n      <td>0.0</td>\n      <td>5.0</td>\n      <td>0.0</td>\n      <td>0.0</td>\n      <td>0.0</td>\n      <td>0.0</td>\n      <td>5.0</td>\n    </tr>\n    <tr>\n      <th>1012</th>\n      <td>0.0</td>\n      <td>0.0</td>\n      <td>0.0</td>\n      <td>0.0</td>\n      <td>0.0</td>\n      <td>0.0</td>\n      <td>0.0</td>\n      <td>0.0</td>\n      <td>0.0</td>\n      <td>0.0</td>\n      <td>...</td>\n      <td>0.0</td>\n      <td>0.0</td>\n      <td>0.0</td>\n      <td>0.0</td>\n      <td>5.0</td>\n      <td>0.0</td>\n      <td>0.0</td>\n      <td>0.0</td>\n      <td>0.0</td>\n      <td>0.0</td>\n    </tr>\n    <tr>\n      <th>1016</th>\n      <td>0.0</td>\n      <td>0.0</td>\n      <td>0.0</td>\n      <td>0.0</td>\n      <td>0.0</td>\n      <td>0.0</td>\n      <td>0.0</td>\n      <td>0.0</td>\n      <td>0.0</td>\n      <td>0.0</td>\n      <td>...</td>\n      <td>0.0</td>\n      <td>4.0</td>\n      <td>3.0</td>\n      <td>0.0</td>\n      <td>3.0</td>\n      <td>0.0</td>\n      <td>0.0</td>\n      <td>0.0</td>\n      <td>0.0</td>\n      <td>0.0</td>\n    </tr>\n    <tr>\n      <th>1028</th>\n      <td>0.0</td>\n      <td>0.0</td>\n      <td>0.0</td>\n      <td>0.0</td>\n      <td>0.0</td>\n      <td>0.0</td>\n      <td>0.0</td>\n      <td>0.0</td>\n      <td>0.0</td>\n      <td>0.0</td>\n      <td>...</td>\n      <td>0.0</td>\n      <td>0.0</td>\n      <td>0.0</td>\n      <td>0.0</td>\n      <td>5.0</td>\n      <td>5.0</td>\n      <td>0.0</td>\n      <td>0.0</td>\n      <td>4.0</td>\n      <td>2.0</td>\n    </tr>\n    <tr>\n      <th>1047</th>\n      <td>0.0</td>\n      <td>0.0</td>\n      <td>0.0</td>\n      <td>0.0</td>\n      <td>0.0</td>\n      <td>0.0</td>\n      <td>0.0</td>\n      <td>0.0</td>\n      <td>0.0</td>\n      <td>0.0</td>\n      <td>...</td>\n      <td>0.0</td>\n      <td>0.0</td>\n      <td>0.0</td>\n      <td>0.0</td>\n      <td>3.0</td>\n      <td>0.0</td>\n      <td>0.0</td>\n      <td>0.0</td>\n      <td>0.0</td>\n      <td>2.0</td>\n    </tr>\n  </tbody>\n</table>\n<p>342 rows × 943 columns</p>\n</div>"
     },
     "metadata": {},
     "execution_count": 15
    }
   ],
   "source": [
    "rating_matrix"
   ]
  },
  {
   "source": [
    "<h3>Standardize the Rating values</h3><br>so that we get know like /\n",
    "dislike of the user"
   ],
   "cell_type": "markdown",
   "metadata": {}
  },
  {
   "cell_type": "code",
   "execution_count": 16,
   "metadata": {},
   "outputs": [],
   "source": [
    "def standardize(x):\n",
    "    return (x-x.mean())#/(x.min()-x.max())"
   ]
  },
  {
   "cell_type": "code",
   "execution_count": 17,
   "metadata": {},
   "outputs": [
    {
     "output_type": "execute_result",
     "data": {
      "text/plain": [
       "userId        1         2         3         4         5         6         7    \\\n",
       "movieId                                                                         \n",
       "1        3.049708  3.497076 -0.269006 -0.207602  3.114035  2.438596 -2.546784   \n",
       "2        1.049708 -0.502924 -0.269006 -0.207602  2.114035 -1.561404 -2.546784   \n",
       "4        1.049708 -0.502924 -0.269006 -0.207602 -0.885965 -1.561404  2.453216   \n",
       "7        2.049708 -0.502924 -0.269006 -0.207602 -0.885965  0.438596  2.453216   \n",
       "8       -0.950292 -0.502924 -0.269006 -0.207602 -0.885965  2.438596  2.453216   \n",
       "...           ...       ...       ...       ...       ...       ...       ...   \n",
       "928     -1.950292 -0.502924 -0.269006 -0.207602 -0.885965 -1.561404 -2.546784   \n",
       "1012    -1.950292 -0.502924 -0.269006 -0.207602 -0.885965 -1.561404 -2.546784   \n",
       "1016    -1.950292 -0.502924 -0.269006 -0.207602 -0.885965 -1.561404 -2.546784   \n",
       "1028    -1.950292 -0.502924 -0.269006 -0.207602 -0.885965 -1.561404 -2.546784   \n",
       "1047    -1.950292 -0.502924 -0.269006 -0.207602 -0.885965 -1.561404 -2.546784   \n",
       "\n",
       "userId        8         9         10   ...      934       935       936  \\\n",
       "movieId                                ...                                \n",
       "1       -0.587719 -0.178363  2.482456  ...  0.80117  2.637427  3.160819   \n",
       "2       -0.587719 -0.178363 -1.517544  ...  2.80117 -0.362573 -0.839181   \n",
       "4       -0.587719 -0.178363  2.482456  ...  3.80117 -0.362573 -0.839181   \n",
       "7        2.412281  3.821637  2.482456  ... -1.19883 -0.362573  3.160819   \n",
       "8       -0.587719 -0.178363 -1.517544  ... -1.19883 -0.362573 -0.839181   \n",
       "...           ...       ...       ...  ...      ...       ...       ...   \n",
       "928     -0.587719 -0.178363 -1.517544  ... -1.19883 -0.362573  2.160819   \n",
       "1012    -0.587719 -0.178363 -1.517544  ... -1.19883 -0.362573 -0.839181   \n",
       "1016    -0.587719 -0.178363 -1.517544  ... -1.19883  3.637427  2.160819   \n",
       "1028    -0.587719 -0.178363 -1.517544  ... -1.19883 -0.362573 -0.839181   \n",
       "1047    -0.587719 -0.178363 -1.517544  ... -1.19883 -0.362573 -0.839181   \n",
       "\n",
       "userId        937       938       939       940       941       942       943  \n",
       "movieId                                                                        \n",
       "1       -0.298246  3.219298 -0.385965 -0.923977  4.777778 -0.754386 -1.230994  \n",
       "2       -0.298246 -0.780702 -0.385965 -0.923977 -0.222222 -0.754386  3.769006  \n",
       "4       -0.298246 -0.780702 -0.385965  1.076023 -0.222222 -0.754386 -1.230994  \n",
       "7       -0.298246  3.219298 -0.385965  3.076023  3.777778 -0.754386 -1.230994  \n",
       "8       -0.298246 -0.780702 -0.385965  4.076023 -0.222222 -0.754386 -1.230994  \n",
       "...           ...       ...       ...       ...       ...       ...       ...  \n",
       "928     -0.298246  4.219298 -0.385965 -0.923977 -0.222222 -0.754386  3.769006  \n",
       "1012    -0.298246  4.219298 -0.385965 -0.923977 -0.222222 -0.754386 -1.230994  \n",
       "1016    -0.298246  2.219298 -0.385965 -0.923977 -0.222222 -0.754386 -1.230994  \n",
       "1028    -0.298246  4.219298  4.614035 -0.923977 -0.222222  3.245614  0.769006  \n",
       "1047    -0.298246  2.219298 -0.385965 -0.923977 -0.222222 -0.754386  0.769006  \n",
       "\n",
       "[342 rows x 943 columns]"
      ],
      "text/html": "<div>\n<style scoped>\n    .dataframe tbody tr th:only-of-type {\n        vertical-align: middle;\n    }\n\n    .dataframe tbody tr th {\n        vertical-align: top;\n    }\n\n    .dataframe thead th {\n        text-align: right;\n    }\n</style>\n<table border=\"1\" class=\"dataframe\">\n  <thead>\n    <tr style=\"text-align: right;\">\n      <th>userId</th>\n      <th>1</th>\n      <th>2</th>\n      <th>3</th>\n      <th>4</th>\n      <th>5</th>\n      <th>6</th>\n      <th>7</th>\n      <th>8</th>\n      <th>9</th>\n      <th>10</th>\n      <th>...</th>\n      <th>934</th>\n      <th>935</th>\n      <th>936</th>\n      <th>937</th>\n      <th>938</th>\n      <th>939</th>\n      <th>940</th>\n      <th>941</th>\n      <th>942</th>\n      <th>943</th>\n    </tr>\n    <tr>\n      <th>movieId</th>\n      <th></th>\n      <th></th>\n      <th></th>\n      <th></th>\n      <th></th>\n      <th></th>\n      <th></th>\n      <th></th>\n      <th></th>\n      <th></th>\n      <th></th>\n      <th></th>\n      <th></th>\n      <th></th>\n      <th></th>\n      <th></th>\n      <th></th>\n      <th></th>\n      <th></th>\n      <th></th>\n      <th></th>\n    </tr>\n  </thead>\n  <tbody>\n    <tr>\n      <th>1</th>\n      <td>3.049708</td>\n      <td>3.497076</td>\n      <td>-0.269006</td>\n      <td>-0.207602</td>\n      <td>3.114035</td>\n      <td>2.438596</td>\n      <td>-2.546784</td>\n      <td>-0.587719</td>\n      <td>-0.178363</td>\n      <td>2.482456</td>\n      <td>...</td>\n      <td>0.80117</td>\n      <td>2.637427</td>\n      <td>3.160819</td>\n      <td>-0.298246</td>\n      <td>3.219298</td>\n      <td>-0.385965</td>\n      <td>-0.923977</td>\n      <td>4.777778</td>\n      <td>-0.754386</td>\n      <td>-1.230994</td>\n    </tr>\n    <tr>\n      <th>2</th>\n      <td>1.049708</td>\n      <td>-0.502924</td>\n      <td>-0.269006</td>\n      <td>-0.207602</td>\n      <td>2.114035</td>\n      <td>-1.561404</td>\n      <td>-2.546784</td>\n      <td>-0.587719</td>\n      <td>-0.178363</td>\n      <td>-1.517544</td>\n      <td>...</td>\n      <td>2.80117</td>\n      <td>-0.362573</td>\n      <td>-0.839181</td>\n      <td>-0.298246</td>\n      <td>-0.780702</td>\n      <td>-0.385965</td>\n      <td>-0.923977</td>\n      <td>-0.222222</td>\n      <td>-0.754386</td>\n      <td>3.769006</td>\n    </tr>\n    <tr>\n      <th>4</th>\n      <td>1.049708</td>\n      <td>-0.502924</td>\n      <td>-0.269006</td>\n      <td>-0.207602</td>\n      <td>-0.885965</td>\n      <td>-1.561404</td>\n      <td>2.453216</td>\n      <td>-0.587719</td>\n      <td>-0.178363</td>\n      <td>2.482456</td>\n      <td>...</td>\n      <td>3.80117</td>\n      <td>-0.362573</td>\n      <td>-0.839181</td>\n      <td>-0.298246</td>\n      <td>-0.780702</td>\n      <td>-0.385965</td>\n      <td>1.076023</td>\n      <td>-0.222222</td>\n      <td>-0.754386</td>\n      <td>-1.230994</td>\n    </tr>\n    <tr>\n      <th>7</th>\n      <td>2.049708</td>\n      <td>-0.502924</td>\n      <td>-0.269006</td>\n      <td>-0.207602</td>\n      <td>-0.885965</td>\n      <td>0.438596</td>\n      <td>2.453216</td>\n      <td>2.412281</td>\n      <td>3.821637</td>\n      <td>2.482456</td>\n      <td>...</td>\n      <td>-1.19883</td>\n      <td>-0.362573</td>\n      <td>3.160819</td>\n      <td>-0.298246</td>\n      <td>3.219298</td>\n      <td>-0.385965</td>\n      <td>3.076023</td>\n      <td>3.777778</td>\n      <td>-0.754386</td>\n      <td>-1.230994</td>\n    </tr>\n    <tr>\n      <th>8</th>\n      <td>-0.950292</td>\n      <td>-0.502924</td>\n      <td>-0.269006</td>\n      <td>-0.207602</td>\n      <td>-0.885965</td>\n      <td>2.438596</td>\n      <td>2.453216</td>\n      <td>-0.587719</td>\n      <td>-0.178363</td>\n      <td>-1.517544</td>\n      <td>...</td>\n      <td>-1.19883</td>\n      <td>-0.362573</td>\n      <td>-0.839181</td>\n      <td>-0.298246</td>\n      <td>-0.780702</td>\n      <td>-0.385965</td>\n      <td>4.076023</td>\n      <td>-0.222222</td>\n      <td>-0.754386</td>\n      <td>-1.230994</td>\n    </tr>\n    <tr>\n      <th>...</th>\n      <td>...</td>\n      <td>...</td>\n      <td>...</td>\n      <td>...</td>\n      <td>...</td>\n      <td>...</td>\n      <td>...</td>\n      <td>...</td>\n      <td>...</td>\n      <td>...</td>\n      <td>...</td>\n      <td>...</td>\n      <td>...</td>\n      <td>...</td>\n      <td>...</td>\n      <td>...</td>\n      <td>...</td>\n      <td>...</td>\n      <td>...</td>\n      <td>...</td>\n      <td>...</td>\n    </tr>\n    <tr>\n      <th>928</th>\n      <td>-1.950292</td>\n      <td>-0.502924</td>\n      <td>-0.269006</td>\n      <td>-0.207602</td>\n      <td>-0.885965</td>\n      <td>-1.561404</td>\n      <td>-2.546784</td>\n      <td>-0.587719</td>\n      <td>-0.178363</td>\n      <td>-1.517544</td>\n      <td>...</td>\n      <td>-1.19883</td>\n      <td>-0.362573</td>\n      <td>2.160819</td>\n      <td>-0.298246</td>\n      <td>4.219298</td>\n      <td>-0.385965</td>\n      <td>-0.923977</td>\n      <td>-0.222222</td>\n      <td>-0.754386</td>\n      <td>3.769006</td>\n    </tr>\n    <tr>\n      <th>1012</th>\n      <td>-1.950292</td>\n      <td>-0.502924</td>\n      <td>-0.269006</td>\n      <td>-0.207602</td>\n      <td>-0.885965</td>\n      <td>-1.561404</td>\n      <td>-2.546784</td>\n      <td>-0.587719</td>\n      <td>-0.178363</td>\n      <td>-1.517544</td>\n      <td>...</td>\n      <td>-1.19883</td>\n      <td>-0.362573</td>\n      <td>-0.839181</td>\n      <td>-0.298246</td>\n      <td>4.219298</td>\n      <td>-0.385965</td>\n      <td>-0.923977</td>\n      <td>-0.222222</td>\n      <td>-0.754386</td>\n      <td>-1.230994</td>\n    </tr>\n    <tr>\n      <th>1016</th>\n      <td>-1.950292</td>\n      <td>-0.502924</td>\n      <td>-0.269006</td>\n      <td>-0.207602</td>\n      <td>-0.885965</td>\n      <td>-1.561404</td>\n      <td>-2.546784</td>\n      <td>-0.587719</td>\n      <td>-0.178363</td>\n      <td>-1.517544</td>\n      <td>...</td>\n      <td>-1.19883</td>\n      <td>3.637427</td>\n      <td>2.160819</td>\n      <td>-0.298246</td>\n      <td>2.219298</td>\n      <td>-0.385965</td>\n      <td>-0.923977</td>\n      <td>-0.222222</td>\n      <td>-0.754386</td>\n      <td>-1.230994</td>\n    </tr>\n    <tr>\n      <th>1028</th>\n      <td>-1.950292</td>\n      <td>-0.502924</td>\n      <td>-0.269006</td>\n      <td>-0.207602</td>\n      <td>-0.885965</td>\n      <td>-1.561404</td>\n      <td>-2.546784</td>\n      <td>-0.587719</td>\n      <td>-0.178363</td>\n      <td>-1.517544</td>\n      <td>...</td>\n      <td>-1.19883</td>\n      <td>-0.362573</td>\n      <td>-0.839181</td>\n      <td>-0.298246</td>\n      <td>4.219298</td>\n      <td>4.614035</td>\n      <td>-0.923977</td>\n      <td>-0.222222</td>\n      <td>3.245614</td>\n      <td>0.769006</td>\n    </tr>\n    <tr>\n      <th>1047</th>\n      <td>-1.950292</td>\n      <td>-0.502924</td>\n      <td>-0.269006</td>\n      <td>-0.207602</td>\n      <td>-0.885965</td>\n      <td>-1.561404</td>\n      <td>-2.546784</td>\n      <td>-0.587719</td>\n      <td>-0.178363</td>\n      <td>-1.517544</td>\n      <td>...</td>\n      <td>-1.19883</td>\n      <td>-0.362573</td>\n      <td>-0.839181</td>\n      <td>-0.298246</td>\n      <td>2.219298</td>\n      <td>-0.385965</td>\n      <td>-0.923977</td>\n      <td>-0.222222</td>\n      <td>-0.754386</td>\n      <td>0.769006</td>\n    </tr>\n  </tbody>\n</table>\n<p>342 rows × 943 columns</p>\n</div>"
     },
     "metadata": {},
     "execution_count": 17
    }
   ],
   "source": [
    "rating_matrix=rating_matrix.apply(standardize)\n",
    "rating_matrix"
   ]
  },
  {
   "cell_type": "code",
   "execution_count": 18,
   "metadata": {},
   "outputs": [],
   "source": [
    "from sklearn.metrics.pairwise import cosine_similarity"
   ]
  },
  {
   "source": [
    "cosine_similarity calculate row-wise similarity"
   ],
   "cell_type": "markdown",
   "metadata": {}
  },
  {
   "source": [
    "#item(movies) based similarity \n",
    "cos_sim  = cosine_similarity(rating_matrix.T)"
   ],
   "cell_type": "code",
   "metadata": {},
   "execution_count": 19,
   "outputs": []
  },
  {
   "cell_type": "code",
   "execution_count": 20,
   "metadata": {},
   "outputs": [],
   "source": [
    "movie_matrix = pd.DataFrame(cos_sim,columns=rating_matrix.columns,index=rating_matrix.columns)"
   ]
  },
  {
   "source": [
    "<h1>Item Base Approach </h1>\n",
    "<br>Here movies are consider as a Items "
   ],
   "cell_type": "markdown",
   "metadata": {}
  },
  {
   "cell_type": "code",
   "execution_count": 21,
   "metadata": {},
   "outputs": [
    {
     "output_type": "execute_result",
     "data": {
      "text/plain": [
       "userId       1         2         3         4         5         6         7    \\\n",
       "userId                                                                         \n",
       "1       1.000000 -0.060006 -0.172405 -0.076475  0.243137  0.220562  0.176823   \n",
       "2      -0.060006  1.000000  0.039397  0.189146 -0.080606  0.115077 -0.177919   \n",
       "3      -0.172405  0.039397  1.000000  0.385675 -0.122575 -0.091023 -0.188004   \n",
       "4      -0.076475  0.189146  0.385675  1.000000 -0.066759 -0.049142 -0.042515   \n",
       "5       0.243137 -0.080606 -0.122575 -0.066759  1.000000  0.043102  0.165772   \n",
       "...          ...       ...       ...       ...       ...       ...       ...   \n",
       "939    -0.066589  0.217377 -0.042782 -0.017875 -0.050630 -0.021313 -0.096034   \n",
       "940     0.096790  0.129159  0.062498  0.132019  0.049583  0.187840  0.089851   \n",
       "941     0.050600  0.130605  0.079553  0.160920  0.090847  0.057489 -0.137499   \n",
       "942    -0.063876  0.091737  0.086198  0.137180  0.006997  0.186851  0.089885   \n",
       "943     0.227067 -0.070601 -0.145507 -0.066449  0.188905  0.041648  0.187910   \n",
       "\n",
       "userId       8         9         10   ...       934       935       936  \\\n",
       "userId                                ...                                 \n",
       "1       0.214428 -0.095214  0.133534  ...  0.237626 -0.066955  0.010832   \n",
       "2      -0.007446  0.174843  0.018736  ...  0.039737  0.316042  0.391448   \n",
       "3      -0.021637  0.042921 -0.103431  ... -0.128229 -0.025295  0.182762   \n",
       "4       0.176791  0.118318 -0.047984  ... -0.047953 -0.015340  0.144434   \n",
       "5       0.175771 -0.021439 -0.027172  ...  0.268381 -0.038739 -0.080647   \n",
       "...          ...       ...       ...  ...       ...       ...       ...   \n",
       "939    -0.011509  0.003811 -0.080348  ... -0.086912  0.487496  0.283161   \n",
       "940     0.116887  0.074565  0.175854  ...  0.139625 -0.022260  0.063918   \n",
       "941     0.088854  0.157156 -0.021419  ... -0.076061  0.188677  0.290226   \n",
       "942     0.050954 -0.010160  0.029673  ...  0.055403 -0.033326 -0.062610   \n",
       "943     0.196846 -0.049526 -0.027857  ...  0.074384  0.107249 -0.069095   \n",
       "\n",
       "userId       937       938       939       940       941       942       943  \n",
       "userId                                                                        \n",
       "1       0.031555 -0.100938 -0.066589  0.096790  0.050600 -0.063876  0.227067  \n",
       "2       0.463542  0.292161  0.217377  0.129159  0.130605  0.091737 -0.070601  \n",
       "3       0.023317  0.059959 -0.042782  0.062498  0.079553  0.086198 -0.145507  \n",
       "4       0.224939  0.120968 -0.017875  0.132019  0.160920  0.137180 -0.066449  \n",
       "5      -0.025539 -0.025532 -0.050630  0.049583  0.090847  0.006997  0.188905  \n",
       "...          ...       ...       ...       ...       ...       ...       ...  \n",
       "939     0.256369  0.440033  1.000000 -0.030325  0.147194 -0.084949  0.035597  \n",
       "940     0.102370 -0.021716 -0.030325  1.000000  0.066364  0.145925  0.030866  \n",
       "941     0.193792  0.284409  0.147194  0.066364  1.000000  0.034472 -0.010930  \n",
       "942     0.060791 -0.070147 -0.084949  0.145925  0.034472  1.000000  0.012510  \n",
       "943    -0.064794 -0.011846  0.035597  0.030866 -0.010930  0.012510  1.000000  \n",
       "\n",
       "[943 rows x 943 columns]"
      ],
      "text/html": "<div>\n<style scoped>\n    .dataframe tbody tr th:only-of-type {\n        vertical-align: middle;\n    }\n\n    .dataframe tbody tr th {\n        vertical-align: top;\n    }\n\n    .dataframe thead th {\n        text-align: right;\n    }\n</style>\n<table border=\"1\" class=\"dataframe\">\n  <thead>\n    <tr style=\"text-align: right;\">\n      <th>userId</th>\n      <th>1</th>\n      <th>2</th>\n      <th>3</th>\n      <th>4</th>\n      <th>5</th>\n      <th>6</th>\n      <th>7</th>\n      <th>8</th>\n      <th>9</th>\n      <th>10</th>\n      <th>...</th>\n      <th>934</th>\n      <th>935</th>\n      <th>936</th>\n      <th>937</th>\n      <th>938</th>\n      <th>939</th>\n      <th>940</th>\n      <th>941</th>\n      <th>942</th>\n      <th>943</th>\n    </tr>\n    <tr>\n      <th>userId</th>\n      <th></th>\n      <th></th>\n      <th></th>\n      <th></th>\n      <th></th>\n      <th></th>\n      <th></th>\n      <th></th>\n      <th></th>\n      <th></th>\n      <th></th>\n      <th></th>\n      <th></th>\n      <th></th>\n      <th></th>\n      <th></th>\n      <th></th>\n      <th></th>\n      <th></th>\n      <th></th>\n      <th></th>\n    </tr>\n  </thead>\n  <tbody>\n    <tr>\n      <th>1</th>\n      <td>1.000000</td>\n      <td>-0.060006</td>\n      <td>-0.172405</td>\n      <td>-0.076475</td>\n      <td>0.243137</td>\n      <td>0.220562</td>\n      <td>0.176823</td>\n      <td>0.214428</td>\n      <td>-0.095214</td>\n      <td>0.133534</td>\n      <td>...</td>\n      <td>0.237626</td>\n      <td>-0.066955</td>\n      <td>0.010832</td>\n      <td>0.031555</td>\n      <td>-0.100938</td>\n      <td>-0.066589</td>\n      <td>0.096790</td>\n      <td>0.050600</td>\n      <td>-0.063876</td>\n      <td>0.227067</td>\n    </tr>\n    <tr>\n      <th>2</th>\n      <td>-0.060006</td>\n      <td>1.000000</td>\n      <td>0.039397</td>\n      <td>0.189146</td>\n      <td>-0.080606</td>\n      <td>0.115077</td>\n      <td>-0.177919</td>\n      <td>-0.007446</td>\n      <td>0.174843</td>\n      <td>0.018736</td>\n      <td>...</td>\n      <td>0.039737</td>\n      <td>0.316042</td>\n      <td>0.391448</td>\n      <td>0.463542</td>\n      <td>0.292161</td>\n      <td>0.217377</td>\n      <td>0.129159</td>\n      <td>0.130605</td>\n      <td>0.091737</td>\n      <td>-0.070601</td>\n    </tr>\n    <tr>\n      <th>3</th>\n      <td>-0.172405</td>\n      <td>0.039397</td>\n      <td>1.000000</td>\n      <td>0.385675</td>\n      <td>-0.122575</td>\n      <td>-0.091023</td>\n      <td>-0.188004</td>\n      <td>-0.021637</td>\n      <td>0.042921</td>\n      <td>-0.103431</td>\n      <td>...</td>\n      <td>-0.128229</td>\n      <td>-0.025295</td>\n      <td>0.182762</td>\n      <td>0.023317</td>\n      <td>0.059959</td>\n      <td>-0.042782</td>\n      <td>0.062498</td>\n      <td>0.079553</td>\n      <td>0.086198</td>\n      <td>-0.145507</td>\n    </tr>\n    <tr>\n      <th>4</th>\n      <td>-0.076475</td>\n      <td>0.189146</td>\n      <td>0.385675</td>\n      <td>1.000000</td>\n      <td>-0.066759</td>\n      <td>-0.049142</td>\n      <td>-0.042515</td>\n      <td>0.176791</td>\n      <td>0.118318</td>\n      <td>-0.047984</td>\n      <td>...</td>\n      <td>-0.047953</td>\n      <td>-0.015340</td>\n      <td>0.144434</td>\n      <td>0.224939</td>\n      <td>0.120968</td>\n      <td>-0.017875</td>\n      <td>0.132019</td>\n      <td>0.160920</td>\n      <td>0.137180</td>\n      <td>-0.066449</td>\n    </tr>\n    <tr>\n      <th>5</th>\n      <td>0.243137</td>\n      <td>-0.080606</td>\n      <td>-0.122575</td>\n      <td>-0.066759</td>\n      <td>1.000000</td>\n      <td>0.043102</td>\n      <td>0.165772</td>\n      <td>0.175771</td>\n      <td>-0.021439</td>\n      <td>-0.027172</td>\n      <td>...</td>\n      <td>0.268381</td>\n      <td>-0.038739</td>\n      <td>-0.080647</td>\n      <td>-0.025539</td>\n      <td>-0.025532</td>\n      <td>-0.050630</td>\n      <td>0.049583</td>\n      <td>0.090847</td>\n      <td>0.006997</td>\n      <td>0.188905</td>\n    </tr>\n    <tr>\n      <th>...</th>\n      <td>...</td>\n      <td>...</td>\n      <td>...</td>\n      <td>...</td>\n      <td>...</td>\n      <td>...</td>\n      <td>...</td>\n      <td>...</td>\n      <td>...</td>\n      <td>...</td>\n      <td>...</td>\n      <td>...</td>\n      <td>...</td>\n      <td>...</td>\n      <td>...</td>\n      <td>...</td>\n      <td>...</td>\n      <td>...</td>\n      <td>...</td>\n      <td>...</td>\n      <td>...</td>\n    </tr>\n    <tr>\n      <th>939</th>\n      <td>-0.066589</td>\n      <td>0.217377</td>\n      <td>-0.042782</td>\n      <td>-0.017875</td>\n      <td>-0.050630</td>\n      <td>-0.021313</td>\n      <td>-0.096034</td>\n      <td>-0.011509</td>\n      <td>0.003811</td>\n      <td>-0.080348</td>\n      <td>...</td>\n      <td>-0.086912</td>\n      <td>0.487496</td>\n      <td>0.283161</td>\n      <td>0.256369</td>\n      <td>0.440033</td>\n      <td>1.000000</td>\n      <td>-0.030325</td>\n      <td>0.147194</td>\n      <td>-0.084949</td>\n      <td>0.035597</td>\n    </tr>\n    <tr>\n      <th>940</th>\n      <td>0.096790</td>\n      <td>0.129159</td>\n      <td>0.062498</td>\n      <td>0.132019</td>\n      <td>0.049583</td>\n      <td>0.187840</td>\n      <td>0.089851</td>\n      <td>0.116887</td>\n      <td>0.074565</td>\n      <td>0.175854</td>\n      <td>...</td>\n      <td>0.139625</td>\n      <td>-0.022260</td>\n      <td>0.063918</td>\n      <td>0.102370</td>\n      <td>-0.021716</td>\n      <td>-0.030325</td>\n      <td>1.000000</td>\n      <td>0.066364</td>\n      <td>0.145925</td>\n      <td>0.030866</td>\n    </tr>\n    <tr>\n      <th>941</th>\n      <td>0.050600</td>\n      <td>0.130605</td>\n      <td>0.079553</td>\n      <td>0.160920</td>\n      <td>0.090847</td>\n      <td>0.057489</td>\n      <td>-0.137499</td>\n      <td>0.088854</td>\n      <td>0.157156</td>\n      <td>-0.021419</td>\n      <td>...</td>\n      <td>-0.076061</td>\n      <td>0.188677</td>\n      <td>0.290226</td>\n      <td>0.193792</td>\n      <td>0.284409</td>\n      <td>0.147194</td>\n      <td>0.066364</td>\n      <td>1.000000</td>\n      <td>0.034472</td>\n      <td>-0.010930</td>\n    </tr>\n    <tr>\n      <th>942</th>\n      <td>-0.063876</td>\n      <td>0.091737</td>\n      <td>0.086198</td>\n      <td>0.137180</td>\n      <td>0.006997</td>\n      <td>0.186851</td>\n      <td>0.089885</td>\n      <td>0.050954</td>\n      <td>-0.010160</td>\n      <td>0.029673</td>\n      <td>...</td>\n      <td>0.055403</td>\n      <td>-0.033326</td>\n      <td>-0.062610</td>\n      <td>0.060791</td>\n      <td>-0.070147</td>\n      <td>-0.084949</td>\n      <td>0.145925</td>\n      <td>0.034472</td>\n      <td>1.000000</td>\n      <td>0.012510</td>\n    </tr>\n    <tr>\n      <th>943</th>\n      <td>0.227067</td>\n      <td>-0.070601</td>\n      <td>-0.145507</td>\n      <td>-0.066449</td>\n      <td>0.188905</td>\n      <td>0.041648</td>\n      <td>0.187910</td>\n      <td>0.196846</td>\n      <td>-0.049526</td>\n      <td>-0.027857</td>\n      <td>...</td>\n      <td>0.074384</td>\n      <td>0.107249</td>\n      <td>-0.069095</td>\n      <td>-0.064794</td>\n      <td>-0.011846</td>\n      <td>0.035597</td>\n      <td>0.030866</td>\n      <td>-0.010930</td>\n      <td>0.012510</td>\n      <td>1.000000</td>\n    </tr>\n  </tbody>\n</table>\n<p>943 rows × 943 columns</p>\n</div>"
     },
     "metadata": {},
     "execution_count": 21
    }
   ],
   "source": [
    "movie_matrix"
   ]
  },
  {
   "source": [
    "<h2>function for getting similar items(movies)"
   ],
   "cell_type": "markdown",
   "metadata": {}
  },
  {
   "cell_type": "code",
   "execution_count": 22,
   "metadata": {},
   "outputs": [],
   "source": [
    "def getMovie(id,k=5):\n",
    "    \n",
    "    ''''\n",
    "        id:movieID;\n",
    "        k:number of similar moives\n",
    "    '''\n",
    "    movies = movie_matrix[id]\n",
    "    movies = movies.sort_values(ascending=False)\n",
    "    return movies[:k]"
   ]
  },
  {
   "cell_type": "code",
   "execution_count": 23,
   "metadata": {},
   "outputs": [],
   "source": [
    "user_id=55\n",
    "similar_movies =getMovie(id=user_id,k=10)"
   ]
  },
  {
   "cell_type": "code",
   "execution_count": 24,
   "metadata": {},
   "outputs": [
    {
     "output_type": "execute_result",
     "data": {
      "text/plain": [
       "     userId  movieId  rating                         title  totalRatingCount  \\\n",
       "439     214       55       4      Professional, The (1994)               149   \n",
       "167     785      137       2              Big Night (1996)               171   \n",
       "211     380      217       2  Bram Stoker's Dracula (1992)               120   \n",
       "\n",
       "     similarity  \n",
       "439    1.000000  \n",
       "167    0.441774  \n",
       "211    0.381950  "
      ],
      "text/html": "<div>\n<style scoped>\n    .dataframe tbody tr th:only-of-type {\n        vertical-align: middle;\n    }\n\n    .dataframe tbody tr th {\n        vertical-align: top;\n    }\n\n    .dataframe thead th {\n        text-align: right;\n    }\n</style>\n<table border=\"1\" class=\"dataframe\">\n  <thead>\n    <tr style=\"text-align: right;\">\n      <th></th>\n      <th>userId</th>\n      <th>movieId</th>\n      <th>rating</th>\n      <th>title</th>\n      <th>totalRatingCount</th>\n      <th>similarity</th>\n    </tr>\n  </thead>\n  <tbody>\n    <tr>\n      <th>439</th>\n      <td>214</td>\n      <td>55</td>\n      <td>4</td>\n      <td>Professional, The (1994)</td>\n      <td>149</td>\n      <td>1.000000</td>\n    </tr>\n    <tr>\n      <th>167</th>\n      <td>785</td>\n      <td>137</td>\n      <td>2</td>\n      <td>Big Night (1996)</td>\n      <td>171</td>\n      <td>0.441774</td>\n    </tr>\n    <tr>\n      <th>211</th>\n      <td>380</td>\n      <td>217</td>\n      <td>2</td>\n      <td>Bram Stoker's Dracula (1992)</td>\n      <td>120</td>\n      <td>0.381950</td>\n    </tr>\n  </tbody>\n</table>\n</div>"
     },
     "metadata": {},
     "execution_count": 24
    }
   ],
   "source": [
    "''''\n",
    "creating dataframe based on similarities\n",
    "'''\n",
    "weighted_movies = pd.DataFrame({'movieId':similar_movies.index,'similarity':similar_movies.values})\n",
    "\n",
    "# print(weighted_movies)\n",
    "'''\n",
    "filter moviesId from original Dataset\n",
    "'''\n",
    "filtered_movies =pd.DataFrame(popular_movies[popular_movies['movieId'].isin(similar_movies.index)])\n",
    "'''\n",
    "merging 'filtered_movies' and 'weighted_movies'\n",
    "'''\n",
    "\n",
    "top_similar = filtered_movies.merge(weighted_movies,on='movieId').sort_values(by='similarity',ascending=False)\n",
    "top_similar.drop_duplicates(subset=['movieId'],inplace=True)\n",
    "top_similar"
   ]
  },
  {
   "source": [
    "<h1>User Based Approach</h1><br>\n",
    "<h3>\n",
    "Now try to find Similar users and recommend moives based on that \n",
    "</h3>"
   ],
   "cell_type": "markdown",
   "metadata": {}
  },
  {
   "cell_type": "code",
   "execution_count": 25,
   "metadata": {},
   "outputs": [],
   "source": [
    "con_sim_user  = cosine_similarity(rating_matrix)\n",
    "matrix_user = pd.DataFrame(con_sim_user,columns=rating_matrix.index,index=rating_matrix.index)\n"
   ]
  },
  {
   "cell_type": "code",
   "execution_count": 26,
   "metadata": {},
   "outputs": [
    {
     "output_type": "execute_result",
     "data": {
      "text/plain": [
       "movieId      1         2         4         7         8         9         11    \\\n",
       "movieId                                                                         \n",
       "1        1.000000 -0.145854 -0.008202  0.376580  0.109994  0.194892  0.070428   \n",
       "2       -0.145854  1.000000  0.088021 -0.147112 -0.135736 -0.199585  0.023614   \n",
       "4       -0.008202  0.088021  1.000000  0.061206  0.079998  0.025085  0.226806   \n",
       "7        0.376580 -0.147112  0.061206  1.000000  0.018873  0.247871  0.246592   \n",
       "8        0.109994 -0.135736  0.079998  0.018873  1.000000  0.087317  0.015267   \n",
       "...           ...       ...       ...       ...       ...       ...       ...   \n",
       "928     -0.151108  0.090083 -0.177740 -0.098845 -0.187469 -0.152130 -0.078379   \n",
       "1012    -0.116023  0.058994 -0.055639 -0.041617 -0.084665 -0.035873 -0.096732   \n",
       "1016    -0.024489  0.096816  0.009052 -0.063109 -0.074010 -0.093928  0.037229   \n",
       "1028    -0.028819  0.085457 -0.134892 -0.106094 -0.101876 -0.056484 -0.116836   \n",
       "1047    -0.038110  0.098143 -0.103815 -0.048509 -0.192314 -0.135636 -0.066528   \n",
       "\n",
       "movieId      12        13        14    ...      865       866       879   \\\n",
       "movieId                                ...                                 \n",
       "1        0.093365  0.002410 -0.017480  ... -0.465280 -0.066433 -0.219444   \n",
       "2       -0.035238 -0.119293 -0.170596  ...  0.196447  0.058089  0.073408   \n",
       "4        0.219109  0.008178 -0.109239  ... -0.163922 -0.137791 -0.147187   \n",
       "7        0.272047  0.097333 -0.025351  ... -0.396550 -0.134388 -0.198861   \n",
       "8        0.141510 -0.027759 -0.018000  ... -0.157680 -0.098274 -0.151588   \n",
       "...           ...       ...       ...  ...       ...       ...       ...   \n",
       "928     -0.204887  0.036116 -0.048307  ...  0.340495  0.246128  0.159606   \n",
       "1012    -0.165788  0.105195  0.045521  ...  0.350285  0.230360  0.162109   \n",
       "1016    -0.091819 -0.059434 -0.089234  ...  0.177932  0.215451  0.205709   \n",
       "1028    -0.227514 -0.000560 -0.069127  ...  0.216470  0.443107  0.132375   \n",
       "1047    -0.210254  0.048310 -0.023139  ...  0.301487  0.373639  0.172166   \n",
       "\n",
       "movieId      895       926       928       1012      1016      1028      1047  \n",
       "movieId                                                                        \n",
       "1       -0.272488 -0.135553 -0.151108 -0.116023 -0.024489 -0.028819 -0.038110  \n",
       "2        0.119918  0.215324  0.090083  0.058994  0.096816  0.085457  0.098143  \n",
       "4       -0.128576 -0.139479 -0.177740 -0.055639  0.009052 -0.134892 -0.103815  \n",
       "7       -0.200606 -0.161939 -0.098845 -0.041617 -0.063109 -0.106094 -0.048509  \n",
       "8       -0.200761 -0.189114 -0.187469 -0.084665 -0.074010 -0.101876 -0.192314  \n",
       "...           ...       ...       ...       ...       ...       ...       ...  \n",
       "928      0.273476  0.437588  1.000000  0.224382  0.166329  0.330134  0.406808  \n",
       "1012     0.223163  0.289393  0.224382  1.000000  0.282225  0.257794  0.254544  \n",
       "1016     0.209260  0.300264  0.166329  0.282225  1.000000  0.196972  0.276961  \n",
       "1028     0.150939  0.424286  0.330134  0.257794  0.196972  1.000000  0.423795  \n",
       "1047     0.266221  0.498184  0.406808  0.254544  0.276961  0.423795  1.000000  \n",
       "\n",
       "[342 rows x 342 columns]"
      ],
      "text/html": "<div>\n<style scoped>\n    .dataframe tbody tr th:only-of-type {\n        vertical-align: middle;\n    }\n\n    .dataframe tbody tr th {\n        vertical-align: top;\n    }\n\n    .dataframe thead th {\n        text-align: right;\n    }\n</style>\n<table border=\"1\" class=\"dataframe\">\n  <thead>\n    <tr style=\"text-align: right;\">\n      <th>movieId</th>\n      <th>1</th>\n      <th>2</th>\n      <th>4</th>\n      <th>7</th>\n      <th>8</th>\n      <th>9</th>\n      <th>11</th>\n      <th>12</th>\n      <th>13</th>\n      <th>14</th>\n      <th>...</th>\n      <th>865</th>\n      <th>866</th>\n      <th>879</th>\n      <th>895</th>\n      <th>926</th>\n      <th>928</th>\n      <th>1012</th>\n      <th>1016</th>\n      <th>1028</th>\n      <th>1047</th>\n    </tr>\n    <tr>\n      <th>movieId</th>\n      <th></th>\n      <th></th>\n      <th></th>\n      <th></th>\n      <th></th>\n      <th></th>\n      <th></th>\n      <th></th>\n      <th></th>\n      <th></th>\n      <th></th>\n      <th></th>\n      <th></th>\n      <th></th>\n      <th></th>\n      <th></th>\n      <th></th>\n      <th></th>\n      <th></th>\n      <th></th>\n      <th></th>\n    </tr>\n  </thead>\n  <tbody>\n    <tr>\n      <th>1</th>\n      <td>1.000000</td>\n      <td>-0.145854</td>\n      <td>-0.008202</td>\n      <td>0.376580</td>\n      <td>0.109994</td>\n      <td>0.194892</td>\n      <td>0.070428</td>\n      <td>0.093365</td>\n      <td>0.002410</td>\n      <td>-0.017480</td>\n      <td>...</td>\n      <td>-0.465280</td>\n      <td>-0.066433</td>\n      <td>-0.219444</td>\n      <td>-0.272488</td>\n      <td>-0.135553</td>\n      <td>-0.151108</td>\n      <td>-0.116023</td>\n      <td>-0.024489</td>\n      <td>-0.028819</td>\n      <td>-0.038110</td>\n    </tr>\n    <tr>\n      <th>2</th>\n      <td>-0.145854</td>\n      <td>1.000000</td>\n      <td>0.088021</td>\n      <td>-0.147112</td>\n      <td>-0.135736</td>\n      <td>-0.199585</td>\n      <td>0.023614</td>\n      <td>-0.035238</td>\n      <td>-0.119293</td>\n      <td>-0.170596</td>\n      <td>...</td>\n      <td>0.196447</td>\n      <td>0.058089</td>\n      <td>0.073408</td>\n      <td>0.119918</td>\n      <td>0.215324</td>\n      <td>0.090083</td>\n      <td>0.058994</td>\n      <td>0.096816</td>\n      <td>0.085457</td>\n      <td>0.098143</td>\n    </tr>\n    <tr>\n      <th>4</th>\n      <td>-0.008202</td>\n      <td>0.088021</td>\n      <td>1.000000</td>\n      <td>0.061206</td>\n      <td>0.079998</td>\n      <td>0.025085</td>\n      <td>0.226806</td>\n      <td>0.219109</td>\n      <td>0.008178</td>\n      <td>-0.109239</td>\n      <td>...</td>\n      <td>-0.163922</td>\n      <td>-0.137791</td>\n      <td>-0.147187</td>\n      <td>-0.128576</td>\n      <td>-0.139479</td>\n      <td>-0.177740</td>\n      <td>-0.055639</td>\n      <td>0.009052</td>\n      <td>-0.134892</td>\n      <td>-0.103815</td>\n    </tr>\n    <tr>\n      <th>7</th>\n      <td>0.376580</td>\n      <td>-0.147112</td>\n      <td>0.061206</td>\n      <td>1.000000</td>\n      <td>0.018873</td>\n      <td>0.247871</td>\n      <td>0.246592</td>\n      <td>0.272047</td>\n      <td>0.097333</td>\n      <td>-0.025351</td>\n      <td>...</td>\n      <td>-0.396550</td>\n      <td>-0.134388</td>\n      <td>-0.198861</td>\n      <td>-0.200606</td>\n      <td>-0.161939</td>\n      <td>-0.098845</td>\n      <td>-0.041617</td>\n      <td>-0.063109</td>\n      <td>-0.106094</td>\n      <td>-0.048509</td>\n    </tr>\n    <tr>\n      <th>8</th>\n      <td>0.109994</td>\n      <td>-0.135736</td>\n      <td>0.079998</td>\n      <td>0.018873</td>\n      <td>1.000000</td>\n      <td>0.087317</td>\n      <td>0.015267</td>\n      <td>0.141510</td>\n      <td>-0.027759</td>\n      <td>-0.018000</td>\n      <td>...</td>\n      <td>-0.157680</td>\n      <td>-0.098274</td>\n      <td>-0.151588</td>\n      <td>-0.200761</td>\n      <td>-0.189114</td>\n      <td>-0.187469</td>\n      <td>-0.084665</td>\n      <td>-0.074010</td>\n      <td>-0.101876</td>\n      <td>-0.192314</td>\n    </tr>\n    <tr>\n      <th>...</th>\n      <td>...</td>\n      <td>...</td>\n      <td>...</td>\n      <td>...</td>\n      <td>...</td>\n      <td>...</td>\n      <td>...</td>\n      <td>...</td>\n      <td>...</td>\n      <td>...</td>\n      <td>...</td>\n      <td>...</td>\n      <td>...</td>\n      <td>...</td>\n      <td>...</td>\n      <td>...</td>\n      <td>...</td>\n      <td>...</td>\n      <td>...</td>\n      <td>...</td>\n      <td>...</td>\n    </tr>\n    <tr>\n      <th>928</th>\n      <td>-0.151108</td>\n      <td>0.090083</td>\n      <td>-0.177740</td>\n      <td>-0.098845</td>\n      <td>-0.187469</td>\n      <td>-0.152130</td>\n      <td>-0.078379</td>\n      <td>-0.204887</td>\n      <td>0.036116</td>\n      <td>-0.048307</td>\n      <td>...</td>\n      <td>0.340495</td>\n      <td>0.246128</td>\n      <td>0.159606</td>\n      <td>0.273476</td>\n      <td>0.437588</td>\n      <td>1.000000</td>\n      <td>0.224382</td>\n      <td>0.166329</td>\n      <td>0.330134</td>\n      <td>0.406808</td>\n    </tr>\n    <tr>\n      <th>1012</th>\n      <td>-0.116023</td>\n      <td>0.058994</td>\n      <td>-0.055639</td>\n      <td>-0.041617</td>\n      <td>-0.084665</td>\n      <td>-0.035873</td>\n      <td>-0.096732</td>\n      <td>-0.165788</td>\n      <td>0.105195</td>\n      <td>0.045521</td>\n      <td>...</td>\n      <td>0.350285</td>\n      <td>0.230360</td>\n      <td>0.162109</td>\n      <td>0.223163</td>\n      <td>0.289393</td>\n      <td>0.224382</td>\n      <td>1.000000</td>\n      <td>0.282225</td>\n      <td>0.257794</td>\n      <td>0.254544</td>\n    </tr>\n    <tr>\n      <th>1016</th>\n      <td>-0.024489</td>\n      <td>0.096816</td>\n      <td>0.009052</td>\n      <td>-0.063109</td>\n      <td>-0.074010</td>\n      <td>-0.093928</td>\n      <td>0.037229</td>\n      <td>-0.091819</td>\n      <td>-0.059434</td>\n      <td>-0.089234</td>\n      <td>...</td>\n      <td>0.177932</td>\n      <td>0.215451</td>\n      <td>0.205709</td>\n      <td>0.209260</td>\n      <td>0.300264</td>\n      <td>0.166329</td>\n      <td>0.282225</td>\n      <td>1.000000</td>\n      <td>0.196972</td>\n      <td>0.276961</td>\n    </tr>\n    <tr>\n      <th>1028</th>\n      <td>-0.028819</td>\n      <td>0.085457</td>\n      <td>-0.134892</td>\n      <td>-0.106094</td>\n      <td>-0.101876</td>\n      <td>-0.056484</td>\n      <td>-0.116836</td>\n      <td>-0.227514</td>\n      <td>-0.000560</td>\n      <td>-0.069127</td>\n      <td>...</td>\n      <td>0.216470</td>\n      <td>0.443107</td>\n      <td>0.132375</td>\n      <td>0.150939</td>\n      <td>0.424286</td>\n      <td>0.330134</td>\n      <td>0.257794</td>\n      <td>0.196972</td>\n      <td>1.000000</td>\n      <td>0.423795</td>\n    </tr>\n    <tr>\n      <th>1047</th>\n      <td>-0.038110</td>\n      <td>0.098143</td>\n      <td>-0.103815</td>\n      <td>-0.048509</td>\n      <td>-0.192314</td>\n      <td>-0.135636</td>\n      <td>-0.066528</td>\n      <td>-0.210254</td>\n      <td>0.048310</td>\n      <td>-0.023139</td>\n      <td>...</td>\n      <td>0.301487</td>\n      <td>0.373639</td>\n      <td>0.172166</td>\n      <td>0.266221</td>\n      <td>0.498184</td>\n      <td>0.406808</td>\n      <td>0.254544</td>\n      <td>0.276961</td>\n      <td>0.423795</td>\n      <td>1.000000</td>\n    </tr>\n  </tbody>\n</table>\n<p>342 rows × 342 columns</p>\n</div>"
     },
     "metadata": {},
     "execution_count": 26
    }
   ],
   "source": [
    "# movie_matrix_user=movie_matrix_user.apply(standardize)\n",
    "matrix_user"
   ]
  },
  {
   "source": [
    "<h1>function to get similar users "
   ],
   "cell_type": "markdown",
   "metadata": {}
  },
  {
   "cell_type": "code",
   "execution_count": 27,
   "metadata": {},
   "outputs": [],
   "source": [
    "def getUser(userId,k=5):\n",
    "    sim_user = matrix_user[userId].nlargest(k)\n",
    "    return sim_user[1:]"
   ]
  },
  {
   "cell_type": "code",
   "execution_count": 56,
   "metadata": {},
   "outputs": [
    {
     "output_type": "execute_result",
     "data": {
      "text/plain": [
       "movieId\n",
       "739    0.358464\n",
       "393    0.355384\n",
       "88     0.351019\n",
       "402    0.343760\n",
       "94     0.294732\n",
       "66     0.285128\n",
       "67     0.265442\n",
       "559    0.237258\n",
       "732    0.233651\n",
       "Name: 451, dtype: float64"
      ]
     },
     "metadata": {},
     "execution_count": 56
    }
   ],
   "source": [
    "user_id=451\n",
    "top_similar_user = getUser(user_id,k=10)\n",
    "top_similar_user"
   ]
  },
  {
   "cell_type": "code",
   "execution_count": 63,
   "metadata": {},
   "outputs": [
    {
     "output_type": "execute_result",
     "data": {
      "text/plain": [
       "     userId  movieId  rating                        title  totalRatingCount  \\\n",
       "0        88      302       3     L.A. Confidential (1997)               297   \n",
       "1        88      690       4  Seven Years in Tibet (1997)               155   \n",
       "2        88      750       2               Amistad (1997)               124   \n",
       "3        88      321       1                Mother (1996)               169   \n",
       "4        88      286       5  English Patient, The (1996)               481   \n",
       "..      ...      ...     ...                          ...               ...   \n",
       "596     739      498       4    African Queen, The (1951)               152   \n",
       "627     732      305       2        Ice Storm, The (1997)               108   \n",
       "628     732      289       3                 Evita (1996)               259   \n",
       "629     732      269       5       Full Monty, The (1997)               315   \n",
       "630     732      324       2          Lost Highway (1997)               125   \n",
       "\n",
       "     user_similarity  \n",
       "0           0.351019  \n",
       "1           0.351019  \n",
       "2           0.351019  \n",
       "3           0.351019  \n",
       "4           0.351019  \n",
       "..               ...  \n",
       "596         0.358464  \n",
       "627         0.233651  \n",
       "628         0.233651  \n",
       "629         0.233651  \n",
       "630         0.233651  \n",
       "\n",
       "[309 rows x 6 columns]"
      ],
      "text/html": "<div>\n<style scoped>\n    .dataframe tbody tr th:only-of-type {\n        vertical-align: middle;\n    }\n\n    .dataframe tbody tr th {\n        vertical-align: top;\n    }\n\n    .dataframe thead th {\n        text-align: right;\n    }\n</style>\n<table border=\"1\" class=\"dataframe\">\n  <thead>\n    <tr style=\"text-align: right;\">\n      <th></th>\n      <th>userId</th>\n      <th>movieId</th>\n      <th>rating</th>\n      <th>title</th>\n      <th>totalRatingCount</th>\n      <th>user_similarity</th>\n    </tr>\n  </thead>\n  <tbody>\n    <tr>\n      <th>0</th>\n      <td>88</td>\n      <td>302</td>\n      <td>3</td>\n      <td>L.A. Confidential (1997)</td>\n      <td>297</td>\n      <td>0.351019</td>\n    </tr>\n    <tr>\n      <th>1</th>\n      <td>88</td>\n      <td>690</td>\n      <td>4</td>\n      <td>Seven Years in Tibet (1997)</td>\n      <td>155</td>\n      <td>0.351019</td>\n    </tr>\n    <tr>\n      <th>2</th>\n      <td>88</td>\n      <td>750</td>\n      <td>2</td>\n      <td>Amistad (1997)</td>\n      <td>124</td>\n      <td>0.351019</td>\n    </tr>\n    <tr>\n      <th>3</th>\n      <td>88</td>\n      <td>321</td>\n      <td>1</td>\n      <td>Mother (1996)</td>\n      <td>169</td>\n      <td>0.351019</td>\n    </tr>\n    <tr>\n      <th>4</th>\n      <td>88</td>\n      <td>286</td>\n      <td>5</td>\n      <td>English Patient, The (1996)</td>\n      <td>481</td>\n      <td>0.351019</td>\n    </tr>\n    <tr>\n      <th>...</th>\n      <td>...</td>\n      <td>...</td>\n      <td>...</td>\n      <td>...</td>\n      <td>...</td>\n      <td>...</td>\n    </tr>\n    <tr>\n      <th>596</th>\n      <td>739</td>\n      <td>498</td>\n      <td>4</td>\n      <td>African Queen, The (1951)</td>\n      <td>152</td>\n      <td>0.358464</td>\n    </tr>\n    <tr>\n      <th>627</th>\n      <td>732</td>\n      <td>305</td>\n      <td>2</td>\n      <td>Ice Storm, The (1997)</td>\n      <td>108</td>\n      <td>0.233651</td>\n    </tr>\n    <tr>\n      <th>628</th>\n      <td>732</td>\n      <td>289</td>\n      <td>3</td>\n      <td>Evita (1996)</td>\n      <td>259</td>\n      <td>0.233651</td>\n    </tr>\n    <tr>\n      <th>629</th>\n      <td>732</td>\n      <td>269</td>\n      <td>5</td>\n      <td>Full Monty, The (1997)</td>\n      <td>315</td>\n      <td>0.233651</td>\n    </tr>\n    <tr>\n      <th>630</th>\n      <td>732</td>\n      <td>324</td>\n      <td>2</td>\n      <td>Lost Highway (1997)</td>\n      <td>125</td>\n      <td>0.233651</td>\n    </tr>\n  </tbody>\n</table>\n<p>309 rows × 6 columns</p>\n</div>"
     },
     "metadata": {},
     "execution_count": 63
    }
   ],
   "source": [
    "''''\n",
    "creating dataframe based on similarities\n",
    "'''\n",
    "weighted_users = pd.DataFrame({'userId':top_similar_user.index,'user_similarity':top_similar_user.values})\n",
    "\n",
    "# print(weighted_users)\n",
    "'''\n",
    "filter userId from original Dataset\n",
    "'''\n",
    "filtered_users =pd.DataFrame(popular_movies[popular_movies['userId'].isin(top_similar_user.index)])\n",
    "'''\n",
    "merging 'filtered_users' and 'weighted_users'\n",
    "'''\n",
    "# print(filtered_users)\n",
    "top_similar = filtered_users.merge(weighted_users,on='userId')#.sort_values(by='user_similarity',ascending=False)\n",
    "top_similar.drop_duplicates(subset=['movieId'],inplace=True)\n",
    "top_similar"
   ]
  },
  {
   "cell_type": "code",
   "execution_count": 64,
   "metadata": {},
   "outputs": [
    {
     "output_type": "execute_result",
     "data": {
      "text/plain": [
       "movieId\n",
       "1      -0.403509\n",
       "2      -0.403509\n",
       "4      -0.403509\n",
       "7      -0.403509\n",
       "8      -0.403509\n",
       "          ...   \n",
       "928    -0.403509\n",
       "1012   -0.403509\n",
       "1016   -0.403509\n",
       "1028   -0.403509\n",
       "1047   -0.403509\n",
       "Name: 451, Length: 342, dtype: float64"
      ]
     },
     "metadata": {},
     "execution_count": 64
    }
   ],
   "source": [
    "user_rated = rating_matrix.loc[:,user_id]\n",
    "user_rated"
   ]
  },
  {
   "cell_type": "code",
   "execution_count": 65,
   "metadata": {},
   "outputs": [],
   "source": [
    "d=pd.DataFrame({'movieId':user_rated.index,'score':user_rated.values})\n",
    "top_similar=top_similar.merge(d,on='movieId')"
   ]
  },
  {
   "source": [
    "<h2>Claculating the user score based on this previous rating with recommended movies using user similarity"
   ],
   "cell_type": "markdown",
   "metadata": {}
  },
  {
   "cell_type": "code",
   "execution_count": 66,
   "metadata": {},
   "outputs": [],
   "source": [
    "top_similar['score'] = (top_similar['rating'] * top_similar['score'] +top_similar['user_similarity']) "
   ]
  },
  {
   "cell_type": "code",
   "execution_count": 67,
   "metadata": {},
   "outputs": [
    {
     "output_type": "execute_result",
     "data": {
      "text/plain": [
       "     userId  movieId  rating                        title  totalRatingCount  \\\n",
       "230     393      294       4             Liar Liar (1997)               485   \n",
       "253     393      333       4             Game, The (1997)               251   \n",
       "302     739      327       5              Cop Land (1997)               175   \n",
       "283     393      270       5               Gattaca (1997)               136   \n",
       "10       88      326       5             G.I. Jane (1997)               175   \n",
       "78       94      258       5               Contact (1997)               509   \n",
       "277     393      243       4         Jungle2Jungle (1997)               132   \n",
       "258     393      259       4  George of the Jungle (1997)               162   \n",
       "223     393      332       4        Kiss the Girls (1997)               143   \n",
       "224     393      322       4        Murder at 1600 (1997)               218   \n",
       "\n",
       "     user_similarity      score  \n",
       "230         0.355384  18.741348  \n",
       "253         0.355384  18.741348  \n",
       "302         0.358464  18.340920  \n",
       "283         0.355384  18.337840  \n",
       "10          0.351019  18.333475  \n",
       "78          0.294732  18.277188  \n",
       "277         0.355384  14.741348  \n",
       "258         0.355384  14.741348  \n",
       "223         0.355384  14.741348  \n",
       "224         0.355384  14.741348  "
      ],
      "text/html": "<div>\n<style scoped>\n    .dataframe tbody tr th:only-of-type {\n        vertical-align: middle;\n    }\n\n    .dataframe tbody tr th {\n        vertical-align: top;\n    }\n\n    .dataframe thead th {\n        text-align: right;\n    }\n</style>\n<table border=\"1\" class=\"dataframe\">\n  <thead>\n    <tr style=\"text-align: right;\">\n      <th></th>\n      <th>userId</th>\n      <th>movieId</th>\n      <th>rating</th>\n      <th>title</th>\n      <th>totalRatingCount</th>\n      <th>user_similarity</th>\n      <th>score</th>\n    </tr>\n  </thead>\n  <tbody>\n    <tr>\n      <th>230</th>\n      <td>393</td>\n      <td>294</td>\n      <td>4</td>\n      <td>Liar Liar (1997)</td>\n      <td>485</td>\n      <td>0.355384</td>\n      <td>18.741348</td>\n    </tr>\n    <tr>\n      <th>253</th>\n      <td>393</td>\n      <td>333</td>\n      <td>4</td>\n      <td>Game, The (1997)</td>\n      <td>251</td>\n      <td>0.355384</td>\n      <td>18.741348</td>\n    </tr>\n    <tr>\n      <th>302</th>\n      <td>739</td>\n      <td>327</td>\n      <td>5</td>\n      <td>Cop Land (1997)</td>\n      <td>175</td>\n      <td>0.358464</td>\n      <td>18.340920</td>\n    </tr>\n    <tr>\n      <th>283</th>\n      <td>393</td>\n      <td>270</td>\n      <td>5</td>\n      <td>Gattaca (1997)</td>\n      <td>136</td>\n      <td>0.355384</td>\n      <td>18.337840</td>\n    </tr>\n    <tr>\n      <th>10</th>\n      <td>88</td>\n      <td>326</td>\n      <td>5</td>\n      <td>G.I. Jane (1997)</td>\n      <td>175</td>\n      <td>0.351019</td>\n      <td>18.333475</td>\n    </tr>\n    <tr>\n      <th>78</th>\n      <td>94</td>\n      <td>258</td>\n      <td>5</td>\n      <td>Contact (1997)</td>\n      <td>509</td>\n      <td>0.294732</td>\n      <td>18.277188</td>\n    </tr>\n    <tr>\n      <th>277</th>\n      <td>393</td>\n      <td>243</td>\n      <td>4</td>\n      <td>Jungle2Jungle (1997)</td>\n      <td>132</td>\n      <td>0.355384</td>\n      <td>14.741348</td>\n    </tr>\n    <tr>\n      <th>258</th>\n      <td>393</td>\n      <td>259</td>\n      <td>4</td>\n      <td>George of the Jungle (1997)</td>\n      <td>162</td>\n      <td>0.355384</td>\n      <td>14.741348</td>\n    </tr>\n    <tr>\n      <th>223</th>\n      <td>393</td>\n      <td>332</td>\n      <td>4</td>\n      <td>Kiss the Girls (1997)</td>\n      <td>143</td>\n      <td>0.355384</td>\n      <td>14.741348</td>\n    </tr>\n    <tr>\n      <th>224</th>\n      <td>393</td>\n      <td>322</td>\n      <td>4</td>\n      <td>Murder at 1600 (1997)</td>\n      <td>218</td>\n      <td>0.355384</td>\n      <td>14.741348</td>\n    </tr>\n  </tbody>\n</table>\n</div>"
     },
     "metadata": {},
     "execution_count": 67
    }
   ],
   "source": [
    "top_similar.sort_values(by='score',ascending=False).head(10)"
   ]
  },
  {
   "cell_type": "code",
   "execution_count": null,
   "metadata": {},
   "outputs": [],
   "source": []
  }
 ]
}