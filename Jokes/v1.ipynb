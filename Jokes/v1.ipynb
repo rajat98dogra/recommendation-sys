{
 "metadata": {
  "language_info": {
   "codemirror_mode": {
    "name": "ipython",
    "version": 3
   },
   "file_extension": ".py",
   "mimetype": "text/x-python",
   "name": "python",
   "nbconvert_exporter": "python",
   "pygments_lexer": "ipython3",
   "version": "3.7.9"
  },
  "orig_nbformat": 2,
  "kernelspec": {
   "name": "pythonjvsc74a57bd03e450a651d082633f5bc5e89c9da064f1b780eaed216155c44f4406c42d93987",
   "display_name": "Python 3.7.9  ('venv': venv)"
  },
  "metadata": {
   "interpreter": {
    "hash": "3e450a651d082633f5bc5e89c9da064f1b780eaed216155c44f4406c42d93987"
   }
  }
 },
 "nbformat": 4,
 "nbformat_minor": 2,
 "cells": [
  {
   "cell_type": "code",
   "execution_count": 60,
   "metadata": {},
   "outputs": [],
   "source": [
    "import numpy as np\n",
    "import pandas as pd \n",
    "import matplotlib.pyplot as plt\n",
    "from collections import defaultdict"
   ]
  },
  {
   "cell_type": "code",
   "execution_count": 2,
   "metadata": {},
   "outputs": [],
   "source": [
    "data = pd.read_excel('jester-data-3.xls',header=None)\n",
    "data = data.rename({0:'Rate_count'},axis=1)\n",
    "data['userId']=data.index+1"
   ]
  },
  {
   "cell_type": "code",
   "execution_count": 3,
   "metadata": {},
   "outputs": [],
   "source": [
    "df =pd.melt(data.loc[:,1:] ,id_vars ='userId'  , value_name=\"rating\")\n",
    "df = df.rename({'variable':'JokesId'},axis=1)"
   ]
  },
  {
   "cell_type": "code",
   "execution_count": 4,
   "metadata": {},
   "outputs": [],
   "source": [
    "df['rating'].replace(99.0,0,inplace=True)"
   ]
  },
  {
   "cell_type": "code",
   "execution_count": 5,
   "metadata": {},
   "outputs": [
    {
     "output_type": "execute_result",
     "data": {
      "text/plain": [
       "<AxesSubplot:>"
      ]
     },
     "metadata": {},
     "execution_count": 5
    },
    {
     "output_type": "display_data",
     "data": {
      "text/plain": "<Figure size 432x288 with 1 Axes>",
      "image/svg+xml": "<?xml version=\"1.0\" encoding=\"utf-8\" standalone=\"no\"?>\r\n<!DOCTYPE svg PUBLIC \"-//W3C//DTD SVG 1.1//EN\"\r\n  \"http://www.w3.org/Graphics/SVG/1.1/DTD/svg11.dtd\">\r\n<!-- Created with matplotlib (https://matplotlib.org/) -->\r\n<svg height=\"259.116562pt\" version=\"1.1\" viewBox=\"0 0 378.465625 259.116562\" width=\"378.465625pt\" xmlns=\"http://www.w3.org/2000/svg\" xmlns:xlink=\"http://www.w3.org/1999/xlink\">\r\n <metadata>\r\n  <rdf:RDF xmlns:cc=\"http://creativecommons.org/ns#\" xmlns:dc=\"http://purl.org/dc/elements/1.1/\" xmlns:rdf=\"http://www.w3.org/1999/02/22-rdf-syntax-ns#\">\r\n   <cc:Work>\r\n    <dc:type rdf:resource=\"http://purl.org/dc/dcmitype/StillImage\"/>\r\n    <dc:date>2021-04-07T16:56:03.723017</dc:date>\r\n    <dc:format>image/svg+xml</dc:format>\r\n    <dc:creator>\r\n     <cc:Agent>\r\n      <dc:title>Matplotlib v3.3.4, https://matplotlib.org/</dc:title>\r\n     </cc:Agent>\r\n    </dc:creator>\r\n   </cc:Work>\r\n  </rdf:RDF>\r\n </metadata>\r\n <defs>\r\n  <style type=\"text/css\">*{stroke-linecap:butt;stroke-linejoin:round;}</style>\r\n </defs>\r\n <g id=\"figure_1\">\r\n  <g id=\"patch_1\">\r\n   <path d=\"M 0 259.116562 \r\nL 378.465625 259.116562 \r\nL 378.465625 0 \r\nL 0 0 \r\nz\r\n\" style=\"fill:none;\"/>\r\n  </g>\r\n  <g id=\"axes_1\">\r\n   <g id=\"patch_2\">\r\n    <path d=\"M 36.465625 235.238437 \r\nL 371.265625 235.238437 \r\nL 371.265625 17.798437 \r\nL 36.465625 17.798437 \r\nz\r\n\" style=\"fill:#ffffff;\"/>\r\n   </g>\r\n   <g id=\"patch_3\">\r\n    <path clip-path=\"url(#p67a8c12e79)\" d=\"M 51.683807 235.238437 \r\nL 82.12017 235.238437 \r\nL 82.12017 229.211266 \r\nL 51.683807 229.211266 \r\nz\r\n\" style=\"fill:#1f77b4;\"/>\r\n   </g>\r\n   <g id=\"patch_4\">\r\n    <path clip-path=\"url(#p67a8c12e79)\" d=\"M 82.12017 235.238437 \r\nL 112.556534 235.238437 \r\nL 112.556534 229.151459 \r\nL 82.12017 229.151459 \r\nz\r\n\" style=\"fill:#1f77b4;\"/>\r\n   </g>\r\n   <g id=\"patch_5\">\r\n    <path clip-path=\"url(#p67a8c12e79)\" d=\"M 112.556534 235.238437 \r\nL 142.992898 235.238437 \r\nL 142.992898 230.289063 \r\nL 112.556534 230.289063 \r\nz\r\n\" style=\"fill:#1f77b4;\"/>\r\n   </g>\r\n   <g id=\"patch_6\">\r\n    <path clip-path=\"url(#p67a8c12e79)\" d=\"M 142.992898 235.238437 \r\nL 173.429261 235.238437 \r\nL 173.429261 230.103151 \r\nL 142.992898 230.103151 \r\nz\r\n\" style=\"fill:#1f77b4;\"/>\r\n   </g>\r\n   <g id=\"patch_7\">\r\n    <path clip-path=\"url(#p67a8c12e79)\" d=\"M 173.429261 235.238437 \r\nL 203.865625 235.238437 \r\nL 203.865625 28.152723 \r\nL 173.429261 28.152723 \r\nz\r\n\" style=\"fill:#1f77b4;\"/>\r\n   </g>\r\n   <g id=\"patch_8\">\r\n    <path clip-path=\"url(#p67a8c12e79)\" d=\"M 203.865625 235.238437 \r\nL 234.301989 235.238437 \r\nL 234.301989 227.209126 \r\nL 203.865625 227.209126 \r\nz\r\n\" style=\"fill:#1f77b4;\"/>\r\n   </g>\r\n   <g id=\"patch_9\">\r\n    <path clip-path=\"url(#p67a8c12e79)\" d=\"M 234.301989 235.238437 \r\nL 264.738352 235.238437 \r\nL 264.738352 226.434086 \r\nL 234.301989 226.434086 \r\nz\r\n\" style=\"fill:#1f77b4;\"/>\r\n   </g>\r\n   <g id=\"patch_10\">\r\n    <path clip-path=\"url(#p67a8c12e79)\" d=\"M 264.738352 235.238437 \r\nL 295.174716 235.238437 \r\nL 295.174716 227.710033 \r\nL 264.738352 227.710033 \r\nz\r\n\" style=\"fill:#1f77b4;\"/>\r\n   </g>\r\n   <g id=\"patch_11\">\r\n    <path clip-path=\"url(#p67a8c12e79)\" d=\"M 295.174716 235.238437 \r\nL 325.61108 235.238437 \r\nL 325.61108 227.909779 \r\nL 295.174716 227.909779 \r\nz\r\n\" style=\"fill:#1f77b4;\"/>\r\n   </g>\r\n   <g id=\"patch_12\">\r\n    <path clip-path=\"url(#p67a8c12e79)\" d=\"M 325.61108 235.238437 \r\nL 356.047443 235.238437 \r\nL 356.047443 230.829558 \r\nL 325.61108 230.829558 \r\nz\r\n\" style=\"fill:#1f77b4;\"/>\r\n   </g>\r\n   <g id=\"matplotlib.axis_1\">\r\n    <g id=\"xtick_1\">\r\n     <g id=\"line2d_1\">\r\n      <path clip-path=\"url(#p67a8c12e79)\" d=\"M 50.920991 235.238437 \r\nL 50.920991 17.798437 \r\n\" style=\"fill:none;stroke:#b0b0b0;stroke-linecap:square;stroke-width:0.8;\"/>\r\n     </g>\r\n     <g id=\"line2d_2\">\r\n      <defs>\r\n       <path d=\"M 0 0 \r\nL 0 3.5 \r\n\" id=\"md7927d2969\" style=\"stroke:#000000;stroke-width:0.8;\"/>\r\n      </defs>\r\n      <g>\r\n       <use style=\"stroke:#000000;stroke-width:0.8;\" x=\"50.920991\" xlink:href=\"#md7927d2969\" y=\"235.238437\"/>\r\n      </g>\r\n     </g>\r\n     <g id=\"text_1\">\r\n      <!-- −10.0 -->\r\n      <g transform=\"translate(35.598334 249.836875)scale(0.1 -0.1)\">\r\n       <defs>\r\n        <path d=\"M 10.59375 35.5 \r\nL 73.1875 35.5 \r\nL 73.1875 27.203125 \r\nL 10.59375 27.203125 \r\nz\r\n\" id=\"DejaVuSans-8722\"/>\r\n        <path d=\"M 12.40625 8.296875 \r\nL 28.515625 8.296875 \r\nL 28.515625 63.921875 \r\nL 10.984375 60.40625 \r\nL 10.984375 69.390625 \r\nL 28.421875 72.90625 \r\nL 38.28125 72.90625 \r\nL 38.28125 8.296875 \r\nL 54.390625 8.296875 \r\nL 54.390625 0 \r\nL 12.40625 0 \r\nz\r\n\" id=\"DejaVuSans-49\"/>\r\n        <path d=\"M 31.78125 66.40625 \r\nQ 24.171875 66.40625 20.328125 58.90625 \r\nQ 16.5 51.421875 16.5 36.375 \r\nQ 16.5 21.390625 20.328125 13.890625 \r\nQ 24.171875 6.390625 31.78125 6.390625 \r\nQ 39.453125 6.390625 43.28125 13.890625 \r\nQ 47.125 21.390625 47.125 36.375 \r\nQ 47.125 51.421875 43.28125 58.90625 \r\nQ 39.453125 66.40625 31.78125 66.40625 \r\nz\r\nM 31.78125 74.21875 \r\nQ 44.046875 74.21875 50.515625 64.515625 \r\nQ 56.984375 54.828125 56.984375 36.375 \r\nQ 56.984375 17.96875 50.515625 8.265625 \r\nQ 44.046875 -1.421875 31.78125 -1.421875 \r\nQ 19.53125 -1.421875 13.0625 8.265625 \r\nQ 6.59375 17.96875 6.59375 36.375 \r\nQ 6.59375 54.828125 13.0625 64.515625 \r\nQ 19.53125 74.21875 31.78125 74.21875 \r\nz\r\n\" id=\"DejaVuSans-48\"/>\r\n        <path d=\"M 10.6875 12.40625 \r\nL 21 12.40625 \r\nL 21 0 \r\nL 10.6875 0 \r\nz\r\n\" id=\"DejaVuSans-46\"/>\r\n       </defs>\r\n       <use xlink:href=\"#DejaVuSans-8722\"/>\r\n       <use x=\"83.789062\" xlink:href=\"#DejaVuSans-49\"/>\r\n       <use x=\"147.412109\" xlink:href=\"#DejaVuSans-48\"/>\r\n       <use x=\"211.035156\" xlink:href=\"#DejaVuSans-46\"/>\r\n       <use x=\"242.822266\" xlink:href=\"#DejaVuSans-48\"/>\r\n      </g>\r\n     </g>\r\n    </g>\r\n    <g id=\"xtick_2\">\r\n     <g id=\"line2d_3\">\r\n      <path clip-path=\"url(#p67a8c12e79)\" d=\"M 89.061797 235.238437 \r\nL 89.061797 17.798437 \r\n\" style=\"fill:none;stroke:#b0b0b0;stroke-linecap:square;stroke-width:0.8;\"/>\r\n     </g>\r\n     <g id=\"line2d_4\">\r\n      <g>\r\n       <use style=\"stroke:#000000;stroke-width:0.8;\" x=\"89.061797\" xlink:href=\"#md7927d2969\" y=\"235.238437\"/>\r\n      </g>\r\n     </g>\r\n     <g id=\"text_2\">\r\n      <!-- −7.5 -->\r\n      <g transform=\"translate(76.920391 249.836875)scale(0.1 -0.1)\">\r\n       <defs>\r\n        <path d=\"M 8.203125 72.90625 \r\nL 55.078125 72.90625 \r\nL 55.078125 68.703125 \r\nL 28.609375 0 \r\nL 18.3125 0 \r\nL 43.21875 64.59375 \r\nL 8.203125 64.59375 \r\nz\r\n\" id=\"DejaVuSans-55\"/>\r\n        <path d=\"M 10.796875 72.90625 \r\nL 49.515625 72.90625 \r\nL 49.515625 64.59375 \r\nL 19.828125 64.59375 \r\nL 19.828125 46.734375 \r\nQ 21.96875 47.46875 24.109375 47.828125 \r\nQ 26.265625 48.1875 28.421875 48.1875 \r\nQ 40.625 48.1875 47.75 41.5 \r\nQ 54.890625 34.8125 54.890625 23.390625 \r\nQ 54.890625 11.625 47.5625 5.09375 \r\nQ 40.234375 -1.421875 26.90625 -1.421875 \r\nQ 22.3125 -1.421875 17.546875 -0.640625 \r\nQ 12.796875 0.140625 7.71875 1.703125 \r\nL 7.71875 11.625 \r\nQ 12.109375 9.234375 16.796875 8.0625 \r\nQ 21.484375 6.890625 26.703125 6.890625 \r\nQ 35.15625 6.890625 40.078125 11.328125 \r\nQ 45.015625 15.765625 45.015625 23.390625 \r\nQ 45.015625 31 40.078125 35.4375 \r\nQ 35.15625 39.890625 26.703125 39.890625 \r\nQ 22.75 39.890625 18.8125 39.015625 \r\nQ 14.890625 38.140625 10.796875 36.28125 \r\nz\r\n\" id=\"DejaVuSans-53\"/>\r\n       </defs>\r\n       <use xlink:href=\"#DejaVuSans-8722\"/>\r\n       <use x=\"83.789062\" xlink:href=\"#DejaVuSans-55\"/>\r\n       <use x=\"147.412109\" xlink:href=\"#DejaVuSans-46\"/>\r\n       <use x=\"179.199219\" xlink:href=\"#DejaVuSans-53\"/>\r\n      </g>\r\n     </g>\r\n    </g>\r\n    <g id=\"xtick_3\">\r\n     <g id=\"line2d_5\">\r\n      <path clip-path=\"url(#p67a8c12e79)\" d=\"M 127.202604 235.238437 \r\nL 127.202604 17.798437 \r\n\" style=\"fill:none;stroke:#b0b0b0;stroke-linecap:square;stroke-width:0.8;\"/>\r\n     </g>\r\n     <g id=\"line2d_6\">\r\n      <g>\r\n       <use style=\"stroke:#000000;stroke-width:0.8;\" x=\"127.202604\" xlink:href=\"#md7927d2969\" y=\"235.238437\"/>\r\n      </g>\r\n     </g>\r\n     <g id=\"text_3\">\r\n      <!-- −5.0 -->\r\n      <g transform=\"translate(115.061198 249.836875)scale(0.1 -0.1)\">\r\n       <use xlink:href=\"#DejaVuSans-8722\"/>\r\n       <use x=\"83.789062\" xlink:href=\"#DejaVuSans-53\"/>\r\n       <use x=\"147.412109\" xlink:href=\"#DejaVuSans-46\"/>\r\n       <use x=\"179.199219\" xlink:href=\"#DejaVuSans-48\"/>\r\n      </g>\r\n     </g>\r\n    </g>\r\n    <g id=\"xtick_4\">\r\n     <g id=\"line2d_7\">\r\n      <path clip-path=\"url(#p67a8c12e79)\" d=\"M 165.34341 235.238437 \r\nL 165.34341 17.798437 \r\n\" style=\"fill:none;stroke:#b0b0b0;stroke-linecap:square;stroke-width:0.8;\"/>\r\n     </g>\r\n     <g id=\"line2d_8\">\r\n      <g>\r\n       <use style=\"stroke:#000000;stroke-width:0.8;\" x=\"165.34341\" xlink:href=\"#md7927d2969\" y=\"235.238437\"/>\r\n      </g>\r\n     </g>\r\n     <g id=\"text_4\">\r\n      <!-- −2.5 -->\r\n      <g transform=\"translate(153.202004 249.836875)scale(0.1 -0.1)\">\r\n       <defs>\r\n        <path d=\"M 19.1875 8.296875 \r\nL 53.609375 8.296875 \r\nL 53.609375 0 \r\nL 7.328125 0 \r\nL 7.328125 8.296875 \r\nQ 12.9375 14.109375 22.625 23.890625 \r\nQ 32.328125 33.6875 34.8125 36.53125 \r\nQ 39.546875 41.84375 41.421875 45.53125 \r\nQ 43.3125 49.21875 43.3125 52.78125 \r\nQ 43.3125 58.59375 39.234375 62.25 \r\nQ 35.15625 65.921875 28.609375 65.921875 \r\nQ 23.96875 65.921875 18.8125 64.3125 \r\nQ 13.671875 62.703125 7.8125 59.421875 \r\nL 7.8125 69.390625 \r\nQ 13.765625 71.78125 18.9375 73 \r\nQ 24.125 74.21875 28.421875 74.21875 \r\nQ 39.75 74.21875 46.484375 68.546875 \r\nQ 53.21875 62.890625 53.21875 53.421875 \r\nQ 53.21875 48.921875 51.53125 44.890625 \r\nQ 49.859375 40.875 45.40625 35.40625 \r\nQ 44.1875 33.984375 37.640625 27.21875 \r\nQ 31.109375 20.453125 19.1875 8.296875 \r\nz\r\n\" id=\"DejaVuSans-50\"/>\r\n       </defs>\r\n       <use xlink:href=\"#DejaVuSans-8722\"/>\r\n       <use x=\"83.789062\" xlink:href=\"#DejaVuSans-50\"/>\r\n       <use x=\"147.412109\" xlink:href=\"#DejaVuSans-46\"/>\r\n       <use x=\"179.199219\" xlink:href=\"#DejaVuSans-53\"/>\r\n      </g>\r\n     </g>\r\n    </g>\r\n    <g id=\"xtick_5\">\r\n     <g id=\"line2d_9\">\r\n      <path clip-path=\"url(#p67a8c12e79)\" d=\"M 203.484217 235.238437 \r\nL 203.484217 17.798437 \r\n\" style=\"fill:none;stroke:#b0b0b0;stroke-linecap:square;stroke-width:0.8;\"/>\r\n     </g>\r\n     <g id=\"line2d_10\">\r\n      <g>\r\n       <use style=\"stroke:#000000;stroke-width:0.8;\" x=\"203.484217\" xlink:href=\"#md7927d2969\" y=\"235.238437\"/>\r\n      </g>\r\n     </g>\r\n     <g id=\"text_5\">\r\n      <!-- 0.0 -->\r\n      <g transform=\"translate(195.532654 249.836875)scale(0.1 -0.1)\">\r\n       <use xlink:href=\"#DejaVuSans-48\"/>\r\n       <use x=\"63.623047\" xlink:href=\"#DejaVuSans-46\"/>\r\n       <use x=\"95.410156\" xlink:href=\"#DejaVuSans-48\"/>\r\n      </g>\r\n     </g>\r\n    </g>\r\n    <g id=\"xtick_6\">\r\n     <g id=\"line2d_11\">\r\n      <path clip-path=\"url(#p67a8c12e79)\" d=\"M 241.625023 235.238437 \r\nL 241.625023 17.798437 \r\n\" style=\"fill:none;stroke:#b0b0b0;stroke-linecap:square;stroke-width:0.8;\"/>\r\n     </g>\r\n     <g id=\"line2d_12\">\r\n      <g>\r\n       <use style=\"stroke:#000000;stroke-width:0.8;\" x=\"241.625023\" xlink:href=\"#md7927d2969\" y=\"235.238437\"/>\r\n      </g>\r\n     </g>\r\n     <g id=\"text_6\">\r\n      <!-- 2.5 -->\r\n      <g transform=\"translate(233.673461 249.836875)scale(0.1 -0.1)\">\r\n       <use xlink:href=\"#DejaVuSans-50\"/>\r\n       <use x=\"63.623047\" xlink:href=\"#DejaVuSans-46\"/>\r\n       <use x=\"95.410156\" xlink:href=\"#DejaVuSans-53\"/>\r\n      </g>\r\n     </g>\r\n    </g>\r\n    <g id=\"xtick_7\">\r\n     <g id=\"line2d_13\">\r\n      <path clip-path=\"url(#p67a8c12e79)\" d=\"M 279.76583 235.238437 \r\nL 279.76583 17.798437 \r\n\" style=\"fill:none;stroke:#b0b0b0;stroke-linecap:square;stroke-width:0.8;\"/>\r\n     </g>\r\n     <g id=\"line2d_14\">\r\n      <g>\r\n       <use style=\"stroke:#000000;stroke-width:0.8;\" x=\"279.76583\" xlink:href=\"#md7927d2969\" y=\"235.238437\"/>\r\n      </g>\r\n     </g>\r\n     <g id=\"text_7\">\r\n      <!-- 5.0 -->\r\n      <g transform=\"translate(271.814268 249.836875)scale(0.1 -0.1)\">\r\n       <use xlink:href=\"#DejaVuSans-53\"/>\r\n       <use x=\"63.623047\" xlink:href=\"#DejaVuSans-46\"/>\r\n       <use x=\"95.410156\" xlink:href=\"#DejaVuSans-48\"/>\r\n      </g>\r\n     </g>\r\n    </g>\r\n    <g id=\"xtick_8\">\r\n     <g id=\"line2d_15\">\r\n      <path clip-path=\"url(#p67a8c12e79)\" d=\"M 317.906637 235.238437 \r\nL 317.906637 17.798437 \r\n\" style=\"fill:none;stroke:#b0b0b0;stroke-linecap:square;stroke-width:0.8;\"/>\r\n     </g>\r\n     <g id=\"line2d_16\">\r\n      <g>\r\n       <use style=\"stroke:#000000;stroke-width:0.8;\" x=\"317.906637\" xlink:href=\"#md7927d2969\" y=\"235.238437\"/>\r\n      </g>\r\n     </g>\r\n     <g id=\"text_8\">\r\n      <!-- 7.5 -->\r\n      <g transform=\"translate(309.955074 249.836875)scale(0.1 -0.1)\">\r\n       <use xlink:href=\"#DejaVuSans-55\"/>\r\n       <use x=\"63.623047\" xlink:href=\"#DejaVuSans-46\"/>\r\n       <use x=\"95.410156\" xlink:href=\"#DejaVuSans-53\"/>\r\n      </g>\r\n     </g>\r\n    </g>\r\n    <g id=\"xtick_9\">\r\n     <g id=\"line2d_17\">\r\n      <path clip-path=\"url(#p67a8c12e79)\" d=\"M 356.047443 235.238437 \r\nL 356.047443 17.798437 \r\n\" style=\"fill:none;stroke:#b0b0b0;stroke-linecap:square;stroke-width:0.8;\"/>\r\n     </g>\r\n     <g id=\"line2d_18\">\r\n      <g>\r\n       <use style=\"stroke:#000000;stroke-width:0.8;\" x=\"356.047443\" xlink:href=\"#md7927d2969\" y=\"235.238437\"/>\r\n      </g>\r\n     </g>\r\n     <g id=\"text_9\">\r\n      <!-- 10.0 -->\r\n      <g transform=\"translate(344.914631 249.836875)scale(0.1 -0.1)\">\r\n       <use xlink:href=\"#DejaVuSans-49\"/>\r\n       <use x=\"63.623047\" xlink:href=\"#DejaVuSans-48\"/>\r\n       <use x=\"127.246094\" xlink:href=\"#DejaVuSans-46\"/>\r\n       <use x=\"159.033203\" xlink:href=\"#DejaVuSans-48\"/>\r\n      </g>\r\n     </g>\r\n    </g>\r\n   </g>\r\n   <g id=\"matplotlib.axis_2\">\r\n    <g id=\"ytick_1\">\r\n     <g id=\"line2d_19\">\r\n      <path clip-path=\"url(#p67a8c12e79)\" d=\"M 36.465625 235.238437 \r\nL 371.265625 235.238437 \r\n\" style=\"fill:none;stroke:#b0b0b0;stroke-linecap:square;stroke-width:0.8;\"/>\r\n     </g>\r\n     <g id=\"line2d_20\">\r\n      <defs>\r\n       <path d=\"M 0 0 \r\nL -3.5 0 \r\n\" id=\"mb5e5a7861b\" style=\"stroke:#000000;stroke-width:0.8;\"/>\r\n      </defs>\r\n      <g>\r\n       <use style=\"stroke:#000000;stroke-width:0.8;\" x=\"36.465625\" xlink:href=\"#mb5e5a7861b\" y=\"235.238437\"/>\r\n      </g>\r\n     </g>\r\n     <g id=\"text_10\">\r\n      <!-- 0.00 -->\r\n      <g transform=\"translate(7.2 239.037656)scale(0.1 -0.1)\">\r\n       <use xlink:href=\"#DejaVuSans-48\"/>\r\n       <use x=\"63.623047\" xlink:href=\"#DejaVuSans-46\"/>\r\n       <use x=\"95.410156\" xlink:href=\"#DejaVuSans-48\"/>\r\n       <use x=\"159.033203\" xlink:href=\"#DejaVuSans-48\"/>\r\n      </g>\r\n     </g>\r\n    </g>\r\n    <g id=\"ytick_2\">\r\n     <g id=\"line2d_21\">\r\n      <path clip-path=\"url(#p67a8c12e79)\" d=\"M 36.465625 208.634045 \r\nL 371.265625 208.634045 \r\n\" style=\"fill:none;stroke:#b0b0b0;stroke-linecap:square;stroke-width:0.8;\"/>\r\n     </g>\r\n     <g id=\"line2d_22\">\r\n      <g>\r\n       <use style=\"stroke:#000000;stroke-width:0.8;\" x=\"36.465625\" xlink:href=\"#mb5e5a7861b\" y=\"208.634045\"/>\r\n      </g>\r\n     </g>\r\n     <g id=\"text_11\">\r\n      <!-- 0.25 -->\r\n      <g transform=\"translate(7.2 212.433264)scale(0.1 -0.1)\">\r\n       <use xlink:href=\"#DejaVuSans-48\"/>\r\n       <use x=\"63.623047\" xlink:href=\"#DejaVuSans-46\"/>\r\n       <use x=\"95.410156\" xlink:href=\"#DejaVuSans-50\"/>\r\n       <use x=\"159.033203\" xlink:href=\"#DejaVuSans-53\"/>\r\n      </g>\r\n     </g>\r\n    </g>\r\n    <g id=\"ytick_3\">\r\n     <g id=\"line2d_23\">\r\n      <path clip-path=\"url(#p67a8c12e79)\" d=\"M 36.465625 182.029653 \r\nL 371.265625 182.029653 \r\n\" style=\"fill:none;stroke:#b0b0b0;stroke-linecap:square;stroke-width:0.8;\"/>\r\n     </g>\r\n     <g id=\"line2d_24\">\r\n      <g>\r\n       <use style=\"stroke:#000000;stroke-width:0.8;\" x=\"36.465625\" xlink:href=\"#mb5e5a7861b\" y=\"182.029653\"/>\r\n      </g>\r\n     </g>\r\n     <g id=\"text_12\">\r\n      <!-- 0.50 -->\r\n      <g transform=\"translate(7.2 185.828872)scale(0.1 -0.1)\">\r\n       <use xlink:href=\"#DejaVuSans-48\"/>\r\n       <use x=\"63.623047\" xlink:href=\"#DejaVuSans-46\"/>\r\n       <use x=\"95.410156\" xlink:href=\"#DejaVuSans-53\"/>\r\n       <use x=\"159.033203\" xlink:href=\"#DejaVuSans-48\"/>\r\n      </g>\r\n     </g>\r\n    </g>\r\n    <g id=\"ytick_4\">\r\n     <g id=\"line2d_25\">\r\n      <path clip-path=\"url(#p67a8c12e79)\" d=\"M 36.465625 155.425261 \r\nL 371.265625 155.425261 \r\n\" style=\"fill:none;stroke:#b0b0b0;stroke-linecap:square;stroke-width:0.8;\"/>\r\n     </g>\r\n     <g id=\"line2d_26\">\r\n      <g>\r\n       <use style=\"stroke:#000000;stroke-width:0.8;\" x=\"36.465625\" xlink:href=\"#mb5e5a7861b\" y=\"155.425261\"/>\r\n      </g>\r\n     </g>\r\n     <g id=\"text_13\">\r\n      <!-- 0.75 -->\r\n      <g transform=\"translate(7.2 159.22448)scale(0.1 -0.1)\">\r\n       <use xlink:href=\"#DejaVuSans-48\"/>\r\n       <use x=\"63.623047\" xlink:href=\"#DejaVuSans-46\"/>\r\n       <use x=\"95.410156\" xlink:href=\"#DejaVuSans-55\"/>\r\n       <use x=\"159.033203\" xlink:href=\"#DejaVuSans-53\"/>\r\n      </g>\r\n     </g>\r\n    </g>\r\n    <g id=\"ytick_5\">\r\n     <g id=\"line2d_27\">\r\n      <path clip-path=\"url(#p67a8c12e79)\" d=\"M 36.465625 128.820869 \r\nL 371.265625 128.820869 \r\n\" style=\"fill:none;stroke:#b0b0b0;stroke-linecap:square;stroke-width:0.8;\"/>\r\n     </g>\r\n     <g id=\"line2d_28\">\r\n      <g>\r\n       <use style=\"stroke:#000000;stroke-width:0.8;\" x=\"36.465625\" xlink:href=\"#mb5e5a7861b\" y=\"128.820869\"/>\r\n      </g>\r\n     </g>\r\n     <g id=\"text_14\">\r\n      <!-- 1.00 -->\r\n      <g transform=\"translate(7.2 132.620088)scale(0.1 -0.1)\">\r\n       <use xlink:href=\"#DejaVuSans-49\"/>\r\n       <use x=\"63.623047\" xlink:href=\"#DejaVuSans-46\"/>\r\n       <use x=\"95.410156\" xlink:href=\"#DejaVuSans-48\"/>\r\n       <use x=\"159.033203\" xlink:href=\"#DejaVuSans-48\"/>\r\n      </g>\r\n     </g>\r\n    </g>\r\n    <g id=\"ytick_6\">\r\n     <g id=\"line2d_29\">\r\n      <path clip-path=\"url(#p67a8c12e79)\" d=\"M 36.465625 102.216477 \r\nL 371.265625 102.216477 \r\n\" style=\"fill:none;stroke:#b0b0b0;stroke-linecap:square;stroke-width:0.8;\"/>\r\n     </g>\r\n     <g id=\"line2d_30\">\r\n      <g>\r\n       <use style=\"stroke:#000000;stroke-width:0.8;\" x=\"36.465625\" xlink:href=\"#mb5e5a7861b\" y=\"102.216477\"/>\r\n      </g>\r\n     </g>\r\n     <g id=\"text_15\">\r\n      <!-- 1.25 -->\r\n      <g transform=\"translate(7.2 106.015696)scale(0.1 -0.1)\">\r\n       <use xlink:href=\"#DejaVuSans-49\"/>\r\n       <use x=\"63.623047\" xlink:href=\"#DejaVuSans-46\"/>\r\n       <use x=\"95.410156\" xlink:href=\"#DejaVuSans-50\"/>\r\n       <use x=\"159.033203\" xlink:href=\"#DejaVuSans-53\"/>\r\n      </g>\r\n     </g>\r\n    </g>\r\n    <g id=\"ytick_7\">\r\n     <g id=\"line2d_31\">\r\n      <path clip-path=\"url(#p67a8c12e79)\" d=\"M 36.465625 75.612085 \r\nL 371.265625 75.612085 \r\n\" style=\"fill:none;stroke:#b0b0b0;stroke-linecap:square;stroke-width:0.8;\"/>\r\n     </g>\r\n     <g id=\"line2d_32\">\r\n      <g>\r\n       <use style=\"stroke:#000000;stroke-width:0.8;\" x=\"36.465625\" xlink:href=\"#mb5e5a7861b\" y=\"75.612085\"/>\r\n      </g>\r\n     </g>\r\n     <g id=\"text_16\">\r\n      <!-- 1.50 -->\r\n      <g transform=\"translate(7.2 79.411304)scale(0.1 -0.1)\">\r\n       <use xlink:href=\"#DejaVuSans-49\"/>\r\n       <use x=\"63.623047\" xlink:href=\"#DejaVuSans-46\"/>\r\n       <use x=\"95.410156\" xlink:href=\"#DejaVuSans-53\"/>\r\n       <use x=\"159.033203\" xlink:href=\"#DejaVuSans-48\"/>\r\n      </g>\r\n     </g>\r\n    </g>\r\n    <g id=\"ytick_8\">\r\n     <g id=\"line2d_33\">\r\n      <path clip-path=\"url(#p67a8c12e79)\" d=\"M 36.465625 49.007693 \r\nL 371.265625 49.007693 \r\n\" style=\"fill:none;stroke:#b0b0b0;stroke-linecap:square;stroke-width:0.8;\"/>\r\n     </g>\r\n     <g id=\"line2d_34\">\r\n      <g>\r\n       <use style=\"stroke:#000000;stroke-width:0.8;\" x=\"36.465625\" xlink:href=\"#mb5e5a7861b\" y=\"49.007693\"/>\r\n      </g>\r\n     </g>\r\n     <g id=\"text_17\">\r\n      <!-- 1.75 -->\r\n      <g transform=\"translate(7.2 52.806912)scale(0.1 -0.1)\">\r\n       <use xlink:href=\"#DejaVuSans-49\"/>\r\n       <use x=\"63.623047\" xlink:href=\"#DejaVuSans-46\"/>\r\n       <use x=\"95.410156\" xlink:href=\"#DejaVuSans-55\"/>\r\n       <use x=\"159.033203\" xlink:href=\"#DejaVuSans-53\"/>\r\n      </g>\r\n     </g>\r\n    </g>\r\n    <g id=\"ytick_9\">\r\n     <g id=\"line2d_35\">\r\n      <path clip-path=\"url(#p67a8c12e79)\" d=\"M 36.465625 22.403301 \r\nL 371.265625 22.403301 \r\n\" style=\"fill:none;stroke:#b0b0b0;stroke-linecap:square;stroke-width:0.8;\"/>\r\n     </g>\r\n     <g id=\"line2d_36\">\r\n      <g>\r\n       <use style=\"stroke:#000000;stroke-width:0.8;\" x=\"36.465625\" xlink:href=\"#mb5e5a7861b\" y=\"22.403301\"/>\r\n      </g>\r\n     </g>\r\n     <g id=\"text_18\">\r\n      <!-- 2.00 -->\r\n      <g transform=\"translate(7.2 26.20252)scale(0.1 -0.1)\">\r\n       <use xlink:href=\"#DejaVuSans-50\"/>\r\n       <use x=\"63.623047\" xlink:href=\"#DejaVuSans-46\"/>\r\n       <use x=\"95.410156\" xlink:href=\"#DejaVuSans-48\"/>\r\n       <use x=\"159.033203\" xlink:href=\"#DejaVuSans-48\"/>\r\n      </g>\r\n     </g>\r\n    </g>\r\n    <g id=\"text_19\">\r\n     <!-- 1e6 -->\r\n     <g transform=\"translate(36.465625 14.798437)scale(0.1 -0.1)\">\r\n      <defs>\r\n       <path d=\"M 56.203125 29.59375 \r\nL 56.203125 25.203125 \r\nL 14.890625 25.203125 \r\nQ 15.484375 15.921875 20.484375 11.0625 \r\nQ 25.484375 6.203125 34.421875 6.203125 \r\nQ 39.59375 6.203125 44.453125 7.46875 \r\nQ 49.3125 8.734375 54.109375 11.28125 \r\nL 54.109375 2.78125 \r\nQ 49.265625 0.734375 44.1875 -0.34375 \r\nQ 39.109375 -1.421875 33.890625 -1.421875 \r\nQ 20.796875 -1.421875 13.15625 6.1875 \r\nQ 5.515625 13.8125 5.515625 26.8125 \r\nQ 5.515625 40.234375 12.765625 48.109375 \r\nQ 20.015625 56 32.328125 56 \r\nQ 43.359375 56 49.78125 48.890625 \r\nQ 56.203125 41.796875 56.203125 29.59375 \r\nz\r\nM 47.21875 32.234375 \r\nQ 47.125 39.59375 43.09375 43.984375 \r\nQ 39.0625 48.390625 32.421875 48.390625 \r\nQ 24.90625 48.390625 20.390625 44.140625 \r\nQ 15.875 39.890625 15.1875 32.171875 \r\nz\r\n\" id=\"DejaVuSans-101\"/>\r\n       <path d=\"M 33.015625 40.375 \r\nQ 26.375 40.375 22.484375 35.828125 \r\nQ 18.609375 31.296875 18.609375 23.390625 \r\nQ 18.609375 15.53125 22.484375 10.953125 \r\nQ 26.375 6.390625 33.015625 6.390625 \r\nQ 39.65625 6.390625 43.53125 10.953125 \r\nQ 47.40625 15.53125 47.40625 23.390625 \r\nQ 47.40625 31.296875 43.53125 35.828125 \r\nQ 39.65625 40.375 33.015625 40.375 \r\nz\r\nM 52.59375 71.296875 \r\nL 52.59375 62.3125 \r\nQ 48.875 64.0625 45.09375 64.984375 \r\nQ 41.3125 65.921875 37.59375 65.921875 \r\nQ 27.828125 65.921875 22.671875 59.328125 \r\nQ 17.53125 52.734375 16.796875 39.40625 \r\nQ 19.671875 43.65625 24.015625 45.921875 \r\nQ 28.375 48.1875 33.59375 48.1875 \r\nQ 44.578125 48.1875 50.953125 41.515625 \r\nQ 57.328125 34.859375 57.328125 23.390625 \r\nQ 57.328125 12.15625 50.6875 5.359375 \r\nQ 44.046875 -1.421875 33.015625 -1.421875 \r\nQ 20.359375 -1.421875 13.671875 8.265625 \r\nQ 6.984375 17.96875 6.984375 36.375 \r\nQ 6.984375 53.65625 15.1875 63.9375 \r\nQ 23.390625 74.21875 37.203125 74.21875 \r\nQ 40.921875 74.21875 44.703125 73.484375 \r\nQ 48.484375 72.75 52.59375 71.296875 \r\nz\r\n\" id=\"DejaVuSans-54\"/>\r\n      </defs>\r\n      <use xlink:href=\"#DejaVuSans-49\"/>\r\n      <use x=\"63.623047\" xlink:href=\"#DejaVuSans-101\"/>\r\n      <use x=\"125.146484\" xlink:href=\"#DejaVuSans-54\"/>\r\n     </g>\r\n    </g>\r\n   </g>\r\n   <g id=\"patch_13\">\r\n    <path d=\"M 36.465625 235.238437 \r\nL 36.465625 17.798438 \r\n\" style=\"fill:none;stroke:#000000;stroke-linecap:square;stroke-linejoin:miter;stroke-width:0.8;\"/>\r\n   </g>\r\n   <g id=\"patch_14\">\r\n    <path d=\"M 371.265625 235.238437 \r\nL 371.265625 17.798438 \r\n\" style=\"fill:none;stroke:#000000;stroke-linecap:square;stroke-linejoin:miter;stroke-width:0.8;\"/>\r\n   </g>\r\n   <g id=\"patch_15\">\r\n    <path d=\"M 36.465625 235.238437 \r\nL 371.265625 235.238437 \r\n\" style=\"fill:none;stroke:#000000;stroke-linecap:square;stroke-linejoin:miter;stroke-width:0.8;\"/>\r\n   </g>\r\n   <g id=\"patch_16\">\r\n    <path d=\"M 36.465625 17.798437 \r\nL 371.265625 17.798437 \r\n\" style=\"fill:none;stroke:#000000;stroke-linecap:square;stroke-linejoin:miter;stroke-width:0.8;\"/>\r\n   </g>\r\n  </g>\r\n </g>\r\n <defs>\r\n  <clipPath id=\"p67a8c12e79\">\r\n   <rect height=\"217.44\" width=\"334.8\" x=\"36.465625\" y=\"17.798437\"/>\r\n  </clipPath>\r\n </defs>\r\n</svg>\r\n",
      "image/png": "[encoded data removed]"
     },
     "metadata": {
      "needs_background": "light"
     }
    }
   ],
   "source": [
    "df['rating'].hist()"
   ]
  },
  {
   "cell_type": "code",
   "execution_count": null,
   "metadata": {},
   "outputs": [],
   "source": []
  },
  {
   "cell_type": "code",
   "execution_count": 6,
   "metadata": {},
   "outputs": [
    {
     "output_type": "execute_result",
     "data": {
      "text/plain": [
       "       Rate_count     1      2     3     4     5      6      7     8     9  \\\n",
       "0              26  99.0  99.00  99.0  99.0 -1.65  99.00  -0.78  6.89  99.0   \n",
       "1              33  99.0  99.00  99.0  99.0 -9.27  99.00  -9.17 -8.59  99.0   \n",
       "2              16  99.0  99.00  99.0  99.0 -6.12  99.00  -7.48 -7.77  99.0   \n",
       "3              24  99.0   0.05  99.0  99.0 -2.82  99.00  -4.85 -0.87  99.0   \n",
       "4              22  99.0  99.00  99.0  99.0 -4.95  99.00   6.21  2.72  99.0   \n",
       "...           ...   ...    ...   ...   ...   ...    ...    ...   ...   ...   \n",
       "24933          21  99.0  99.00  99.0  99.0  5.78   8.45  99.00  8.20  99.0   \n",
       "24934          16  99.0  99.00  99.0  99.0  5.24  99.00  99.00  5.68  99.0   \n",
       "24935          35  99.0  99.00  99.0  99.0 -3.93  99.00  -9.03 -2.67  99.0   \n",
       "24936          21  99.0  99.00  99.0  99.0  9.42   9.66  99.00  9.17  99.0   \n",
       "24937          35  99.0  99.00  99.0  99.0  0.19  99.00  -1.50  7.82  99.0   \n",
       "\n",
       "       ...    92     93    94     95    96    97    98     99   100  userId  \n",
       "0      ...  99.0  99.00  99.0  99.00  99.0  99.0  99.0  99.00  99.0       1  \n",
       "1      ...  99.0  -2.77  99.0  99.00  99.0  99.0  99.0  99.00  99.0       2  \n",
       "2      ...  99.0  99.00  99.0  99.00  99.0  99.0  99.0  99.00  99.0       3  \n",
       "3      ...  99.0  99.00  99.0   1.84  99.0  99.0  99.0  -4.08  99.0       4  \n",
       "4      ...  99.0  99.00  99.0  99.00  99.0  99.0  99.0  99.00  99.0       5  \n",
       "...    ...   ...    ...   ...    ...   ...   ...   ...    ...   ...     ...  \n",
       "24933  ...  99.0  99.00  99.0  99.00  99.0  99.0  99.0  99.00  99.0   24934  \n",
       "24934  ...  99.0  99.00  99.0  99.00  99.0  99.0  99.0  99.00  99.0   24935  \n",
       "24935  ...  99.0  99.00  99.0  99.00  99.0  99.0  99.0  99.00  99.0   24936  \n",
       "24936  ...  99.0  99.00  99.0  99.00  99.0  99.0  99.0  99.00  99.0   24937  \n",
       "24937  ...  99.0  99.00  99.0  99.00  99.0  99.0  99.0  99.00  99.0   24938  \n",
       "\n",
       "[24938 rows x 102 columns]"
      ],
      "text/html": "<div>\n<style scoped>\n    .dataframe tbody tr th:only-of-type {\n        vertical-align: middle;\n    }\n\n    .dataframe tbody tr th {\n        vertical-align: top;\n    }\n\n    .dataframe thead th {\n        text-align: right;\n    }\n</style>\n<table border=\"1\" class=\"dataframe\">\n  <thead>\n    <tr style=\"text-align: right;\">\n      <th></th>\n      <th>Rate_count</th>\n      <th>1</th>\n      <th>2</th>\n      <th>3</th>\n      <th>4</th>\n      <th>5</th>\n      <th>6</th>\n      <th>7</th>\n      <th>8</th>\n      <th>9</th>\n      <th>...</th>\n      <th>92</th>\n      <th>93</th>\n      <th>94</th>\n      <th>95</th>\n      <th>96</th>\n      <th>97</th>\n      <th>98</th>\n      <th>99</th>\n      <th>100</th>\n      <th>userId</th>\n    </tr>\n  </thead>\n  <tbody>\n    <tr>\n      <th>0</th>\n      <td>26</td>\n      <td>99.0</td>\n      <td>99.00</td>\n      <td>99.0</td>\n      <td>99.0</td>\n      <td>-1.65</td>\n      <td>99.00</td>\n      <td>-0.78</td>\n      <td>6.89</td>\n      <td>99.0</td>\n      <td>...</td>\n      <td>99.0</td>\n      <td>99.00</td>\n      <td>99.0</td>\n      <td>99.00</td>\n      <td>99.0</td>\n      <td>99.0</td>\n      <td>99.0</td>\n      <td>99.00</td>\n      <td>99.0</td>\n      <td>1</td>\n    </tr>\n    <tr>\n      <th>1</th>\n      <td>33</td>\n      <td>99.0</td>\n      <td>99.00</td>\n      <td>99.0</td>\n      <td>99.0</td>\n      <td>-9.27</td>\n      <td>99.00</td>\n      <td>-9.17</td>\n      <td>-8.59</td>\n      <td>99.0</td>\n      <td>...</td>\n      <td>99.0</td>\n      <td>-2.77</td>\n      <td>99.0</td>\n      <td>99.00</td>\n      <td>99.0</td>\n      <td>99.0</td>\n      <td>99.0</td>\n      <td>99.00</td>\n      <td>99.0</td>\n      <td>2</td>\n    </tr>\n    <tr>\n      <th>2</th>\n      <td>16</td>\n      <td>99.0</td>\n      <td>99.00</td>\n      <td>99.0</td>\n      <td>99.0</td>\n      <td>-6.12</td>\n      <td>99.00</td>\n      <td>-7.48</td>\n      <td>-7.77</td>\n      <td>99.0</td>\n      <td>...</td>\n      <td>99.0</td>\n      <td>99.00</td>\n      <td>99.0</td>\n      <td>99.00</td>\n      <td>99.0</td>\n      <td>99.0</td>\n      <td>99.0</td>\n      <td>99.00</td>\n      <td>99.0</td>\n      <td>3</td>\n    </tr>\n    <tr>\n      <th>3</th>\n      <td>24</td>\n      <td>99.0</td>\n      <td>0.05</td>\n      <td>99.0</td>\n      <td>99.0</td>\n      <td>-2.82</td>\n      <td>99.00</td>\n      <td>-4.85</td>\n      <td>-0.87</td>\n      <td>99.0</td>\n      <td>...</td>\n      <td>99.0</td>\n      <td>99.00</td>\n      <td>99.0</td>\n      <td>1.84</td>\n      <td>99.0</td>\n      <td>99.0</td>\n      <td>99.0</td>\n      <td>-4.08</td>\n      <td>99.0</td>\n      <td>4</td>\n    </tr>\n    <tr>\n      <th>4</th>\n      <td>22</td>\n      <td>99.0</td>\n      <td>99.00</td>\n      <td>99.0</td>\n      <td>99.0</td>\n      <td>-4.95</td>\n      <td>99.00</td>\n      <td>6.21</td>\n      <td>2.72</td>\n      <td>99.0</td>\n      <td>...</td>\n      <td>99.0</td>\n      <td>99.00</td>\n      <td>99.0</td>\n      <td>99.00</td>\n      <td>99.0</td>\n      <td>99.0</td>\n      <td>99.0</td>\n      <td>99.00</td>\n      <td>99.0</td>\n      <td>5</td>\n    </tr>\n    <tr>\n      <th>...</th>\n      <td>...</td>\n      <td>...</td>\n      <td>...</td>\n      <td>...</td>\n      <td>...</td>\n      <td>...</td>\n      <td>...</td>\n      <td>...</td>\n      <td>...</td>\n      <td>...</td>\n      <td>...</td>\n      <td>...</td>\n      <td>...</td>\n      <td>...</td>\n      <td>...</td>\n      <td>...</td>\n      <td>...</td>\n      <td>...</td>\n      <td>...</td>\n      <td>...</td>\n      <td>...</td>\n    </tr>\n    <tr>\n      <th>24933</th>\n      <td>21</td>\n      <td>99.0</td>\n      <td>99.00</td>\n      <td>99.0</td>\n      <td>99.0</td>\n      <td>5.78</td>\n      <td>8.45</td>\n      <td>99.00</td>\n      <td>8.20</td>\n      <td>99.0</td>\n      <td>...</td>\n      <td>99.0</td>\n      <td>99.00</td>\n      <td>99.0</td>\n      <td>99.00</td>\n      <td>99.0</td>\n      <td>99.0</td>\n      <td>99.0</td>\n      <td>99.00</td>\n      <td>99.0</td>\n      <td>24934</td>\n    </tr>\n    <tr>\n      <th>24934</th>\n      <td>16</td>\n      <td>99.0</td>\n      <td>99.00</td>\n      <td>99.0</td>\n      <td>99.0</td>\n      <td>5.24</td>\n      <td>99.00</td>\n      <td>99.00</td>\n      <td>5.68</td>\n      <td>99.0</td>\n      <td>...</td>\n      <td>99.0</td>\n      <td>99.00</td>\n      <td>99.0</td>\n      <td>99.00</td>\n      <td>99.0</td>\n      <td>99.0</td>\n      <td>99.0</td>\n      <td>99.00</td>\n      <td>99.0</td>\n      <td>24935</td>\n    </tr>\n    <tr>\n      <th>24935</th>\n      <td>35</td>\n      <td>99.0</td>\n      <td>99.00</td>\n      <td>99.0</td>\n      <td>99.0</td>\n      <td>-3.93</td>\n      <td>99.00</td>\n      <td>-9.03</td>\n      <td>-2.67</td>\n      <td>99.0</td>\n      <td>...</td>\n      <td>99.0</td>\n      <td>99.00</td>\n      <td>99.0</td>\n      <td>99.00</td>\n      <td>99.0</td>\n      <td>99.0</td>\n      <td>99.0</td>\n      <td>99.00</td>\n      <td>99.0</td>\n      <td>24936</td>\n    </tr>\n    <tr>\n      <th>24936</th>\n      <td>21</td>\n      <td>99.0</td>\n      <td>99.00</td>\n      <td>99.0</td>\n      <td>99.0</td>\n      <td>9.42</td>\n      <td>9.66</td>\n      <td>99.00</td>\n      <td>9.17</td>\n      <td>99.0</td>\n      <td>...</td>\n      <td>99.0</td>\n      <td>99.00</td>\n      <td>99.0</td>\n      <td>99.00</td>\n      <td>99.0</td>\n      <td>99.0</td>\n      <td>99.0</td>\n      <td>99.00</td>\n      <td>99.0</td>\n      <td>24937</td>\n    </tr>\n    <tr>\n      <th>24937</th>\n      <td>35</td>\n      <td>99.0</td>\n      <td>99.00</td>\n      <td>99.0</td>\n      <td>99.0</td>\n      <td>0.19</td>\n      <td>99.00</td>\n      <td>-1.50</td>\n      <td>7.82</td>\n      <td>99.0</td>\n      <td>...</td>\n      <td>99.0</td>\n      <td>99.00</td>\n      <td>99.0</td>\n      <td>99.00</td>\n      <td>99.0</td>\n      <td>99.0</td>\n      <td>99.0</td>\n      <td>99.00</td>\n      <td>99.0</td>\n      <td>24938</td>\n    </tr>\n  </tbody>\n</table>\n<p>24938 rows × 102 columns</p>\n</div>"
     },
     "metadata": {},
     "execution_count": 6
    }
   ],
   "source": [
    "data"
   ]
  },
  {
   "cell_type": "code",
   "execution_count": 30,
   "metadata": {},
   "outputs": [],
   "source": [
    "data_n=data.loc[:,1:]\n",
    "data_n.replace(99.0,0,inplace=True)\n",
    "data_n=data_n.set_index('userId')"
   ]
  },
  {
   "cell_type": "code",
   "execution_count": 31,
   "metadata": {},
   "outputs": [
    {
     "output_type": "execute_result",
     "data": {
      "text/plain": [
       "        1     2    3    4     5     6     7     8    9     10   ...  91   92   \\\n",
       "userId                                                          ...             \n",
       "1       0.0  0.00  0.0  0.0 -1.65  0.00 -0.78  6.89  0.0  0.00  ...  0.0  0.0   \n",
       "2       0.0  0.00  0.0  0.0 -9.27  0.00 -9.17 -8.59  0.0  0.00  ...  0.0  0.0   \n",
       "3       0.0  0.00  0.0  0.0 -6.12  0.00 -7.48 -7.77  0.0  0.00  ...  0.0  0.0   \n",
       "4       0.0  0.05  0.0  0.0 -2.82  0.00 -4.85 -0.87  0.0  0.00  ...  0.0  0.0   \n",
       "5       0.0  0.00  0.0  0.0 -4.95  0.00  6.21  2.72  0.0 -8.59  ...  0.0  0.0   \n",
       "...     ...   ...  ...  ...   ...   ...   ...   ...  ...   ...  ...  ...  ...   \n",
       "24934   0.0  0.00  0.0  0.0  5.78  8.45  0.00  8.20  0.0  8.50  ...  0.0  0.0   \n",
       "24935   0.0  0.00  0.0  0.0  5.24  0.00  0.00  5.68  0.0  0.00  ...  0.0  0.0   \n",
       "24936   0.0  0.00  0.0  0.0 -3.93  0.00 -9.03 -2.67  0.0  0.00  ...  0.0  0.0   \n",
       "24937   0.0  0.00  0.0  0.0  9.42  9.66  0.00  9.17  0.0  0.00  ...  0.0  0.0   \n",
       "24938   0.0  0.00  0.0  0.0  0.19  0.00 -1.50  7.82  0.0  0.00  ...  0.0  0.0   \n",
       "\n",
       "         93   94    95   96   97   98    99   100  \n",
       "userId                                             \n",
       "1       0.00  0.0  0.00  0.0  0.0  0.0  0.00  0.0  \n",
       "2      -2.77  0.0  0.00  0.0  0.0  0.0  0.00  0.0  \n",
       "3       0.00  0.0  0.00  0.0  0.0  0.0  0.00  0.0  \n",
       "4       0.00  0.0  1.84  0.0  0.0  0.0 -4.08  0.0  \n",
       "5       0.00  0.0  0.00  0.0  0.0  0.0  0.00  0.0  \n",
       "...      ...  ...   ...  ...  ...  ...   ...  ...  \n",
       "24934   0.00  0.0  0.00  0.0  0.0  0.0  0.00  0.0  \n",
       "24935   0.00  0.0  0.00  0.0  0.0  0.0  0.00  0.0  \n",
       "24936   0.00  0.0  0.00  0.0  0.0  0.0  0.00  0.0  \n",
       "24937   0.00  0.0  0.00  0.0  0.0  0.0  0.00  0.0  \n",
       "24938   0.00  0.0  0.00  0.0  0.0  0.0  0.00  0.0  \n",
       "\n",
       "[24938 rows x 100 columns]"
      ],
      "text/html": "<div>\n<style scoped>\n    .dataframe tbody tr th:only-of-type {\n        vertical-align: middle;\n    }\n\n    .dataframe tbody tr th {\n        vertical-align: top;\n    }\n\n    .dataframe thead th {\n        text-align: right;\n    }\n</style>\n<table border=\"1\" class=\"dataframe\">\n  <thead>\n    <tr style=\"text-align: right;\">\n      <th></th>\n      <th>1</th>\n      <th>2</th>\n      <th>3</th>\n      <th>4</th>\n      <th>5</th>\n      <th>6</th>\n      <th>7</th>\n      <th>8</th>\n      <th>9</th>\n      <th>10</th>\n      <th>...</th>\n      <th>91</th>\n      <th>92</th>\n      <th>93</th>\n      <th>94</th>\n      <th>95</th>\n      <th>96</th>\n      <th>97</th>\n      <th>98</th>\n      <th>99</th>\n      <th>100</th>\n    </tr>\n    <tr>\n      <th>userId</th>\n      <th></th>\n      <th></th>\n      <th></th>\n      <th></th>\n      <th></th>\n      <th></th>\n      <th></th>\n      <th></th>\n      <th></th>\n      <th></th>\n      <th></th>\n      <th></th>\n      <th></th>\n      <th></th>\n      <th></th>\n      <th></th>\n      <th></th>\n      <th></th>\n      <th></th>\n      <th></th>\n      <th></th>\n    </tr>\n  </thead>\n  <tbody>\n    <tr>\n      <th>1</th>\n      <td>0.0</td>\n      <td>0.00</td>\n      <td>0.0</td>\n      <td>0.0</td>\n      <td>-1.65</td>\n      <td>0.00</td>\n      <td>-0.78</td>\n      <td>6.89</td>\n      <td>0.0</td>\n      <td>0.00</td>\n      <td>...</td>\n      <td>0.0</td>\n      <td>0.0</td>\n      <td>0.00</td>\n      <td>0.0</td>\n      <td>0.00</td>\n      <td>0.0</td>\n      <td>0.0</td>\n      <td>0.0</td>\n      <td>0.00</td>\n      <td>0.0</td>\n    </tr>\n    <tr>\n      <th>2</th>\n      <td>0.0</td>\n      <td>0.00</td>\n      <td>0.0</td>\n      <td>0.0</td>\n      <td>-9.27</td>\n      <td>0.00</td>\n      <td>-9.17</td>\n      <td>-8.59</td>\n      <td>0.0</td>\n      <td>0.00</td>\n      <td>...</td>\n      <td>0.0</td>\n      <td>0.0</td>\n      <td>-2.77</td>\n      <td>0.0</td>\n      <td>0.00</td>\n      <td>0.0</td>\n      <td>0.0</td>\n      <td>0.0</td>\n      <td>0.00</td>\n      <td>0.0</td>\n    </tr>\n    <tr>\n      <th>3</th>\n      <td>0.0</td>\n      <td>0.00</td>\n      <td>0.0</td>\n      <td>0.0</td>\n      <td>-6.12</td>\n      <td>0.00</td>\n      <td>-7.48</td>\n      <td>-7.77</td>\n      <td>0.0</td>\n      <td>0.00</td>\n      <td>...</td>\n      <td>0.0</td>\n      <td>0.0</td>\n      <td>0.00</td>\n      <td>0.0</td>\n      <td>0.00</td>\n      <td>0.0</td>\n      <td>0.0</td>\n      <td>0.0</td>\n      <td>0.00</td>\n      <td>0.0</td>\n    </tr>\n    <tr>\n      <th>4</th>\n      <td>0.0</td>\n      <td>0.05</td>\n      <td>0.0</td>\n      <td>0.0</td>\n      <td>-2.82</td>\n      <td>0.00</td>\n      <td>-4.85</td>\n      <td>-0.87</td>\n      <td>0.0</td>\n      <td>0.00</td>\n      <td>...</td>\n      <td>0.0</td>\n      <td>0.0</td>\n      <td>0.00</td>\n      <td>0.0</td>\n      <td>1.84</td>\n      <td>0.0</td>\n      <td>0.0</td>\n      <td>0.0</td>\n      <td>-4.08</td>\n      <td>0.0</td>\n    </tr>\n    <tr>\n      <th>5</th>\n      <td>0.0</td>\n      <td>0.00</td>\n      <td>0.0</td>\n      <td>0.0</td>\n      <td>-4.95</td>\n      <td>0.00</td>\n      <td>6.21</td>\n      <td>2.72</td>\n      <td>0.0</td>\n      <td>-8.59</td>\n      <td>...</td>\n      <td>0.0</td>\n      <td>0.0</td>\n      <td>0.00</td>\n      <td>0.0</td>\n      <td>0.00</td>\n      <td>0.0</td>\n      <td>0.0</td>\n      <td>0.0</td>\n      <td>0.00</td>\n      <td>0.0</td>\n    </tr>\n    <tr>\n      <th>...</th>\n      <td>...</td>\n      <td>...</td>\n      <td>...</td>\n      <td>...</td>\n      <td>...</td>\n      <td>...</td>\n      <td>...</td>\n      <td>...</td>\n      <td>...</td>\n      <td>...</td>\n      <td>...</td>\n      <td>...</td>\n      <td>...</td>\n      <td>...</td>\n      <td>...</td>\n      <td>...</td>\n      <td>...</td>\n      <td>...</td>\n      <td>...</td>\n      <td>...</td>\n      <td>...</td>\n    </tr>\n    <tr>\n      <th>24934</th>\n      <td>0.0</td>\n      <td>0.00</td>\n      <td>0.0</td>\n      <td>0.0</td>\n      <td>5.78</td>\n      <td>8.45</td>\n      <td>0.00</td>\n      <td>8.20</td>\n      <td>0.0</td>\n      <td>8.50</td>\n      <td>...</td>\n      <td>0.0</td>\n      <td>0.0</td>\n      <td>0.00</td>\n      <td>0.0</td>\n      <td>0.00</td>\n      <td>0.0</td>\n      <td>0.0</td>\n      <td>0.0</td>\n      <td>0.00</td>\n      <td>0.0</td>\n    </tr>\n    <tr>\n      <th>24935</th>\n      <td>0.0</td>\n      <td>0.00</td>\n      <td>0.0</td>\n      <td>0.0</td>\n      <td>5.24</td>\n      <td>0.00</td>\n      <td>0.00</td>\n      <td>5.68</td>\n      <td>0.0</td>\n      <td>0.00</td>\n      <td>...</td>\n      <td>0.0</td>\n      <td>0.0</td>\n      <td>0.00</td>\n      <td>0.0</td>\n      <td>0.00</td>\n      <td>0.0</td>\n      <td>0.0</td>\n      <td>0.0</td>\n      <td>0.00</td>\n      <td>0.0</td>\n    </tr>\n    <tr>\n      <th>24936</th>\n      <td>0.0</td>\n      <td>0.00</td>\n      <td>0.0</td>\n      <td>0.0</td>\n      <td>-3.93</td>\n      <td>0.00</td>\n      <td>-9.03</td>\n      <td>-2.67</td>\n      <td>0.0</td>\n      <td>0.00</td>\n      <td>...</td>\n      <td>0.0</td>\n      <td>0.0</td>\n      <td>0.00</td>\n      <td>0.0</td>\n      <td>0.00</td>\n      <td>0.0</td>\n      <td>0.0</td>\n      <td>0.0</td>\n      <td>0.00</td>\n      <td>0.0</td>\n    </tr>\n    <tr>\n      <th>24937</th>\n      <td>0.0</td>\n      <td>0.00</td>\n      <td>0.0</td>\n      <td>0.0</td>\n      <td>9.42</td>\n      <td>9.66</td>\n      <td>0.00</td>\n      <td>9.17</td>\n      <td>0.0</td>\n      <td>0.00</td>\n      <td>...</td>\n      <td>0.0</td>\n      <td>0.0</td>\n      <td>0.00</td>\n      <td>0.0</td>\n      <td>0.00</td>\n      <td>0.0</td>\n      <td>0.0</td>\n      <td>0.0</td>\n      <td>0.00</td>\n      <td>0.0</td>\n    </tr>\n    <tr>\n      <th>24938</th>\n      <td>0.0</td>\n      <td>0.00</td>\n      <td>0.0</td>\n      <td>0.0</td>\n      <td>0.19</td>\n      <td>0.00</td>\n      <td>-1.50</td>\n      <td>7.82</td>\n      <td>0.0</td>\n      <td>0.00</td>\n      <td>...</td>\n      <td>0.0</td>\n      <td>0.0</td>\n      <td>0.00</td>\n      <td>0.0</td>\n      <td>0.00</td>\n      <td>0.0</td>\n      <td>0.0</td>\n      <td>0.0</td>\n      <td>0.00</td>\n      <td>0.0</td>\n    </tr>\n  </tbody>\n</table>\n<p>24938 rows × 100 columns</p>\n</div>"
     },
     "metadata": {},
     "execution_count": 31
    }
   ],
   "source": [
    "data_n"
   ]
  },
  {
   "source": [
    "<h3>16 rated jokes in row [ 1 ] and 84 \"99's\" means not Rated"
   ],
   "cell_type": "markdown",
   "metadata": {}
  },
  {
   "cell_type": "code",
   "execution_count": 32,
   "metadata": {},
   "outputs": [
    {
     "output_type": "execute_result",
     "data": {
      "text/plain": [
       " 0.00    74\n",
       " 1.26     2\n",
       "-2.57     1\n",
       " 6.26     1\n",
       " 4.42     1\n",
       " 0.15     1\n",
       "-2.23     1\n",
       "-0.29     1\n",
       " 6.89     1\n",
       "-5.97     1\n",
       "-0.19     1\n",
       " 1.55     1\n",
       "-7.52     1\n",
       " 2.96     1\n",
       " 1.36     1\n",
       "-0.78     1\n",
       "-1.65     1\n",
       " 2.23     1\n",
       "-1.31     1\n",
       "-2.91     1\n",
       " 3.50     1\n",
       "-2.14     1\n",
       "-3.98     1\n",
       "-8.20     1\n",
       " 1.17     1\n",
       "-5.87     1\n",
       "Name: 1, dtype: int64"
      ]
     },
     "metadata": {},
     "execution_count": 32
    }
   ],
   "source": [
    "data_n.iloc[0].value_counts()"
   ]
  },
  {
   "source": [
    "<h1>Item Based"
   ],
   "cell_type": "markdown",
   "metadata": {}
  },
  {
   "cell_type": "code",
   "execution_count": 9,
   "metadata": {},
   "outputs": [],
   "source": [
    "from sklearn.metrics.pairwise import linear_kernel"
   ]
  },
  {
   "cell_type": "code",
   "execution_count": 33,
   "metadata": {},
   "outputs": [],
   "source": [
    "item_matrix = linear_kernel(data_n.T,data_n.T)"
   ]
  },
  {
   "cell_type": "code",
   "execution_count": 34,
   "metadata": {},
   "outputs": [],
   "source": [
    "item_matrix = pd.DataFrame(item_matrix,index=data_n.columns,columns=data_n.columns)"
   ]
  },
  {
   "cell_type": "code",
   "execution_count": 35,
   "metadata": {},
   "outputs": [],
   "source": [
    "def getItem(itemid,k):\n",
    "    sim_item = item_matrix[itemid]\n",
    "    top =sim_item.nlargest(k)\n",
    "    return top "
   ]
  },
  {
   "cell_type": "code",
   "execution_count": 38,
   "metadata": {},
   "outputs": [],
   "source": [
    "item_id = 3\n",
    "item = getItem(item_id,k=10)"
   ]
  },
  {
   "cell_type": "code",
   "execution_count": 39,
   "metadata": {},
   "outputs": [
    {
     "output_type": "execute_result",
     "data": {
      "text/plain": [
       "  JokesId  similarity\n",
       "0       3    121.2005\n",
       "1      58     94.9084\n",
       "2      39     87.7128\n",
       "3      26     87.2588\n",
       "4      69     87.0072\n",
       "5      42     86.3508\n",
       "6       1     85.6038\n",
       "7      52     81.4613\n",
       "8       2     74.8456\n",
       "9      81     65.7324"
      ],
      "text/html": "<div>\n<style scoped>\n    .dataframe tbody tr th:only-of-type {\n        vertical-align: middle;\n    }\n\n    .dataframe tbody tr th {\n        vertical-align: top;\n    }\n\n    .dataframe thead th {\n        text-align: right;\n    }\n</style>\n<table border=\"1\" class=\"dataframe\">\n  <thead>\n    <tr style=\"text-align: right;\">\n      <th></th>\n      <th>JokesId</th>\n      <th>similarity</th>\n    </tr>\n  </thead>\n  <tbody>\n    <tr>\n      <th>0</th>\n      <td>3</td>\n      <td>121.2005</td>\n    </tr>\n    <tr>\n      <th>1</th>\n      <td>58</td>\n      <td>94.9084</td>\n    </tr>\n    <tr>\n      <th>2</th>\n      <td>39</td>\n      <td>87.7128</td>\n    </tr>\n    <tr>\n      <th>3</th>\n      <td>26</td>\n      <td>87.2588</td>\n    </tr>\n    <tr>\n      <th>4</th>\n      <td>69</td>\n      <td>87.0072</td>\n    </tr>\n    <tr>\n      <th>5</th>\n      <td>42</td>\n      <td>86.3508</td>\n    </tr>\n    <tr>\n      <th>6</th>\n      <td>1</td>\n      <td>85.6038</td>\n    </tr>\n    <tr>\n      <th>7</th>\n      <td>52</td>\n      <td>81.4613</td>\n    </tr>\n    <tr>\n      <th>8</th>\n      <td>2</td>\n      <td>74.8456</td>\n    </tr>\n    <tr>\n      <th>9</th>\n      <td>81</td>\n      <td>65.7324</td>\n    </tr>\n  </tbody>\n</table>\n</div>"
     },
     "metadata": {},
     "execution_count": 39
    }
   ],
   "source": [
    "items = pd.DataFrame({'JokesId':item.index,'similarity':item.values})\n",
    "items"
   ]
  },
  {
   "source": [
    "<h1>User based"
   ],
   "cell_type": "markdown",
   "metadata": {}
  },
  {
   "cell_type": "code",
   "execution_count": 40,
   "metadata": {},
   "outputs": [],
   "source": [
    "user_matrix = linear_kernel(data_n,data_n)"
   ]
  },
  {
   "cell_type": "code",
   "execution_count": 41,
   "metadata": {},
   "outputs": [
    {
     "output_type": "execute_result",
     "data": {
      "text/plain": [
       "userId     1          2         3         4          5         6      \\\n",
       "userId                                                                 \n",
       "1       380.5206   122.0043  -31.8133  -11.8757    78.1516  -12.8785   \n",
       "2       122.0043  1778.5546  467.9187  146.1892  -350.7982 -593.2410   \n",
       "3       -31.8133   467.9187  772.4729   54.9651     4.4599 -188.5442   \n",
       "4       -11.8757   146.1892   54.9651  202.1940  -103.5958  -90.5886   \n",
       "5        78.1516  -350.7982    4.4599 -103.5958  1092.0609  234.6663   \n",
       "...          ...        ...       ...       ...        ...       ...   \n",
       "24934   -86.1097  -600.7634 -247.6055  -22.4897  -253.8363  159.5707   \n",
       "24935    51.5384  -426.9902 -168.6245  -48.4751   202.7111  199.4319   \n",
       "24936   116.0283  -104.7924   -1.2705  -14.3652   133.1303  -71.4668   \n",
       "24937   -16.4734  -934.8140 -302.1823  -88.2200    31.3547  283.8588   \n",
       "24938    60.2534  -848.6013   27.1513  -48.7861   351.7646  425.0295   \n",
       "\n",
       "userId     7         8         9         10     ...     24929     24930  \\\n",
       "userId                                          ...                       \n",
       "1        63.5153   40.1574  -10.8731    5.1645  ...  -24.5720   68.8645   \n",
       "2       411.6444 -367.1127  -97.4630 -487.0859  ... -272.8386 -423.6832   \n",
       "3       364.1994  -66.2368  320.0649 -122.8459  ... -119.5778  -63.3488   \n",
       "4        70.3020  -90.7399   56.8591 -155.3159  ...   26.5406  -70.2597   \n",
       "5         8.5312    0.3556   31.3627  100.7427  ...  -22.1337   45.2634   \n",
       "...          ...       ...       ...       ...  ...       ...       ...   \n",
       "24934  -316.0409   37.6571 -200.7104  291.4368  ...  299.9794  338.5109   \n",
       "24935  -116.7326  171.0109   25.4141  210.0175  ...  140.2296  176.9580   \n",
       "24936   118.6333  353.4391  378.1723  -48.7115  ...   46.1197  130.0228   \n",
       "24937  -245.7381  196.9055   44.9186  330.7667  ...  434.4677  374.3518   \n",
       "24938    15.2082  383.2272  472.7417  329.2414  ...  185.0633  454.6462   \n",
       "\n",
       "userId     24931     24932     24933      24934     24935      24936  \\\n",
       "userId                                                                 \n",
       "1      -186.3263  -41.4981  -48.9088   -86.1097   51.5384   116.0283   \n",
       "2      -833.4671 -327.4288 -343.5911  -600.7634 -426.9902  -104.7924   \n",
       "3      -573.9812  -88.4028 -189.6545  -247.6055 -168.6245    -1.2705   \n",
       "4       -74.6291  -56.1888   -5.9985   -22.4897  -48.4751   -14.3652   \n",
       "5       165.0657  -24.7186  -25.8276  -253.8363  202.7111   133.1303   \n",
       "...          ...       ...       ...        ...       ...        ...   \n",
       "24934   776.4294  305.4954  463.3465  1455.6341  217.1651  -161.9762   \n",
       "24935   379.4071    8.5904  258.4824   217.1651  713.4533   132.6848   \n",
       "24936   -17.7193  223.4520   42.0957  -161.9762  132.6848  1098.4243   \n",
       "24937   998.7340  350.1057  363.9952   779.1460  114.6422    93.0482   \n",
       "24938   372.2113  335.2475  212.0049   270.5741  431.2900   436.9048   \n",
       "\n",
       "userId      24937      24938  \n",
       "userId                        \n",
       "1        -16.4734    60.2534  \n",
       "2       -934.8140  -848.6013  \n",
       "3       -302.1823    27.1513  \n",
       "4        -88.2200   -48.7861  \n",
       "5         31.3547   351.7646  \n",
       "...           ...        ...  \n",
       "24934    779.1460   270.5741  \n",
       "24935    114.6422   431.2900  \n",
       "24936     93.0482   436.9048  \n",
       "24937   1596.1835   564.6841  \n",
       "24938    564.6841  1484.2621  \n",
       "\n",
       "[24938 rows x 24938 columns]"
      ],
      "text/html": "<div>\n<style scoped>\n    .dataframe tbody tr th:only-of-type {\n        vertical-align: middle;\n    }\n\n    .dataframe tbody tr th {\n        vertical-align: top;\n    }\n\n    .dataframe thead th {\n        text-align: right;\n    }\n</style>\n<table border=\"1\" class=\"dataframe\">\n  <thead>\n    <tr style=\"text-align: right;\">\n      <th>userId</th>\n      <th>1</th>\n      <th>2</th>\n      <th>3</th>\n      <th>4</th>\n      <th>5</th>\n      <th>6</th>\n      <th>7</th>\n      <th>8</th>\n      <th>9</th>\n      <th>10</th>\n      <th>...</th>\n      <th>24929</th>\n      <th>24930</th>\n      <th>24931</th>\n      <th>24932</th>\n      <th>24933</th>\n      <th>24934</th>\n      <th>24935</th>\n      <th>24936</th>\n      <th>24937</th>\n      <th>24938</th>\n    </tr>\n    <tr>\n      <th>userId</th>\n      <th></th>\n      <th></th>\n      <th></th>\n      <th></th>\n      <th></th>\n      <th></th>\n      <th></th>\n      <th></th>\n      <th></th>\n      <th></th>\n      <th></th>\n      <th></th>\n      <th></th>\n      <th></th>\n      <th></th>\n      <th></th>\n      <th></th>\n      <th></th>\n      <th></th>\n      <th></th>\n      <th></th>\n    </tr>\n  </thead>\n  <tbody>\n    <tr>\n      <th>1</th>\n      <td>380.5206</td>\n      <td>122.0043</td>\n      <td>-31.8133</td>\n      <td>-11.8757</td>\n      <td>78.1516</td>\n      <td>-12.8785</td>\n      <td>63.5153</td>\n      <td>40.1574</td>\n      <td>-10.8731</td>\n      <td>5.1645</td>\n      <td>...</td>\n      <td>-24.5720</td>\n      <td>68.8645</td>\n      <td>-186.3263</td>\n      <td>-41.4981</td>\n      <td>-48.9088</td>\n      <td>-86.1097</td>\n      <td>51.5384</td>\n      <td>116.0283</td>\n      <td>-16.4734</td>\n      <td>60.2534</td>\n    </tr>\n    <tr>\n      <th>2</th>\n      <td>122.0043</td>\n      <td>1778.5546</td>\n      <td>467.9187</td>\n      <td>146.1892</td>\n      <td>-350.7982</td>\n      <td>-593.2410</td>\n      <td>411.6444</td>\n      <td>-367.1127</td>\n      <td>-97.4630</td>\n      <td>-487.0859</td>\n      <td>...</td>\n      <td>-272.8386</td>\n      <td>-423.6832</td>\n      <td>-833.4671</td>\n      <td>-327.4288</td>\n      <td>-343.5911</td>\n      <td>-600.7634</td>\n      <td>-426.9902</td>\n      <td>-104.7924</td>\n      <td>-934.8140</td>\n      <td>-848.6013</td>\n    </tr>\n    <tr>\n      <th>3</th>\n      <td>-31.8133</td>\n      <td>467.9187</td>\n      <td>772.4729</td>\n      <td>54.9651</td>\n      <td>4.4599</td>\n      <td>-188.5442</td>\n      <td>364.1994</td>\n      <td>-66.2368</td>\n      <td>320.0649</td>\n      <td>-122.8459</td>\n      <td>...</td>\n      <td>-119.5778</td>\n      <td>-63.3488</td>\n      <td>-573.9812</td>\n      <td>-88.4028</td>\n      <td>-189.6545</td>\n      <td>-247.6055</td>\n      <td>-168.6245</td>\n      <td>-1.2705</td>\n      <td>-302.1823</td>\n      <td>27.1513</td>\n    </tr>\n    <tr>\n      <th>4</th>\n      <td>-11.8757</td>\n      <td>146.1892</td>\n      <td>54.9651</td>\n      <td>202.1940</td>\n      <td>-103.5958</td>\n      <td>-90.5886</td>\n      <td>70.3020</td>\n      <td>-90.7399</td>\n      <td>56.8591</td>\n      <td>-155.3159</td>\n      <td>...</td>\n      <td>26.5406</td>\n      <td>-70.2597</td>\n      <td>-74.6291</td>\n      <td>-56.1888</td>\n      <td>-5.9985</td>\n      <td>-22.4897</td>\n      <td>-48.4751</td>\n      <td>-14.3652</td>\n      <td>-88.2200</td>\n      <td>-48.7861</td>\n    </tr>\n    <tr>\n      <th>5</th>\n      <td>78.1516</td>\n      <td>-350.7982</td>\n      <td>4.4599</td>\n      <td>-103.5958</td>\n      <td>1092.0609</td>\n      <td>234.6663</td>\n      <td>8.5312</td>\n      <td>0.3556</td>\n      <td>31.3627</td>\n      <td>100.7427</td>\n      <td>...</td>\n      <td>-22.1337</td>\n      <td>45.2634</td>\n      <td>165.0657</td>\n      <td>-24.7186</td>\n      <td>-25.8276</td>\n      <td>-253.8363</td>\n      <td>202.7111</td>\n      <td>133.1303</td>\n      <td>31.3547</td>\n      <td>351.7646</td>\n    </tr>\n    <tr>\n      <th>...</th>\n      <td>...</td>\n      <td>...</td>\n      <td>...</td>\n      <td>...</td>\n      <td>...</td>\n      <td>...</td>\n      <td>...</td>\n      <td>...</td>\n      <td>...</td>\n      <td>...</td>\n      <td>...</td>\n      <td>...</td>\n      <td>...</td>\n      <td>...</td>\n      <td>...</td>\n      <td>...</td>\n      <td>...</td>\n      <td>...</td>\n      <td>...</td>\n      <td>...</td>\n      <td>...</td>\n    </tr>\n    <tr>\n      <th>24934</th>\n      <td>-86.1097</td>\n      <td>-600.7634</td>\n      <td>-247.6055</td>\n      <td>-22.4897</td>\n      <td>-253.8363</td>\n      <td>159.5707</td>\n      <td>-316.0409</td>\n      <td>37.6571</td>\n      <td>-200.7104</td>\n      <td>291.4368</td>\n      <td>...</td>\n      <td>299.9794</td>\n      <td>338.5109</td>\n      <td>776.4294</td>\n      <td>305.4954</td>\n      <td>463.3465</td>\n      <td>1455.6341</td>\n      <td>217.1651</td>\n      <td>-161.9762</td>\n      <td>779.1460</td>\n      <td>270.5741</td>\n    </tr>\n    <tr>\n      <th>24935</th>\n      <td>51.5384</td>\n      <td>-426.9902</td>\n      <td>-168.6245</td>\n      <td>-48.4751</td>\n      <td>202.7111</td>\n      <td>199.4319</td>\n      <td>-116.7326</td>\n      <td>171.0109</td>\n      <td>25.4141</td>\n      <td>210.0175</td>\n      <td>...</td>\n      <td>140.2296</td>\n      <td>176.9580</td>\n      <td>379.4071</td>\n      <td>8.5904</td>\n      <td>258.4824</td>\n      <td>217.1651</td>\n      <td>713.4533</td>\n      <td>132.6848</td>\n      <td>114.6422</td>\n      <td>431.2900</td>\n    </tr>\n    <tr>\n      <th>24936</th>\n      <td>116.0283</td>\n      <td>-104.7924</td>\n      <td>-1.2705</td>\n      <td>-14.3652</td>\n      <td>133.1303</td>\n      <td>-71.4668</td>\n      <td>118.6333</td>\n      <td>353.4391</td>\n      <td>378.1723</td>\n      <td>-48.7115</td>\n      <td>...</td>\n      <td>46.1197</td>\n      <td>130.0228</td>\n      <td>-17.7193</td>\n      <td>223.4520</td>\n      <td>42.0957</td>\n      <td>-161.9762</td>\n      <td>132.6848</td>\n      <td>1098.4243</td>\n      <td>93.0482</td>\n      <td>436.9048</td>\n    </tr>\n    <tr>\n      <th>24937</th>\n      <td>-16.4734</td>\n      <td>-934.8140</td>\n      <td>-302.1823</td>\n      <td>-88.2200</td>\n      <td>31.3547</td>\n      <td>283.8588</td>\n      <td>-245.7381</td>\n      <td>196.9055</td>\n      <td>44.9186</td>\n      <td>330.7667</td>\n      <td>...</td>\n      <td>434.4677</td>\n      <td>374.3518</td>\n      <td>998.7340</td>\n      <td>350.1057</td>\n      <td>363.9952</td>\n      <td>779.1460</td>\n      <td>114.6422</td>\n      <td>93.0482</td>\n      <td>1596.1835</td>\n      <td>564.6841</td>\n    </tr>\n    <tr>\n      <th>24938</th>\n      <td>60.2534</td>\n      <td>-848.6013</td>\n      <td>27.1513</td>\n      <td>-48.7861</td>\n      <td>351.7646</td>\n      <td>425.0295</td>\n      <td>15.2082</td>\n      <td>383.2272</td>\n      <td>472.7417</td>\n      <td>329.2414</td>\n      <td>...</td>\n      <td>185.0633</td>\n      <td>454.6462</td>\n      <td>372.2113</td>\n      <td>335.2475</td>\n      <td>212.0049</td>\n      <td>270.5741</td>\n      <td>431.2900</td>\n      <td>436.9048</td>\n      <td>564.6841</td>\n      <td>1484.2621</td>\n    </tr>\n  </tbody>\n</table>\n<p>24938 rows × 24938 columns</p>\n</div>"
     },
     "metadata": {},
     "execution_count": 41
    }
   ],
   "source": [
    "user_matrix = pd.DataFrame(user_matrix,index=data_n.index,columns=data_n.index)\n",
    "user_matrix"
   ]
  },
  {
   "cell_type": "code",
   "execution_count": 42,
   "metadata": {},
   "outputs": [],
   "source": [
    "def getuser(userid,k):\n",
    "    sim_user = user_matrix[userid]\n",
    "    top =sim_user.sort_values(ascending=False)\n",
    "    return top[:k]"
   ]
  },
  {
   "cell_type": "code",
   "execution_count": 45,
   "metadata": {},
   "outputs": [
    {
     "output_type": "execute_result",
     "data": {
      "text/plain": [
       "   UserId  similarity\n",
       "0       1    380.5206\n",
       "1   16565    302.1180\n",
       "2   12746    301.5931\n",
       "3    8272    285.6333\n",
       "4   17804    283.7891\n",
       "5   17755    282.6069\n",
       "6    5624    273.4035\n",
       "7   22631    270.9659\n",
       "8   19185    268.9287\n",
       "9   24903    256.0498"
      ],
      "text/html": "<div>\n<style scoped>\n    .dataframe tbody tr th:only-of-type {\n        vertical-align: middle;\n    }\n\n    .dataframe tbody tr th {\n        vertical-align: top;\n    }\n\n    .dataframe thead th {\n        text-align: right;\n    }\n</style>\n<table border=\"1\" class=\"dataframe\">\n  <thead>\n    <tr style=\"text-align: right;\">\n      <th></th>\n      <th>UserId</th>\n      <th>similarity</th>\n    </tr>\n  </thead>\n  <tbody>\n    <tr>\n      <th>0</th>\n      <td>1</td>\n      <td>380.5206</td>\n    </tr>\n    <tr>\n      <th>1</th>\n      <td>16565</td>\n      <td>302.1180</td>\n    </tr>\n    <tr>\n      <th>2</th>\n      <td>12746</td>\n      <td>301.5931</td>\n    </tr>\n    <tr>\n      <th>3</th>\n      <td>8272</td>\n      <td>285.6333</td>\n    </tr>\n    <tr>\n      <th>4</th>\n      <td>17804</td>\n      <td>283.7891</td>\n    </tr>\n    <tr>\n      <th>5</th>\n      <td>17755</td>\n      <td>282.6069</td>\n    </tr>\n    <tr>\n      <th>6</th>\n      <td>5624</td>\n      <td>273.4035</td>\n    </tr>\n    <tr>\n      <th>7</th>\n      <td>22631</td>\n      <td>270.9659</td>\n    </tr>\n    <tr>\n      <th>8</th>\n      <td>19185</td>\n      <td>268.9287</td>\n    </tr>\n    <tr>\n      <th>9</th>\n      <td>24903</td>\n      <td>256.0498</td>\n    </tr>\n  </tbody>\n</table>\n</div>"
     },
     "metadata": {},
     "execution_count": 45
    }
   ],
   "source": [
    "top_user = getuser(1,10)\n",
    "pd.DataFrame({'UserId':top_user.index,'similarity':top_user.values})"
   ]
  },
  {
   "source": [
    "<h1>Model Based"
   ],
   "cell_type": "markdown",
   "metadata": {}
  },
  {
   "cell_type": "code",
   "execution_count": 46,
   "metadata": {},
   "outputs": [],
   "source": [
    "from surprise.model_selection import train_test_split,cross_validate\n",
    "from surprise import SVD,Reader,Dataset,accuracy"
   ]
  },
  {
   "cell_type": "code",
   "execution_count": 47,
   "metadata": {},
   "outputs": [],
   "source": [
    "reader =  Reader(rating_scale=(-10,10))\n",
    "dd = Dataset.load_from_df(df,reader)"
   ]
  },
  {
   "cell_type": "code",
   "execution_count": 48,
   "metadata": {},
   "outputs": [],
   "source": [
    "trainset , testset = train_test_split(dd,test_size=0.20,random_state=7)"
   ]
  },
  {
   "cell_type": "code",
   "execution_count": 49,
   "metadata": {},
   "outputs": [],
   "source": [
    "model = SVD(lr_all=0.001,n_factors=50)"
   ]
  },
  {
   "cell_type": "code",
   "execution_count": 50,
   "metadata": {},
   "outputs": [
    {
     "output_type": "execute_result",
     "data": {
      "text/plain": [
       "<surprise.prediction_algorithms.matrix_factorization.SVD at 0x28f0cc31888>"
      ]
     },
     "metadata": {},
     "execution_count": 50
    }
   ],
   "source": [
    "model.fit(trainset)"
   ]
  },
  {
   "cell_type": "code",
   "execution_count": 51,
   "metadata": {},
   "outputs": [],
   "source": [
    "pred = model.test(testset)"
   ]
  },
  {
   "cell_type": "code",
   "execution_count": 57,
   "metadata": {},
   "outputs": [
    {
     "output_type": "execute_result",
     "data": {
      "text/plain": [
       "Prediction(uid=13803, iid=25, r_ui=0.0, est=-0.05343465935970448, details={'was_impossible': False})"
      ]
     },
     "metadata": {},
     "execution_count": 57
    }
   ],
   "source": [
    "pred[17]"
   ]
  },
  {
   "cell_type": "code",
   "execution_count": 53,
   "metadata": {},
   "outputs": [
    {
     "output_type": "stream",
     "name": "stdout",
     "text": [
      "RMSE: 2.3931\n"
     ]
    },
    {
     "output_type": "execute_result",
     "data": {
      "text/plain": [
       "2.3931094827378256"
      ]
     },
     "metadata": {},
     "execution_count": 53
    }
   ],
   "source": [
    "accuracy.rmse(pred)"
   ]
  },
  {
   "cell_type": "code",
   "execution_count": 63,
   "metadata": {},
   "outputs": [],
   "source": [
    "def precision_k(predictions,k=10,threshold=0.0):\n",
    "    user_est_true = defaultdict(list)\n",
    "    for uid, _, true_r, est, _ in predictions:\n",
    "        user_est_true[uid].append((est, true_r))\n",
    "\n",
    "    precisions = dict()\n",
    "    recalls=dict()\n",
    "    for uid , user_ratings in user_est_true.items():\n",
    "        user_ratings.sort(key=lambda x: x[0], reverse=True)\n",
    "        # print(urerRating[1])\n",
    "        n_rel = sum((true_r >= threshold) for (_, true_r) in user_ratings)\n",
    "        n_rec_k = sum((est >= threshold) for (est, _) in user_ratings[:k])\n",
    "\n",
    "\n",
    "        n_rel_and_rec_k = sum(((true_r >= threshold) and (est >= threshold))\n",
    "                              for (est, true_r) in user_ratings[:k])\n",
    "        precisions[uid] =  n_rel_and_rec_k / n_rec_k if n_rec_k != 0 else 0\n",
    "        recalls[uid] = n_rel_and_rec_k / n_rel if n_rel != 0 else 0\n",
    "    return precisions,recalls\n"
   ]
  },
  {
   "cell_type": "code",
   "execution_count": 64,
   "metadata": {
    "tags": []
   },
   "outputs": [
    {
     "output_type": "stream",
     "name": "stdout",
     "text": [
      "precision 0.8308986285988382 recall 0.21891649808249394 on threshold 0 \n\n\n"
     ]
    }
   ],
   "source": [
    "# precisions\n",
    "# t=np.linspace(-10.,10.,50)\n",
    "# # t=[2.5]\n",
    "# for i in t:\n",
    "precisions,recalls =precision_k(pred,k=5,threshold=0.0)\n",
    "\n",
    "p=(sum(prec for prec in precisions.values()) / len(precisions))\n",
    "r=(sum(rec for rec in recalls.values()) / len(recalls))\n",
    "print(f'precision {p} recall {r} on threshold {0} \\n\\n')"
   ]
  },
  {
   "cell_type": "code",
   "execution_count": 85,
   "metadata": {},
   "outputs": [],
   "source": [
    "from collections import defaultdict\n",
    "# def get_top_n(predictions, n=10):\n",
    "#     # First map the predictions to each user.\n",
    "#     top_n = defaultdict(list)\n",
    "#     for uid, iid, true_r, est, _ in predictions:\n",
    "#         # print(iid,est)\n",
    "#         top_n[uid].append((iid, est))\n",
    "\n",
    "#     # Then sort the predictions for each user and retrieve the k highest ones.\n",
    "#     for uid, user_ratings in top_n.items():\n",
    "#         user_ratings.sort(key=lambda x: x[1], reverse=True)\n",
    "#         top_n[uid] = user_ratings[:n]\n",
    "\n",
    "#     return top_n\n",
    "    \n",
    "def GetTopN(predictions, n=10, minimumRating=0.0, criterion='est'):\n",
    "    topN = defaultdict(list)\n",
    "    \n",
    "    for index, row in predictions.iterrows():\n",
    "        # print(index,row)\n",
    "        if (row[criterion] >= minimumRating):\n",
    "            topN[int(row.uid)].append((int(row.iid), row[criterion]))\n",
    "\n",
    "    for userID, ratings in topN.items():\n",
    "        ratings.sort(key=lambda x: x[1], reverse=True)\n",
    "        topN[int(userID)] = ratings[:n]\n",
    "\n",
    "    return topN"
   ]
  },
  {
   "cell_type": "code",
   "execution_count": 110,
   "metadata": {
    "tags": []
   },
   "outputs": [
    {
     "output_type": "execute_result",
     "data": {
      "text/plain": [
       "23608"
      ]
     },
     "metadata": {},
     "execution_count": 110
    }
   ],
   "source": [
    "# top_n = get_top_n(pred, n=3)\n",
    "pr = pd.DataFrame(pred)\n",
    "top_n=GetTopN(pr.iloc[:,:-1],n=3)\n",
    "len(top_n)"
   ]
  },
  {
   "cell_type": "code",
   "execution_count": 67,
   "metadata": {},
   "outputs": [],
   "source": [
    " import re"
   ]
  },
  {
   "cell_type": "code",
   "execution_count": 68,
   "metadata": {},
   "outputs": [],
   "source": [
    "def getJokes(file):\n",
    "    path = f'./jester_dataset_1_joke_texts/jokes/init{file}.html'\n",
    "    with open(path, \"r\", encoding='utf-8') as f:\n",
    "        text= f.read()\n",
    "        # print(text)\n",
    "        start = text.find(\"<!--begin of joke -->\") + len(\"<!--begin of joke -->\")\n",
    "        end = text.find(\"<!--end of joke -->\")\n",
    "        t =(text[start:end])\n",
    "        return t"
   ]
  },
  {
   "cell_type": "code",
   "execution_count": 130,
   "metadata": {},
   "outputs": [],
   "source": [
    "def recommed(uid):\n",
    "    jokesid=set()\n",
    "    for val in top_n[uid]:\n",
    "        jokesid.add(val[0])\n",
    "    print(jokesid)\n",
    "    for file in jokesid:\n",
    "        print(f'{\"-\"*40}JokeId {file}{\"-\"*45} {getJokes(file)}{\"-\"*100}\\n\\n')\n"
   ]
  },
  {
   "cell_type": "code",
   "execution_count": 133,
   "metadata": {},
   "outputs": [
    {
     "output_type": "stream",
     "name": "stdout",
     "text": [
      "{66, 4, 12}\n----------------------------------------JokeId 66--------------------------------------------- \nA lawyer opened the door of his BMW, when suddenly a car came along\nand hit the door, ripping it off completely.  When the police arrived\nat the scene, the lawyer was complaining bitterly about the damage to\nhis precious BMW.  \n<p>\"Officer, look what they've done to my Beeeeemer!!!\", he whined.  \n<p>\"You lawyers are so materialistic, you make\nme sick!!!\"  retorted the officer.  \"You're so worried about your\nstupid BMW, that you didn't even notice that your left arm was ripped\noff!!!\"  \n<p>\"Oh my gaaaad...\", replied the lawyer, finally noticing the\nbloody left shoulder where his arm once was.  \"Where's my\nRolex???!!!!\"\n----------------------------------------------------------------------------------------------------\n\n\n----------------------------------------JokeId 4--------------------------------------------- \nQ. What's the difference between a man and a toilet? \n<P>\nA. A toilet doesn't follow you around after you use it.\n----------------------------------------------------------------------------------------------------\n\n\n----------------------------------------JokeId 12--------------------------------------------- \nA guy stood over his tee shot for what seemed an eternity, looking up, looking down, measuring the distance,\nfiguring the wind direction and speed. Driving his partner nuts.\n<P>\nFinally his exasperated partner says, \"What the hell is taking so long? Hit the goddamn ball!\"\nThe guy answers, \"My wife is up there watching me from the clubhouse. I want to make this a perfect shot.\"\n\"Well, hell, man, you don't stand a snowball's chance in hell of hitting her from here!\" \n----------------------------------------------------------------------------------------------------\n\n\n"
     ]
    }
   ],
   "source": [
    "recommed(7)"
   ]
  },
  {
   "cell_type": "code",
   "execution_count": null,
   "metadata": {},
   "outputs": [],
   "source": []
  },
  {
   "cell_type": "code",
   "execution_count": 301,
   "metadata": {},
   "outputs": [
    {
     "output_type": "execute_result",
     "data": {
      "text/plain": [
       "     u                j\n",
       "0   24             {50}\n",
       "1   18             {50}\n",
       "2   31             {27}\n",
       "3   25             {50}\n",
       "4   29             {50}\n",
       "5   22             {50}\n",
       "6   33             {27}\n",
       "7   28             {27}\n",
       "8   35             {27}\n",
       "9   30             {27}\n",
       "10  16             {50}\n",
       "11  27             {50}\n",
       "12  34             {27}\n",
       "13  21             {27}\n",
       "14  17             {50}\n",
       "15  23             {50}\n",
       "16  19             {50}\n",
       "17  26             {50}\n",
       "18  20             {27}\n",
       "19  32             {27}\n",
       "20  15  {50, 5, 29, 62}"
      ],
      "text/html": "<div>\n<style scoped>\n    .dataframe tbody tr th:only-of-type {\n        vertical-align: middle;\n    }\n\n    .dataframe tbody tr th {\n        vertical-align: top;\n    }\n\n    .dataframe thead th {\n        text-align: right;\n    }\n</style>\n<table border=\"1\" class=\"dataframe\">\n  <thead>\n    <tr style=\"text-align: right;\">\n      <th></th>\n      <th>u</th>\n      <th>j</th>\n    </tr>\n  </thead>\n  <tbody>\n    <tr>\n      <th>0</th>\n      <td>24</td>\n      <td>{50}</td>\n    </tr>\n    <tr>\n      <th>1</th>\n      <td>18</td>\n      <td>{50}</td>\n    </tr>\n    <tr>\n      <th>2</th>\n      <td>31</td>\n      <td>{27}</td>\n    </tr>\n    <tr>\n      <th>3</th>\n      <td>25</td>\n      <td>{50}</td>\n    </tr>\n    <tr>\n      <th>4</th>\n      <td>29</td>\n      <td>{50}</td>\n    </tr>\n    <tr>\n      <th>5</th>\n      <td>22</td>\n      <td>{50}</td>\n    </tr>\n    <tr>\n      <th>6</th>\n      <td>33</td>\n      <td>{27}</td>\n    </tr>\n    <tr>\n      <th>7</th>\n      <td>28</td>\n      <td>{27}</td>\n    </tr>\n    <tr>\n      <th>8</th>\n      <td>35</td>\n      <td>{27}</td>\n    </tr>\n    <tr>\n      <th>9</th>\n      <td>30</td>\n      <td>{27}</td>\n    </tr>\n    <tr>\n      <th>10</th>\n      <td>16</td>\n      <td>{50}</td>\n    </tr>\n    <tr>\n      <th>11</th>\n      <td>27</td>\n      <td>{50}</td>\n    </tr>\n    <tr>\n      <th>12</th>\n      <td>34</td>\n      <td>{27}</td>\n    </tr>\n    <tr>\n      <th>13</th>\n      <td>21</td>\n      <td>{27}</td>\n    </tr>\n    <tr>\n      <th>14</th>\n      <td>17</td>\n      <td>{50}</td>\n    </tr>\n    <tr>\n      <th>15</th>\n      <td>23</td>\n      <td>{50}</td>\n    </tr>\n    <tr>\n      <th>16</th>\n      <td>19</td>\n      <td>{50}</td>\n    </tr>\n    <tr>\n      <th>17</th>\n      <td>26</td>\n      <td>{50}</td>\n    </tr>\n    <tr>\n      <th>18</th>\n      <td>20</td>\n      <td>{27}</td>\n    </tr>\n    <tr>\n      <th>19</th>\n      <td>32</td>\n      <td>{27}</td>\n    </tr>\n    <tr>\n      <th>20</th>\n      <td>15</td>\n      <td>{50, 5, 29, 62}</td>\n    </tr>\n  </tbody>\n</table>\n</div>"
     },
     "metadata": {},
     "execution_count": 301
    }
   ],
   "source": [
    "final = pd.DataFrame({'u':userid,'j':jokesid})\n",
    "final"
   ]
  },
  {
   "cell_type": "code",
   "execution_count": 137,
   "metadata": {},
   "outputs": [
    {
     "output_type": "execute_result",
     "data": {
      "text/plain": [
       "{'test_rmse': array([2.5738067 , 2.58743182, 2.60043542]),\n",
       " 'test_mae': array([1.20890669, 1.2658846 , 1.30227421]),\n",
       " 'fit_time': (145.22379231452942, 185.27940273284912, 230.84769105911255),\n",
       " 'test_time': (8.394989013671875, 15.545635461807251, 13.717051982879639)}"
      ]
     },
     "metadata": {},
     "execution_count": 137
    }
   ],
   "source": [
    "cross_validate(model,dd,cv=3)"
   ]
  },
  {
   "cell_type": "code",
   "execution_count": null,
   "metadata": {},
   "outputs": [],
   "source": []
  }
 ]
}