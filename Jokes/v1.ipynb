{
 "metadata": {
  "language_info": {
   "codemirror_mode": {
    "name": "ipython",
    "version": 3
   },
   "file_extension": ".py",
   "mimetype": "text/x-python",
   "name": "python",
   "nbconvert_exporter": "python",
   "pygments_lexer": "ipython3",
   "version": "3.7.9"
  },
  "orig_nbformat": 2,
  "kernelspec": {
   "name": "pythonjvsc74a57bd03e450a651d082633f5bc5e89c9da064f1b780eaed216155c44f4406c42d93987",
   "display_name": "Python 3.7.9  ('venv': venv)"
  },
  "metadata": {
   "interpreter": {
    "hash": "3e450a651d082633f5bc5e89c9da064f1b780eaed216155c44f4406c42d93987"
   }
  }
 },
 "nbformat": 4,
 "nbformat_minor": 2,
 "cells": [
  {
   "cell_type": "code",
   "execution_count": 414,
   "metadata": {},
   "outputs": [],
   "source": [
    "import numpy as np\n",
    "import pandas as pd \n",
    "import matplotlib.pyplot as plt"
   ]
  },
  {
   "cell_type": "code",
   "execution_count": 81,
   "metadata": {},
   "outputs": [],
   "source": [
    "data = pd.read_excel('jester-data-3.xls',header=None)"
   ]
  },
  {
   "cell_type": "code",
   "execution_count": 82,
   "metadata": {},
   "outputs": [],
   "source": [
    "data = data.rename({0:'Rate_count'},axis=1)"
   ]
  },
  {
   "cell_type": "code",
   "execution_count": 388,
   "metadata": {},
   "outputs": [],
   "source": [
    "df = data.melt(id_vars=\"Rate_count\",value_name=\"rating\")\n",
    "df = df.rename({'variable':'JokesId'},axis=1)\n"
   ]
  },
  {
   "cell_type": "code",
   "execution_count": 389,
   "metadata": {},
   "outputs": [],
   "source": [
    "df.index.name ='userId'"
   ]
  },
  {
   "cell_type": "code",
   "execution_count": 390,
   "metadata": {},
   "outputs": [],
   "source": [
    "df['rating'].replace(99.0,0,inplace=True)"
   ]
  },
  {
   "cell_type": "code",
   "execution_count": 391,
   "metadata": {},
   "outputs": [
    {
     "output_type": "execute_result",
     "data": {
      "text/plain": [
       "<AxesSubplot:>"
      ]
     },
     "metadata": {},
     "execution_count": 391
    },
    {
     "output_type": "display_data",
     "data": {
      "text/plain": "<Figure size 432x288 with 1 Axes>",
      "image/svg+xml": "<?xml version=\"1.0\" encoding=\"utf-8\" standalone=\"no\"?>\r\n<!DOCTYPE svg PUBLIC \"-//W3C//DTD SVG 1.1//EN\"\r\n  \"http://www.w3.org/Graphics/SVG/1.1/DTD/svg11.dtd\">\r\n<!-- Created with matplotlib (https://matplotlib.org/) -->\r\n<svg height=\"259.116562pt\" version=\"1.1\" viewBox=\"0 0 378.465625 259.116562\" width=\"378.465625pt\" xmlns=\"http://www.w3.org/2000/svg\" xmlns:xlink=\"http://www.w3.org/1999/xlink\">\r\n <metadata>\r\n  <rdf:RDF xmlns:cc=\"http://creativecommons.org/ns#\" xmlns:dc=\"http://purl.org/dc/elements/1.1/\" xmlns:rdf=\"http://www.w3.org/1999/02/22-rdf-syntax-ns#\">\r\n   <cc:Work>\r\n    <dc:type rdf:resource=\"http://purl.org/dc/dcmitype/StillImage\"/>\r\n    <dc:date>2021-04-06T15:09:13.818492</dc:date>\r\n    <dc:format>image/svg+xml</dc:format>\r\n    <dc:creator>\r\n     <cc:Agent>\r\n      <dc:title>Matplotlib v3.3.4, https://matplotlib.org/</dc:title>\r\n     </cc:Agent>\r\n    </dc:creator>\r\n   </cc:Work>\r\n  </rdf:RDF>\r\n </metadata>\r\n <defs>\r\n  <style type=\"text/css\">*{stroke-linecap:butt;stroke-linejoin:round;}</style>\r\n </defs>\r\n <g id=\"figure_1\">\r\n  <g id=\"patch_1\">\r\n   <path d=\"M 0 259.116562 \r\nL 378.465625 259.116562 \r\nL 378.465625 0 \r\nL 0 0 \r\nz\r\n\" style=\"fill:none;\"/>\r\n  </g>\r\n  <g id=\"axes_1\">\r\n   <g id=\"patch_2\">\r\n    <path d=\"M 36.465625 235.238437 \r\nL 371.265625 235.238437 \r\nL 371.265625 17.798437 \r\nL 36.465625 17.798437 \r\nz\r\n\" style=\"fill:#ffffff;\"/>\r\n   </g>\r\n   <g id=\"patch_3\">\r\n    <path clip-path=\"url(#pe23e624e5d)\" d=\"M 51.683807 235.238437 \r\nL 82.12017 235.238437 \r\nL 82.12017 229.211266 \r\nL 51.683807 229.211266 \r\nz\r\n\" style=\"fill:#1f77b4;\"/>\r\n   </g>\r\n   <g id=\"patch_4\">\r\n    <path clip-path=\"url(#pe23e624e5d)\" d=\"M 82.12017 235.238437 \r\nL 112.556534 235.238437 \r\nL 112.556534 229.151459 \r\nL 82.12017 229.151459 \r\nz\r\n\" style=\"fill:#1f77b4;\"/>\r\n   </g>\r\n   <g id=\"patch_5\">\r\n    <path clip-path=\"url(#pe23e624e5d)\" d=\"M 112.556534 235.238437 \r\nL 142.992898 235.238437 \r\nL 142.992898 230.289063 \r\nL 112.556534 230.289063 \r\nz\r\n\" style=\"fill:#1f77b4;\"/>\r\n   </g>\r\n   <g id=\"patch_6\">\r\n    <path clip-path=\"url(#pe23e624e5d)\" d=\"M 142.992898 235.238437 \r\nL 173.429261 235.238437 \r\nL 173.429261 230.103151 \r\nL 142.992898 230.103151 \r\nz\r\n\" style=\"fill:#1f77b4;\"/>\r\n   </g>\r\n   <g id=\"patch_7\">\r\n    <path clip-path=\"url(#pe23e624e5d)\" d=\"M 173.429261 235.238437 \r\nL 203.865625 235.238437 \r\nL 203.865625 28.152723 \r\nL 173.429261 28.152723 \r\nz\r\n\" style=\"fill:#1f77b4;\"/>\r\n   </g>\r\n   <g id=\"patch_8\">\r\n    <path clip-path=\"url(#pe23e624e5d)\" d=\"M 203.865625 235.238437 \r\nL 234.301989 235.238437 \r\nL 234.301989 227.209126 \r\nL 203.865625 227.209126 \r\nz\r\n\" style=\"fill:#1f77b4;\"/>\r\n   </g>\r\n   <g id=\"patch_9\">\r\n    <path clip-path=\"url(#pe23e624e5d)\" d=\"M 234.301989 235.238437 \r\nL 264.738352 235.238437 \r\nL 264.738352 226.434086 \r\nL 234.301989 226.434086 \r\nz\r\n\" style=\"fill:#1f77b4;\"/>\r\n   </g>\r\n   <g id=\"patch_10\">\r\n    <path clip-path=\"url(#pe23e624e5d)\" d=\"M 264.738352 235.238437 \r\nL 295.174716 235.238437 \r\nL 295.174716 227.710033 \r\nL 264.738352 227.710033 \r\nz\r\n\" style=\"fill:#1f77b4;\"/>\r\n   </g>\r\n   <g id=\"patch_11\">\r\n    <path clip-path=\"url(#pe23e624e5d)\" d=\"M 295.174716 235.238437 \r\nL 325.61108 235.238437 \r\nL 325.61108 227.909779 \r\nL 295.174716 227.909779 \r\nz\r\n\" style=\"fill:#1f77b4;\"/>\r\n   </g>\r\n   <g id=\"patch_12\">\r\n    <path clip-path=\"url(#pe23e624e5d)\" d=\"M 325.61108 235.238437 \r\nL 356.047443 235.238437 \r\nL 356.047443 230.829558 \r\nL 325.61108 230.829558 \r\nz\r\n\" style=\"fill:#1f77b4;\"/>\r\n   </g>\r\n   <g id=\"matplotlib.axis_1\">\r\n    <g id=\"xtick_1\">\r\n     <g id=\"line2d_1\">\r\n      <path clip-path=\"url(#pe23e624e5d)\" d=\"M 50.920991 235.238437 \r\nL 50.920991 17.798437 \r\n\" style=\"fill:none;stroke:#b0b0b0;stroke-linecap:square;stroke-width:0.8;\"/>\r\n     </g>\r\n     <g id=\"line2d_2\">\r\n      <defs>\r\n       <path d=\"M 0 0 \r\nL 0 3.5 \r\n\" id=\"m433c0455d5\" style=\"stroke:#000000;stroke-width:0.8;\"/>\r\n      </defs>\r\n      <g>\r\n       <use style=\"stroke:#000000;stroke-width:0.8;\" x=\"50.920991\" xlink:href=\"#m433c0455d5\" y=\"235.238437\"/>\r\n      </g>\r\n     </g>\r\n     <g id=\"text_1\">\r\n      <!-- −10.0 -->\r\n      <g transform=\"translate(35.598334 249.836875)scale(0.1 -0.1)\">\r\n       <defs>\r\n        <path d=\"M 10.59375 35.5 \r\nL 73.1875 35.5 \r\nL 73.1875 27.203125 \r\nL 10.59375 27.203125 \r\nz\r\n\" id=\"DejaVuSans-8722\"/>\r\n        <path d=\"M 12.40625 8.296875 \r\nL 28.515625 8.296875 \r\nL 28.515625 63.921875 \r\nL 10.984375 60.40625 \r\nL 10.984375 69.390625 \r\nL 28.421875 72.90625 \r\nL 38.28125 72.90625 \r\nL 38.28125 8.296875 \r\nL 54.390625 8.296875 \r\nL 54.390625 0 \r\nL 12.40625 0 \r\nz\r\n\" id=\"DejaVuSans-49\"/>\r\n        <path d=\"M 31.78125 66.40625 \r\nQ 24.171875 66.40625 20.328125 58.90625 \r\nQ 16.5 51.421875 16.5 36.375 \r\nQ 16.5 21.390625 20.328125 13.890625 \r\nQ 24.171875 6.390625 31.78125 6.390625 \r\nQ 39.453125 6.390625 43.28125 13.890625 \r\nQ 47.125 21.390625 47.125 36.375 \r\nQ 47.125 51.421875 43.28125 58.90625 \r\nQ 39.453125 66.40625 31.78125 66.40625 \r\nz\r\nM 31.78125 74.21875 \r\nQ 44.046875 74.21875 50.515625 64.515625 \r\nQ 56.984375 54.828125 56.984375 36.375 \r\nQ 56.984375 17.96875 50.515625 8.265625 \r\nQ 44.046875 -1.421875 31.78125 -1.421875 \r\nQ 19.53125 -1.421875 13.0625 8.265625 \r\nQ 6.59375 17.96875 6.59375 36.375 \r\nQ 6.59375 54.828125 13.0625 64.515625 \r\nQ 19.53125 74.21875 31.78125 74.21875 \r\nz\r\n\" id=\"DejaVuSans-48\"/>\r\n        <path d=\"M 10.6875 12.40625 \r\nL 21 12.40625 \r\nL 21 0 \r\nL 10.6875 0 \r\nz\r\n\" id=\"DejaVuSans-46\"/>\r\n       </defs>\r\n       <use xlink:href=\"#DejaVuSans-8722\"/>\r\n       <use x=\"83.789062\" xlink:href=\"#DejaVuSans-49\"/>\r\n       <use x=\"147.412109\" xlink:href=\"#DejaVuSans-48\"/>\r\n       <use x=\"211.035156\" xlink:href=\"#DejaVuSans-46\"/>\r\n       <use x=\"242.822266\" xlink:href=\"#DejaVuSans-48\"/>\r\n      </g>\r\n     </g>\r\n    </g>\r\n    <g id=\"xtick_2\">\r\n     <g id=\"line2d_3\">\r\n      <path clip-path=\"url(#pe23e624e5d)\" d=\"M 89.061797 235.238437 \r\nL 89.061797 17.798437 \r\n\" style=\"fill:none;stroke:#b0b0b0;stroke-linecap:square;stroke-width:0.8;\"/>\r\n     </g>\r\n     <g id=\"line2d_4\">\r\n      <g>\r\n       <use style=\"stroke:#000000;stroke-width:0.8;\" x=\"89.061797\" xlink:href=\"#m433c0455d5\" y=\"235.238437\"/>\r\n      </g>\r\n     </g>\r\n     <g id=\"text_2\">\r\n      <!-- −7.5 -->\r\n      <g transform=\"translate(76.920391 249.836875)scale(0.1 -0.1)\">\r\n       <defs>\r\n        <path d=\"M 8.203125 72.90625 \r\nL 55.078125 72.90625 \r\nL 55.078125 68.703125 \r\nL 28.609375 0 \r\nL 18.3125 0 \r\nL 43.21875 64.59375 \r\nL 8.203125 64.59375 \r\nz\r\n\" id=\"DejaVuSans-55\"/>\r\n        <path d=\"M 10.796875 72.90625 \r\nL 49.515625 72.90625 \r\nL 49.515625 64.59375 \r\nL 19.828125 64.59375 \r\nL 19.828125 46.734375 \r\nQ 21.96875 47.46875 24.109375 47.828125 \r\nQ 26.265625 48.1875 28.421875 48.1875 \r\nQ 40.625 48.1875 47.75 41.5 \r\nQ 54.890625 34.8125 54.890625 23.390625 \r\nQ 54.890625 11.625 47.5625 5.09375 \r\nQ 40.234375 -1.421875 26.90625 -1.421875 \r\nQ 22.3125 -1.421875 17.546875 -0.640625 \r\nQ 12.796875 0.140625 7.71875 1.703125 \r\nL 7.71875 11.625 \r\nQ 12.109375 9.234375 16.796875 8.0625 \r\nQ 21.484375 6.890625 26.703125 6.890625 \r\nQ 35.15625 6.890625 40.078125 11.328125 \r\nQ 45.015625 15.765625 45.015625 23.390625 \r\nQ 45.015625 31 40.078125 35.4375 \r\nQ 35.15625 39.890625 26.703125 39.890625 \r\nQ 22.75 39.890625 18.8125 39.015625 \r\nQ 14.890625 38.140625 10.796875 36.28125 \r\nz\r\n\" id=\"DejaVuSans-53\"/>\r\n       </defs>\r\n       <use xlink:href=\"#DejaVuSans-8722\"/>\r\n       <use x=\"83.789062\" xlink:href=\"#DejaVuSans-55\"/>\r\n       <use x=\"147.412109\" xlink:href=\"#DejaVuSans-46\"/>\r\n       <use x=\"179.199219\" xlink:href=\"#DejaVuSans-53\"/>\r\n      </g>\r\n     </g>\r\n    </g>\r\n    <g id=\"xtick_3\">\r\n     <g id=\"line2d_5\">\r\n      <path clip-path=\"url(#pe23e624e5d)\" d=\"M 127.202604 235.238437 \r\nL 127.202604 17.798437 \r\n\" style=\"fill:none;stroke:#b0b0b0;stroke-linecap:square;stroke-width:0.8;\"/>\r\n     </g>\r\n     <g id=\"line2d_6\">\r\n      <g>\r\n       <use style=\"stroke:#000000;stroke-width:0.8;\" x=\"127.202604\" xlink:href=\"#m433c0455d5\" y=\"235.238437\"/>\r\n      </g>\r\n     </g>\r\n     <g id=\"text_3\">\r\n      <!-- −5.0 -->\r\n      <g transform=\"translate(115.061198 249.836875)scale(0.1 -0.1)\">\r\n       <use xlink:href=\"#DejaVuSans-8722\"/>\r\n       <use x=\"83.789062\" xlink:href=\"#DejaVuSans-53\"/>\r\n       <use x=\"147.412109\" xlink:href=\"#DejaVuSans-46\"/>\r\n       <use x=\"179.199219\" xlink:href=\"#DejaVuSans-48\"/>\r\n      </g>\r\n     </g>\r\n    </g>\r\n    <g id=\"xtick_4\">\r\n     <g id=\"line2d_7\">\r\n      <path clip-path=\"url(#pe23e624e5d)\" d=\"M 165.34341 235.238437 \r\nL 165.34341 17.798437 \r\n\" style=\"fill:none;stroke:#b0b0b0;stroke-linecap:square;stroke-width:0.8;\"/>\r\n     </g>\r\n     <g id=\"line2d_8\">\r\n      <g>\r\n       <use style=\"stroke:#000000;stroke-width:0.8;\" x=\"165.34341\" xlink:href=\"#m433c0455d5\" y=\"235.238437\"/>\r\n      </g>\r\n     </g>\r\n     <g id=\"text_4\">\r\n      <!-- −2.5 -->\r\n      <g transform=\"translate(153.202004 249.836875)scale(0.1 -0.1)\">\r\n       <defs>\r\n        <path d=\"M 19.1875 8.296875 \r\nL 53.609375 8.296875 \r\nL 53.609375 0 \r\nL 7.328125 0 \r\nL 7.328125 8.296875 \r\nQ 12.9375 14.109375 22.625 23.890625 \r\nQ 32.328125 33.6875 34.8125 36.53125 \r\nQ 39.546875 41.84375 41.421875 45.53125 \r\nQ 43.3125 49.21875 43.3125 52.78125 \r\nQ 43.3125 58.59375 39.234375 62.25 \r\nQ 35.15625 65.921875 28.609375 65.921875 \r\nQ 23.96875 65.921875 18.8125 64.3125 \r\nQ 13.671875 62.703125 7.8125 59.421875 \r\nL 7.8125 69.390625 \r\nQ 13.765625 71.78125 18.9375 73 \r\nQ 24.125 74.21875 28.421875 74.21875 \r\nQ 39.75 74.21875 46.484375 68.546875 \r\nQ 53.21875 62.890625 53.21875 53.421875 \r\nQ 53.21875 48.921875 51.53125 44.890625 \r\nQ 49.859375 40.875 45.40625 35.40625 \r\nQ 44.1875 33.984375 37.640625 27.21875 \r\nQ 31.109375 20.453125 19.1875 8.296875 \r\nz\r\n\" id=\"DejaVuSans-50\"/>\r\n       </defs>\r\n       <use xlink:href=\"#DejaVuSans-8722\"/>\r\n       <use x=\"83.789062\" xlink:href=\"#DejaVuSans-50\"/>\r\n       <use x=\"147.412109\" xlink:href=\"#DejaVuSans-46\"/>\r\n       <use x=\"179.199219\" xlink:href=\"#DejaVuSans-53\"/>\r\n      </g>\r\n     </g>\r\n    </g>\r\n    <g id=\"xtick_5\">\r\n     <g id=\"line2d_9\">\r\n      <path clip-path=\"url(#pe23e624e5d)\" d=\"M 203.484217 235.238437 \r\nL 203.484217 17.798437 \r\n\" style=\"fill:none;stroke:#b0b0b0;stroke-linecap:square;stroke-width:0.8;\"/>\r\n     </g>\r\n     <g id=\"line2d_10\">\r\n      <g>\r\n       <use style=\"stroke:#000000;stroke-width:0.8;\" x=\"203.484217\" xlink:href=\"#m433c0455d5\" y=\"235.238437\"/>\r\n      </g>\r\n     </g>\r\n     <g id=\"text_5\">\r\n      <!-- 0.0 -->\r\n      <g transform=\"translate(195.532654 249.836875)scale(0.1 -0.1)\">\r\n       <use xlink:href=\"#DejaVuSans-48\"/>\r\n       <use x=\"63.623047\" xlink:href=\"#DejaVuSans-46\"/>\r\n       <use x=\"95.410156\" xlink:href=\"#DejaVuSans-48\"/>\r\n      </g>\r\n     </g>\r\n    </g>\r\n    <g id=\"xtick_6\">\r\n     <g id=\"line2d_11\">\r\n      <path clip-path=\"url(#pe23e624e5d)\" d=\"M 241.625023 235.238437 \r\nL 241.625023 17.798437 \r\n\" style=\"fill:none;stroke:#b0b0b0;stroke-linecap:square;stroke-width:0.8;\"/>\r\n     </g>\r\n     <g id=\"line2d_12\">\r\n      <g>\r\n       <use style=\"stroke:#000000;stroke-width:0.8;\" x=\"241.625023\" xlink:href=\"#m433c0455d5\" y=\"235.238437\"/>\r\n      </g>\r\n     </g>\r\n     <g id=\"text_6\">\r\n      <!-- 2.5 -->\r\n      <g transform=\"translate(233.673461 249.836875)scale(0.1 -0.1)\">\r\n       <use xlink:href=\"#DejaVuSans-50\"/>\r\n       <use x=\"63.623047\" xlink:href=\"#DejaVuSans-46\"/>\r\n       <use x=\"95.410156\" xlink:href=\"#DejaVuSans-53\"/>\r\n      </g>\r\n     </g>\r\n    </g>\r\n    <g id=\"xtick_7\">\r\n     <g id=\"line2d_13\">\r\n      <path clip-path=\"url(#pe23e624e5d)\" d=\"M 279.76583 235.238437 \r\nL 279.76583 17.798437 \r\n\" style=\"fill:none;stroke:#b0b0b0;stroke-linecap:square;stroke-width:0.8;\"/>\r\n     </g>\r\n     <g id=\"line2d_14\">\r\n      <g>\r\n       <use style=\"stroke:#000000;stroke-width:0.8;\" x=\"279.76583\" xlink:href=\"#m433c0455d5\" y=\"235.238437\"/>\r\n      </g>\r\n     </g>\r\n     <g id=\"text_7\">\r\n      <!-- 5.0 -->\r\n      <g transform=\"translate(271.814268 249.836875)scale(0.1 -0.1)\">\r\n       <use xlink:href=\"#DejaVuSans-53\"/>\r\n       <use x=\"63.623047\" xlink:href=\"#DejaVuSans-46\"/>\r\n       <use x=\"95.410156\" xlink:href=\"#DejaVuSans-48\"/>\r\n      </g>\r\n     </g>\r\n    </g>\r\n    <g id=\"xtick_8\">\r\n     <g id=\"line2d_15\">\r\n      <path clip-path=\"url(#pe23e624e5d)\" d=\"M 317.906637 235.238437 \r\nL 317.906637 17.798437 \r\n\" style=\"fill:none;stroke:#b0b0b0;stroke-linecap:square;stroke-width:0.8;\"/>\r\n     </g>\r\n     <g id=\"line2d_16\">\r\n      <g>\r\n       <use style=\"stroke:#000000;stroke-width:0.8;\" x=\"317.906637\" xlink:href=\"#m433c0455d5\" y=\"235.238437\"/>\r\n      </g>\r\n     </g>\r\n     <g id=\"text_8\">\r\n      <!-- 7.5 -->\r\n      <g transform=\"translate(309.955074 249.836875)scale(0.1 -0.1)\">\r\n       <use xlink:href=\"#DejaVuSans-55\"/>\r\n       <use x=\"63.623047\" xlink:href=\"#DejaVuSans-46\"/>\r\n       <use x=\"95.410156\" xlink:href=\"#DejaVuSans-53\"/>\r\n      </g>\r\n     </g>\r\n    </g>\r\n    <g id=\"xtick_9\">\r\n     <g id=\"line2d_17\">\r\n      <path clip-path=\"url(#pe23e624e5d)\" d=\"M 356.047443 235.238437 \r\nL 356.047443 17.798437 \r\n\" style=\"fill:none;stroke:#b0b0b0;stroke-linecap:square;stroke-width:0.8;\"/>\r\n     </g>\r\n     <g id=\"line2d_18\">\r\n      <g>\r\n       <use style=\"stroke:#000000;stroke-width:0.8;\" x=\"356.047443\" xlink:href=\"#m433c0455d5\" y=\"235.238437\"/>\r\n      </g>\r\n     </g>\r\n     <g id=\"text_9\">\r\n      <!-- 10.0 -->\r\n      <g transform=\"translate(344.914631 249.836875)scale(0.1 -0.1)\">\r\n       <use xlink:href=\"#DejaVuSans-49\"/>\r\n       <use x=\"63.623047\" xlink:href=\"#DejaVuSans-48\"/>\r\n       <use x=\"127.246094\" xlink:href=\"#DejaVuSans-46\"/>\r\n       <use x=\"159.033203\" xlink:href=\"#DejaVuSans-48\"/>\r\n      </g>\r\n     </g>\r\n    </g>\r\n   </g>\r\n   <g id=\"matplotlib.axis_2\">\r\n    <g id=\"ytick_1\">\r\n     <g id=\"line2d_19\">\r\n      <path clip-path=\"url(#pe23e624e5d)\" d=\"M 36.465625 235.238437 \r\nL 371.265625 235.238437 \r\n\" style=\"fill:none;stroke:#b0b0b0;stroke-linecap:square;stroke-width:0.8;\"/>\r\n     </g>\r\n     <g id=\"line2d_20\">\r\n      <defs>\r\n       <path d=\"M 0 0 \r\nL -3.5 0 \r\n\" id=\"m4c99be314d\" style=\"stroke:#000000;stroke-width:0.8;\"/>\r\n      </defs>\r\n      <g>\r\n       <use style=\"stroke:#000000;stroke-width:0.8;\" x=\"36.465625\" xlink:href=\"#m4c99be314d\" y=\"235.238437\"/>\r\n      </g>\r\n     </g>\r\n     <g id=\"text_10\">\r\n      <!-- 0.00 -->\r\n      <g transform=\"translate(7.2 239.037656)scale(0.1 -0.1)\">\r\n       <use xlink:href=\"#DejaVuSans-48\"/>\r\n       <use x=\"63.623047\" xlink:href=\"#DejaVuSans-46\"/>\r\n       <use x=\"95.410156\" xlink:href=\"#DejaVuSans-48\"/>\r\n       <use x=\"159.033203\" xlink:href=\"#DejaVuSans-48\"/>\r\n      </g>\r\n     </g>\r\n    </g>\r\n    <g id=\"ytick_2\">\r\n     <g id=\"line2d_21\">\r\n      <path clip-path=\"url(#pe23e624e5d)\" d=\"M 36.465625 208.634045 \r\nL 371.265625 208.634045 \r\n\" style=\"fill:none;stroke:#b0b0b0;stroke-linecap:square;stroke-width:0.8;\"/>\r\n     </g>\r\n     <g id=\"line2d_22\">\r\n      <g>\r\n       <use style=\"stroke:#000000;stroke-width:0.8;\" x=\"36.465625\" xlink:href=\"#m4c99be314d\" y=\"208.634045\"/>\r\n      </g>\r\n     </g>\r\n     <g id=\"text_11\">\r\n      <!-- 0.25 -->\r\n      <g transform=\"translate(7.2 212.433264)scale(0.1 -0.1)\">\r\n       <use xlink:href=\"#DejaVuSans-48\"/>\r\n       <use x=\"63.623047\" xlink:href=\"#DejaVuSans-46\"/>\r\n       <use x=\"95.410156\" xlink:href=\"#DejaVuSans-50\"/>\r\n       <use x=\"159.033203\" xlink:href=\"#DejaVuSans-53\"/>\r\n      </g>\r\n     </g>\r\n    </g>\r\n    <g id=\"ytick_3\">\r\n     <g id=\"line2d_23\">\r\n      <path clip-path=\"url(#pe23e624e5d)\" d=\"M 36.465625 182.029653 \r\nL 371.265625 182.029653 \r\n\" style=\"fill:none;stroke:#b0b0b0;stroke-linecap:square;stroke-width:0.8;\"/>\r\n     </g>\r\n     <g id=\"line2d_24\">\r\n      <g>\r\n       <use style=\"stroke:#000000;stroke-width:0.8;\" x=\"36.465625\" xlink:href=\"#m4c99be314d\" y=\"182.029653\"/>\r\n      </g>\r\n     </g>\r\n     <g id=\"text_12\">\r\n      <!-- 0.50 -->\r\n      <g transform=\"translate(7.2 185.828872)scale(0.1 -0.1)\">\r\n       <use xlink:href=\"#DejaVuSans-48\"/>\r\n       <use x=\"63.623047\" xlink:href=\"#DejaVuSans-46\"/>\r\n       <use x=\"95.410156\" xlink:href=\"#DejaVuSans-53\"/>\r\n       <use x=\"159.033203\" xlink:href=\"#DejaVuSans-48\"/>\r\n      </g>\r\n     </g>\r\n    </g>\r\n    <g id=\"ytick_4\">\r\n     <g id=\"line2d_25\">\r\n      <path clip-path=\"url(#pe23e624e5d)\" d=\"M 36.465625 155.425261 \r\nL 371.265625 155.425261 \r\n\" style=\"fill:none;stroke:#b0b0b0;stroke-linecap:square;stroke-width:0.8;\"/>\r\n     </g>\r\n     <g id=\"line2d_26\">\r\n      <g>\r\n       <use style=\"stroke:#000000;stroke-width:0.8;\" x=\"36.465625\" xlink:href=\"#m4c99be314d\" y=\"155.425261\"/>\r\n      </g>\r\n     </g>\r\n     <g id=\"text_13\">\r\n      <!-- 0.75 -->\r\n      <g transform=\"translate(7.2 159.22448)scale(0.1 -0.1)\">\r\n       <use xlink:href=\"#DejaVuSans-48\"/>\r\n       <use x=\"63.623047\" xlink:href=\"#DejaVuSans-46\"/>\r\n       <use x=\"95.410156\" xlink:href=\"#DejaVuSans-55\"/>\r\n       <use x=\"159.033203\" xlink:href=\"#DejaVuSans-53\"/>\r\n      </g>\r\n     </g>\r\n    </g>\r\n    <g id=\"ytick_5\">\r\n     <g id=\"line2d_27\">\r\n      <path clip-path=\"url(#pe23e624e5d)\" d=\"M 36.465625 128.820869 \r\nL 371.265625 128.820869 \r\n\" style=\"fill:none;stroke:#b0b0b0;stroke-linecap:square;stroke-width:0.8;\"/>\r\n     </g>\r\n     <g id=\"line2d_28\">\r\n      <g>\r\n       <use style=\"stroke:#000000;stroke-width:0.8;\" x=\"36.465625\" xlink:href=\"#m4c99be314d\" y=\"128.820869\"/>\r\n      </g>\r\n     </g>\r\n     <g id=\"text_14\">\r\n      <!-- 1.00 -->\r\n      <g transform=\"translate(7.2 132.620088)scale(0.1 -0.1)\">\r\n       <use xlink:href=\"#DejaVuSans-49\"/>\r\n       <use x=\"63.623047\" xlink:href=\"#DejaVuSans-46\"/>\r\n       <use x=\"95.410156\" xlink:href=\"#DejaVuSans-48\"/>\r\n       <use x=\"159.033203\" xlink:href=\"#DejaVuSans-48\"/>\r\n      </g>\r\n     </g>\r\n    </g>\r\n    <g id=\"ytick_6\">\r\n     <g id=\"line2d_29\">\r\n      <path clip-path=\"url(#pe23e624e5d)\" d=\"M 36.465625 102.216477 \r\nL 371.265625 102.216477 \r\n\" style=\"fill:none;stroke:#b0b0b0;stroke-linecap:square;stroke-width:0.8;\"/>\r\n     </g>\r\n     <g id=\"line2d_30\">\r\n      <g>\r\n       <use style=\"stroke:#000000;stroke-width:0.8;\" x=\"36.465625\" xlink:href=\"#m4c99be314d\" y=\"102.216477\"/>\r\n      </g>\r\n     </g>\r\n     <g id=\"text_15\">\r\n      <!-- 1.25 -->\r\n      <g transform=\"translate(7.2 106.015696)scale(0.1 -0.1)\">\r\n       <use xlink:href=\"#DejaVuSans-49\"/>\r\n       <use x=\"63.623047\" xlink:href=\"#DejaVuSans-46\"/>\r\n       <use x=\"95.410156\" xlink:href=\"#DejaVuSans-50\"/>\r\n       <use x=\"159.033203\" xlink:href=\"#DejaVuSans-53\"/>\r\n      </g>\r\n     </g>\r\n    </g>\r\n    <g id=\"ytick_7\">\r\n     <g id=\"line2d_31\">\r\n      <path clip-path=\"url(#pe23e624e5d)\" d=\"M 36.465625 75.612085 \r\nL 371.265625 75.612085 \r\n\" style=\"fill:none;stroke:#b0b0b0;stroke-linecap:square;stroke-width:0.8;\"/>\r\n     </g>\r\n     <g id=\"line2d_32\">\r\n      <g>\r\n       <use style=\"stroke:#000000;stroke-width:0.8;\" x=\"36.465625\" xlink:href=\"#m4c99be314d\" y=\"75.612085\"/>\r\n      </g>\r\n     </g>\r\n     <g id=\"text_16\">\r\n      <!-- 1.50 -->\r\n      <g transform=\"translate(7.2 79.411304)scale(0.1 -0.1)\">\r\n       <use xlink:href=\"#DejaVuSans-49\"/>\r\n       <use x=\"63.623047\" xlink:href=\"#DejaVuSans-46\"/>\r\n       <use x=\"95.410156\" xlink:href=\"#DejaVuSans-53\"/>\r\n       <use x=\"159.033203\" xlink:href=\"#DejaVuSans-48\"/>\r\n      </g>\r\n     </g>\r\n    </g>\r\n    <g id=\"ytick_8\">\r\n     <g id=\"line2d_33\">\r\n      <path clip-path=\"url(#pe23e624e5d)\" d=\"M 36.465625 49.007693 \r\nL 371.265625 49.007693 \r\n\" style=\"fill:none;stroke:#b0b0b0;stroke-linecap:square;stroke-width:0.8;\"/>\r\n     </g>\r\n     <g id=\"line2d_34\">\r\n      <g>\r\n       <use style=\"stroke:#000000;stroke-width:0.8;\" x=\"36.465625\" xlink:href=\"#m4c99be314d\" y=\"49.007693\"/>\r\n      </g>\r\n     </g>\r\n     <g id=\"text_17\">\r\n      <!-- 1.75 -->\r\n      <g transform=\"translate(7.2 52.806912)scale(0.1 -0.1)\">\r\n       <use xlink:href=\"#DejaVuSans-49\"/>\r\n       <use x=\"63.623047\" xlink:href=\"#DejaVuSans-46\"/>\r\n       <use x=\"95.410156\" xlink:href=\"#DejaVuSans-55\"/>\r\n       <use x=\"159.033203\" xlink:href=\"#DejaVuSans-53\"/>\r\n      </g>\r\n     </g>\r\n    </g>\r\n    <g id=\"ytick_9\">\r\n     <g id=\"line2d_35\">\r\n      <path clip-path=\"url(#pe23e624e5d)\" d=\"M 36.465625 22.403301 \r\nL 371.265625 22.403301 \r\n\" style=\"fill:none;stroke:#b0b0b0;stroke-linecap:square;stroke-width:0.8;\"/>\r\n     </g>\r\n     <g id=\"line2d_36\">\r\n      <g>\r\n       <use style=\"stroke:#000000;stroke-width:0.8;\" x=\"36.465625\" xlink:href=\"#m4c99be314d\" y=\"22.403301\"/>\r\n      </g>\r\n     </g>\r\n     <g id=\"text_18\">\r\n      <!-- 2.00 -->\r\n      <g transform=\"translate(7.2 26.20252)scale(0.1 -0.1)\">\r\n       <use xlink:href=\"#DejaVuSans-50\"/>\r\n       <use x=\"63.623047\" xlink:href=\"#DejaVuSans-46\"/>\r\n       <use x=\"95.410156\" xlink:href=\"#DejaVuSans-48\"/>\r\n       <use x=\"159.033203\" xlink:href=\"#DejaVuSans-48\"/>\r\n      </g>\r\n     </g>\r\n    </g>\r\n    <g id=\"text_19\">\r\n     <!-- 1e6 -->\r\n     <g transform=\"translate(36.465625 14.798437)scale(0.1 -0.1)\">\r\n      <defs>\r\n       <path d=\"M 56.203125 29.59375 \r\nL 56.203125 25.203125 \r\nL 14.890625 25.203125 \r\nQ 15.484375 15.921875 20.484375 11.0625 \r\nQ 25.484375 6.203125 34.421875 6.203125 \r\nQ 39.59375 6.203125 44.453125 7.46875 \r\nQ 49.3125 8.734375 54.109375 11.28125 \r\nL 54.109375 2.78125 \r\nQ 49.265625 0.734375 44.1875 -0.34375 \r\nQ 39.109375 -1.421875 33.890625 -1.421875 \r\nQ 20.796875 -1.421875 13.15625 6.1875 \r\nQ 5.515625 13.8125 5.515625 26.8125 \r\nQ 5.515625 40.234375 12.765625 48.109375 \r\nQ 20.015625 56 32.328125 56 \r\nQ 43.359375 56 49.78125 48.890625 \r\nQ 56.203125 41.796875 56.203125 29.59375 \r\nz\r\nM 47.21875 32.234375 \r\nQ 47.125 39.59375 43.09375 43.984375 \r\nQ 39.0625 48.390625 32.421875 48.390625 \r\nQ 24.90625 48.390625 20.390625 44.140625 \r\nQ 15.875 39.890625 15.1875 32.171875 \r\nz\r\n\" id=\"DejaVuSans-101\"/>\r\n       <path d=\"M 33.015625 40.375 \r\nQ 26.375 40.375 22.484375 35.828125 \r\nQ 18.609375 31.296875 18.609375 23.390625 \r\nQ 18.609375 15.53125 22.484375 10.953125 \r\nQ 26.375 6.390625 33.015625 6.390625 \r\nQ 39.65625 6.390625 43.53125 10.953125 \r\nQ 47.40625 15.53125 47.40625 23.390625 \r\nQ 47.40625 31.296875 43.53125 35.828125 \r\nQ 39.65625 40.375 33.015625 40.375 \r\nz\r\nM 52.59375 71.296875 \r\nL 52.59375 62.3125 \r\nQ 48.875 64.0625 45.09375 64.984375 \r\nQ 41.3125 65.921875 37.59375 65.921875 \r\nQ 27.828125 65.921875 22.671875 59.328125 \r\nQ 17.53125 52.734375 16.796875 39.40625 \r\nQ 19.671875 43.65625 24.015625 45.921875 \r\nQ 28.375 48.1875 33.59375 48.1875 \r\nQ 44.578125 48.1875 50.953125 41.515625 \r\nQ 57.328125 34.859375 57.328125 23.390625 \r\nQ 57.328125 12.15625 50.6875 5.359375 \r\nQ 44.046875 -1.421875 33.015625 -1.421875 \r\nQ 20.359375 -1.421875 13.671875 8.265625 \r\nQ 6.984375 17.96875 6.984375 36.375 \r\nQ 6.984375 53.65625 15.1875 63.9375 \r\nQ 23.390625 74.21875 37.203125 74.21875 \r\nQ 40.921875 74.21875 44.703125 73.484375 \r\nQ 48.484375 72.75 52.59375 71.296875 \r\nz\r\n\" id=\"DejaVuSans-54\"/>\r\n      </defs>\r\n      <use xlink:href=\"#DejaVuSans-49\"/>\r\n      <use x=\"63.623047\" xlink:href=\"#DejaVuSans-101\"/>\r\n      <use x=\"125.146484\" xlink:href=\"#DejaVuSans-54\"/>\r\n     </g>\r\n    </g>\r\n   </g>\r\n   <g id=\"patch_13\">\r\n    <path d=\"M 36.465625 235.238437 \r\nL 36.465625 17.798438 \r\n\" style=\"fill:none;stroke:#000000;stroke-linecap:square;stroke-linejoin:miter;stroke-width:0.8;\"/>\r\n   </g>\r\n   <g id=\"patch_14\">\r\n    <path d=\"M 371.265625 235.238437 \r\nL 371.265625 17.798438 \r\n\" style=\"fill:none;stroke:#000000;stroke-linecap:square;stroke-linejoin:miter;stroke-width:0.8;\"/>\r\n   </g>\r\n   <g id=\"patch_15\">\r\n    <path d=\"M 36.465625 235.238437 \r\nL 371.265625 235.238437 \r\n\" style=\"fill:none;stroke:#000000;stroke-linecap:square;stroke-linejoin:miter;stroke-width:0.8;\"/>\r\n   </g>\r\n   <g id=\"patch_16\">\r\n    <path d=\"M 36.465625 17.798437 \r\nL 371.265625 17.798437 \r\n\" style=\"fill:none;stroke:#000000;stroke-linecap:square;stroke-linejoin:miter;stroke-width:0.8;\"/>\r\n   </g>\r\n  </g>\r\n </g>\r\n <defs>\r\n  <clipPath id=\"pe23e624e5d\">\r\n   <rect height=\"217.44\" width=\"334.8\" x=\"36.465625\" y=\"17.798437\"/>\r\n  </clipPath>\r\n </defs>\r\n</svg>\r\n",
      "image/png": "[encoded data removed]"
     },
     "metadata": {
      "needs_background": "light"
     }
    }
   ],
   "source": [
    "df['rating'].hist()"
   ]
  },
  {
   "cell_type": "code",
   "execution_count": null,
   "metadata": {},
   "outputs": [],
   "source": []
  },
  {
   "cell_type": "code",
   "execution_count": 7,
   "metadata": {},
   "outputs": [
    {
     "output_type": "execute_result",
     "data": {
      "text/plain": [
       "       Rate_count     1      2     3     4     5      6      7     8     9  \\\n",
       "0              26  99.0  99.00  99.0  99.0 -1.65  99.00  -0.78  6.89  99.0   \n",
       "1              33  99.0  99.00  99.0  99.0 -9.27  99.00  -9.17 -8.59  99.0   \n",
       "2              16  99.0  99.00  99.0  99.0 -6.12  99.00  -7.48 -7.77  99.0   \n",
       "3              24  99.0   0.05  99.0  99.0 -2.82  99.00  -4.85 -0.87  99.0   \n",
       "4              22  99.0  99.00  99.0  99.0 -4.95  99.00   6.21  2.72  99.0   \n",
       "...           ...   ...    ...   ...   ...   ...    ...    ...   ...   ...   \n",
       "24933          21  99.0  99.00  99.0  99.0  5.78   8.45  99.00  8.20  99.0   \n",
       "24934          16  99.0  99.00  99.0  99.0  5.24  99.00  99.00  5.68  99.0   \n",
       "24935          35  99.0  99.00  99.0  99.0 -3.93  99.00  -9.03 -2.67  99.0   \n",
       "24936          21  99.0  99.00  99.0  99.0  9.42   9.66  99.00  9.17  99.0   \n",
       "24937          35  99.0  99.00  99.0  99.0  0.19  99.00  -1.50  7.82  99.0   \n",
       "\n",
       "       ...    91    92     93    94     95    96    97    98     99   100  \n",
       "0      ...  99.0  99.0  99.00  99.0  99.00  99.0  99.0  99.0  99.00  99.0  \n",
       "1      ...  99.0  99.0  -2.77  99.0  99.00  99.0  99.0  99.0  99.00  99.0  \n",
       "2      ...  99.0  99.0  99.00  99.0  99.00  99.0  99.0  99.0  99.00  99.0  \n",
       "3      ...  99.0  99.0  99.00  99.0   1.84  99.0  99.0  99.0  -4.08  99.0  \n",
       "4      ...  99.0  99.0  99.00  99.0  99.00  99.0  99.0  99.0  99.00  99.0  \n",
       "...    ...   ...   ...    ...   ...    ...   ...   ...   ...    ...   ...  \n",
       "24933  ...  99.0  99.0  99.00  99.0  99.00  99.0  99.0  99.0  99.00  99.0  \n",
       "24934  ...  99.0  99.0  99.00  99.0  99.00  99.0  99.0  99.0  99.00  99.0  \n",
       "24935  ...  99.0  99.0  99.00  99.0  99.00  99.0  99.0  99.0  99.00  99.0  \n",
       "24936  ...  99.0  99.0  99.00  99.0  99.00  99.0  99.0  99.0  99.00  99.0  \n",
       "24937  ...  99.0  99.0  99.00  99.0  99.00  99.0  99.0  99.0  99.00  99.0  \n",
       "\n",
       "[24938 rows x 101 columns]"
      ],
      "text/html": "<div>\n<style scoped>\n    .dataframe tbody tr th:only-of-type {\n        vertical-align: middle;\n    }\n\n    .dataframe tbody tr th {\n        vertical-align: top;\n    }\n\n    .dataframe thead th {\n        text-align: right;\n    }\n</style>\n<table border=\"1\" class=\"dataframe\">\n  <thead>\n    <tr style=\"text-align: right;\">\n      <th></th>\n      <th>Rate_count</th>\n      <th>1</th>\n      <th>2</th>\n      <th>3</th>\n      <th>4</th>\n      <th>5</th>\n      <th>6</th>\n      <th>7</th>\n      <th>8</th>\n      <th>9</th>\n      <th>...</th>\n      <th>91</th>\n      <th>92</th>\n      <th>93</th>\n      <th>94</th>\n      <th>95</th>\n      <th>96</th>\n      <th>97</th>\n      <th>98</th>\n      <th>99</th>\n      <th>100</th>\n    </tr>\n  </thead>\n  <tbody>\n    <tr>\n      <th>0</th>\n      <td>26</td>\n      <td>99.0</td>\n      <td>99.00</td>\n      <td>99.0</td>\n      <td>99.0</td>\n      <td>-1.65</td>\n      <td>99.00</td>\n      <td>-0.78</td>\n      <td>6.89</td>\n      <td>99.0</td>\n      <td>...</td>\n      <td>99.0</td>\n      <td>99.0</td>\n      <td>99.00</td>\n      <td>99.0</td>\n      <td>99.00</td>\n      <td>99.0</td>\n      <td>99.0</td>\n      <td>99.0</td>\n      <td>99.00</td>\n      <td>99.0</td>\n    </tr>\n    <tr>\n      <th>1</th>\n      <td>33</td>\n      <td>99.0</td>\n      <td>99.00</td>\n      <td>99.0</td>\n      <td>99.0</td>\n      <td>-9.27</td>\n      <td>99.00</td>\n      <td>-9.17</td>\n      <td>-8.59</td>\n      <td>99.0</td>\n      <td>...</td>\n      <td>99.0</td>\n      <td>99.0</td>\n      <td>-2.77</td>\n      <td>99.0</td>\n      <td>99.00</td>\n      <td>99.0</td>\n      <td>99.0</td>\n      <td>99.0</td>\n      <td>99.00</td>\n      <td>99.0</td>\n    </tr>\n    <tr>\n      <th>2</th>\n      <td>16</td>\n      <td>99.0</td>\n      <td>99.00</td>\n      <td>99.0</td>\n      <td>99.0</td>\n      <td>-6.12</td>\n      <td>99.00</td>\n      <td>-7.48</td>\n      <td>-7.77</td>\n      <td>99.0</td>\n      <td>...</td>\n      <td>99.0</td>\n      <td>99.0</td>\n      <td>99.00</td>\n      <td>99.0</td>\n      <td>99.00</td>\n      <td>99.0</td>\n      <td>99.0</td>\n      <td>99.0</td>\n      <td>99.00</td>\n      <td>99.0</td>\n    </tr>\n    <tr>\n      <th>3</th>\n      <td>24</td>\n      <td>99.0</td>\n      <td>0.05</td>\n      <td>99.0</td>\n      <td>99.0</td>\n      <td>-2.82</td>\n      <td>99.00</td>\n      <td>-4.85</td>\n      <td>-0.87</td>\n      <td>99.0</td>\n      <td>...</td>\n      <td>99.0</td>\n      <td>99.0</td>\n      <td>99.00</td>\n      <td>99.0</td>\n      <td>1.84</td>\n      <td>99.0</td>\n      <td>99.0</td>\n      <td>99.0</td>\n      <td>-4.08</td>\n      <td>99.0</td>\n    </tr>\n    <tr>\n      <th>4</th>\n      <td>22</td>\n      <td>99.0</td>\n      <td>99.00</td>\n      <td>99.0</td>\n      <td>99.0</td>\n      <td>-4.95</td>\n      <td>99.00</td>\n      <td>6.21</td>\n      <td>2.72</td>\n      <td>99.0</td>\n      <td>...</td>\n      <td>99.0</td>\n      <td>99.0</td>\n      <td>99.00</td>\n      <td>99.0</td>\n      <td>99.00</td>\n      <td>99.0</td>\n      <td>99.0</td>\n      <td>99.0</td>\n      <td>99.00</td>\n      <td>99.0</td>\n    </tr>\n    <tr>\n      <th>...</th>\n      <td>...</td>\n      <td>...</td>\n      <td>...</td>\n      <td>...</td>\n      <td>...</td>\n      <td>...</td>\n      <td>...</td>\n      <td>...</td>\n      <td>...</td>\n      <td>...</td>\n      <td>...</td>\n      <td>...</td>\n      <td>...</td>\n      <td>...</td>\n      <td>...</td>\n      <td>...</td>\n      <td>...</td>\n      <td>...</td>\n      <td>...</td>\n      <td>...</td>\n      <td>...</td>\n    </tr>\n    <tr>\n      <th>24933</th>\n      <td>21</td>\n      <td>99.0</td>\n      <td>99.00</td>\n      <td>99.0</td>\n      <td>99.0</td>\n      <td>5.78</td>\n      <td>8.45</td>\n      <td>99.00</td>\n      <td>8.20</td>\n      <td>99.0</td>\n      <td>...</td>\n      <td>99.0</td>\n      <td>99.0</td>\n      <td>99.00</td>\n      <td>99.0</td>\n      <td>99.00</td>\n      <td>99.0</td>\n      <td>99.0</td>\n      <td>99.0</td>\n      <td>99.00</td>\n      <td>99.0</td>\n    </tr>\n    <tr>\n      <th>24934</th>\n      <td>16</td>\n      <td>99.0</td>\n      <td>99.00</td>\n      <td>99.0</td>\n      <td>99.0</td>\n      <td>5.24</td>\n      <td>99.00</td>\n      <td>99.00</td>\n      <td>5.68</td>\n      <td>99.0</td>\n      <td>...</td>\n      <td>99.0</td>\n      <td>99.0</td>\n      <td>99.00</td>\n      <td>99.0</td>\n      <td>99.00</td>\n      <td>99.0</td>\n      <td>99.0</td>\n      <td>99.0</td>\n      <td>99.00</td>\n      <td>99.0</td>\n    </tr>\n    <tr>\n      <th>24935</th>\n      <td>35</td>\n      <td>99.0</td>\n      <td>99.00</td>\n      <td>99.0</td>\n      <td>99.0</td>\n      <td>-3.93</td>\n      <td>99.00</td>\n      <td>-9.03</td>\n      <td>-2.67</td>\n      <td>99.0</td>\n      <td>...</td>\n      <td>99.0</td>\n      <td>99.0</td>\n      <td>99.00</td>\n      <td>99.0</td>\n      <td>99.00</td>\n      <td>99.0</td>\n      <td>99.0</td>\n      <td>99.0</td>\n      <td>99.00</td>\n      <td>99.0</td>\n    </tr>\n    <tr>\n      <th>24936</th>\n      <td>21</td>\n      <td>99.0</td>\n      <td>99.00</td>\n      <td>99.0</td>\n      <td>99.0</td>\n      <td>9.42</td>\n      <td>9.66</td>\n      <td>99.00</td>\n      <td>9.17</td>\n      <td>99.0</td>\n      <td>...</td>\n      <td>99.0</td>\n      <td>99.0</td>\n      <td>99.00</td>\n      <td>99.0</td>\n      <td>99.00</td>\n      <td>99.0</td>\n      <td>99.0</td>\n      <td>99.0</td>\n      <td>99.00</td>\n      <td>99.0</td>\n    </tr>\n    <tr>\n      <th>24937</th>\n      <td>35</td>\n      <td>99.0</td>\n      <td>99.00</td>\n      <td>99.0</td>\n      <td>99.0</td>\n      <td>0.19</td>\n      <td>99.00</td>\n      <td>-1.50</td>\n      <td>7.82</td>\n      <td>99.0</td>\n      <td>...</td>\n      <td>99.0</td>\n      <td>99.0</td>\n      <td>99.00</td>\n      <td>99.0</td>\n      <td>99.00</td>\n      <td>99.0</td>\n      <td>99.0</td>\n      <td>99.0</td>\n      <td>99.00</td>\n      <td>99.0</td>\n    </tr>\n  </tbody>\n</table>\n<p>24938 rows × 101 columns</p>\n</div>"
     },
     "metadata": {},
     "execution_count": 7
    }
   ],
   "source": [
    "data"
   ]
  },
  {
   "cell_type": "code",
   "execution_count": 45,
   "metadata": {},
   "outputs": [
    {
     "output_type": "execute_result",
     "data": {
      "text/plain": [
       "       1     2    3    4     5     6     7     8    9     10   ...  91   92   \\\n",
       "1      0.0  0.00  0.0  0.0 -9.27  0.00 -9.17 -8.59  0.0  0.00  ...  0.0  0.0   \n",
       "2      0.0  0.00  0.0  0.0 -6.12  0.00 -7.48 -7.77  0.0  0.00  ...  0.0  0.0   \n",
       "3      0.0  0.05  0.0  0.0 -2.82  0.00 -4.85 -0.87  0.0  0.00  ...  0.0  0.0   \n",
       "4      0.0  0.00  0.0  0.0 -4.95  0.00  6.21  2.72  0.0 -8.59  ...  0.0  0.0   \n",
       "5      0.0  0.00  0.0  0.0  3.11  0.00  4.42  1.41  0.0  0.00  ...  0.0  0.0   \n",
       "...    ...   ...  ...  ...   ...   ...   ...   ...  ...   ...  ...  ...  ...   \n",
       "24933  0.0  0.00  0.0  0.0  5.78  8.45  0.00  8.20  0.0  8.50  ...  0.0  0.0   \n",
       "24934  0.0  0.00  0.0  0.0  5.24  0.00  0.00  5.68  0.0  0.00  ...  0.0  0.0   \n",
       "24935  0.0  0.00  0.0  0.0 -3.93  0.00 -9.03 -2.67  0.0  0.00  ...  0.0  0.0   \n",
       "24936  0.0  0.00  0.0  0.0  9.42  9.66  0.00  9.17  0.0  0.00  ...  0.0  0.0   \n",
       "24937  0.0  0.00  0.0  0.0  0.19  0.00 -1.50  7.82  0.0  0.00  ...  0.0  0.0   \n",
       "\n",
       "        93   94    95    96   97   98    99   100  \n",
       "1     -2.77  0.0  0.00  0.00  0.0  0.0  0.00  0.0  \n",
       "2      0.00  0.0  0.00  0.00  0.0  0.0  0.00  0.0  \n",
       "3      0.00  0.0  1.84  0.00  0.0  0.0 -4.08  0.0  \n",
       "4      0.00  0.0  0.00  0.00  0.0  0.0  0.00  0.0  \n",
       "5      0.00  0.0  0.00  4.47  0.0  0.0  0.00  0.0  \n",
       "...     ...  ...   ...   ...  ...  ...   ...  ...  \n",
       "24933  0.00  0.0  0.00  0.00  0.0  0.0  0.00  0.0  \n",
       "24934  0.00  0.0  0.00  0.00  0.0  0.0  0.00  0.0  \n",
       "24935  0.00  0.0  0.00  0.00  0.0  0.0  0.00  0.0  \n",
       "24936  0.00  0.0  0.00  0.00  0.0  0.0  0.00  0.0  \n",
       "24937  0.00  0.0  0.00  0.00  0.0  0.0  0.00  0.0  \n",
       "\n",
       "[24937 rows x 100 columns]"
      ],
      "text/html": "<div>\n<style scoped>\n    .dataframe tbody tr th:only-of-type {\n        vertical-align: middle;\n    }\n\n    .dataframe tbody tr th {\n        vertical-align: top;\n    }\n\n    .dataframe thead th {\n        text-align: right;\n    }\n</style>\n<table border=\"1\" class=\"dataframe\">\n  <thead>\n    <tr style=\"text-align: right;\">\n      <th></th>\n      <th>1</th>\n      <th>2</th>\n      <th>3</th>\n      <th>4</th>\n      <th>5</th>\n      <th>6</th>\n      <th>7</th>\n      <th>8</th>\n      <th>9</th>\n      <th>10</th>\n      <th>...</th>\n      <th>91</th>\n      <th>92</th>\n      <th>93</th>\n      <th>94</th>\n      <th>95</th>\n      <th>96</th>\n      <th>97</th>\n      <th>98</th>\n      <th>99</th>\n      <th>100</th>\n    </tr>\n  </thead>\n  <tbody>\n    <tr>\n      <th>1</th>\n      <td>0.0</td>\n      <td>0.00</td>\n      <td>0.0</td>\n      <td>0.0</td>\n      <td>-9.27</td>\n      <td>0.00</td>\n      <td>-9.17</td>\n      <td>-8.59</td>\n      <td>0.0</td>\n      <td>0.00</td>\n      <td>...</td>\n      <td>0.0</td>\n      <td>0.0</td>\n      <td>-2.77</td>\n      <td>0.0</td>\n      <td>0.00</td>\n      <td>0.00</td>\n      <td>0.0</td>\n      <td>0.0</td>\n      <td>0.00</td>\n      <td>0.0</td>\n    </tr>\n    <tr>\n      <th>2</th>\n      <td>0.0</td>\n      <td>0.00</td>\n      <td>0.0</td>\n      <td>0.0</td>\n      <td>-6.12</td>\n      <td>0.00</td>\n      <td>-7.48</td>\n      <td>-7.77</td>\n      <td>0.0</td>\n      <td>0.00</td>\n      <td>...</td>\n      <td>0.0</td>\n      <td>0.0</td>\n      <td>0.00</td>\n      <td>0.0</td>\n      <td>0.00</td>\n      <td>0.00</td>\n      <td>0.0</td>\n      <td>0.0</td>\n      <td>0.00</td>\n      <td>0.0</td>\n    </tr>\n    <tr>\n      <th>3</th>\n      <td>0.0</td>\n      <td>0.05</td>\n      <td>0.0</td>\n      <td>0.0</td>\n      <td>-2.82</td>\n      <td>0.00</td>\n      <td>-4.85</td>\n      <td>-0.87</td>\n      <td>0.0</td>\n      <td>0.00</td>\n      <td>...</td>\n      <td>0.0</td>\n      <td>0.0</td>\n      <td>0.00</td>\n      <td>0.0</td>\n      <td>1.84</td>\n      <td>0.00</td>\n      <td>0.0</td>\n      <td>0.0</td>\n      <td>-4.08</td>\n      <td>0.0</td>\n    </tr>\n    <tr>\n      <th>4</th>\n      <td>0.0</td>\n      <td>0.00</td>\n      <td>0.0</td>\n      <td>0.0</td>\n      <td>-4.95</td>\n      <td>0.00</td>\n      <td>6.21</td>\n      <td>2.72</td>\n      <td>0.0</td>\n      <td>-8.59</td>\n      <td>...</td>\n      <td>0.0</td>\n      <td>0.0</td>\n      <td>0.00</td>\n      <td>0.0</td>\n      <td>0.00</td>\n      <td>0.00</td>\n      <td>0.0</td>\n      <td>0.0</td>\n      <td>0.00</td>\n      <td>0.0</td>\n    </tr>\n    <tr>\n      <th>5</th>\n      <td>0.0</td>\n      <td>0.00</td>\n      <td>0.0</td>\n      <td>0.0</td>\n      <td>3.11</td>\n      <td>0.00</td>\n      <td>4.42</td>\n      <td>1.41</td>\n      <td>0.0</td>\n      <td>0.00</td>\n      <td>...</td>\n      <td>0.0</td>\n      <td>0.0</td>\n      <td>0.00</td>\n      <td>0.0</td>\n      <td>0.00</td>\n      <td>4.47</td>\n      <td>0.0</td>\n      <td>0.0</td>\n      <td>0.00</td>\n      <td>0.0</td>\n    </tr>\n    <tr>\n      <th>...</th>\n      <td>...</td>\n      <td>...</td>\n      <td>...</td>\n      <td>...</td>\n      <td>...</td>\n      <td>...</td>\n      <td>...</td>\n      <td>...</td>\n      <td>...</td>\n      <td>...</td>\n      <td>...</td>\n      <td>...</td>\n      <td>...</td>\n      <td>...</td>\n      <td>...</td>\n      <td>...</td>\n      <td>...</td>\n      <td>...</td>\n      <td>...</td>\n      <td>...</td>\n      <td>...</td>\n    </tr>\n    <tr>\n      <th>24933</th>\n      <td>0.0</td>\n      <td>0.00</td>\n      <td>0.0</td>\n      <td>0.0</td>\n      <td>5.78</td>\n      <td>8.45</td>\n      <td>0.00</td>\n      <td>8.20</td>\n      <td>0.0</td>\n      <td>8.50</td>\n      <td>...</td>\n      <td>0.0</td>\n      <td>0.0</td>\n      <td>0.00</td>\n      <td>0.0</td>\n      <td>0.00</td>\n      <td>0.00</td>\n      <td>0.0</td>\n      <td>0.0</td>\n      <td>0.00</td>\n      <td>0.0</td>\n    </tr>\n    <tr>\n      <th>24934</th>\n      <td>0.0</td>\n      <td>0.00</td>\n      <td>0.0</td>\n      <td>0.0</td>\n      <td>5.24</td>\n      <td>0.00</td>\n      <td>0.00</td>\n      <td>5.68</td>\n      <td>0.0</td>\n      <td>0.00</td>\n      <td>...</td>\n      <td>0.0</td>\n      <td>0.0</td>\n      <td>0.00</td>\n      <td>0.0</td>\n      <td>0.00</td>\n      <td>0.00</td>\n      <td>0.0</td>\n      <td>0.0</td>\n      <td>0.00</td>\n      <td>0.0</td>\n    </tr>\n    <tr>\n      <th>24935</th>\n      <td>0.0</td>\n      <td>0.00</td>\n      <td>0.0</td>\n      <td>0.0</td>\n      <td>-3.93</td>\n      <td>0.00</td>\n      <td>-9.03</td>\n      <td>-2.67</td>\n      <td>0.0</td>\n      <td>0.00</td>\n      <td>...</td>\n      <td>0.0</td>\n      <td>0.0</td>\n      <td>0.00</td>\n      <td>0.0</td>\n      <td>0.00</td>\n      <td>0.00</td>\n      <td>0.0</td>\n      <td>0.0</td>\n      <td>0.00</td>\n      <td>0.0</td>\n    </tr>\n    <tr>\n      <th>24936</th>\n      <td>0.0</td>\n      <td>0.00</td>\n      <td>0.0</td>\n      <td>0.0</td>\n      <td>9.42</td>\n      <td>9.66</td>\n      <td>0.00</td>\n      <td>9.17</td>\n      <td>0.0</td>\n      <td>0.00</td>\n      <td>...</td>\n      <td>0.0</td>\n      <td>0.0</td>\n      <td>0.00</td>\n      <td>0.0</td>\n      <td>0.00</td>\n      <td>0.00</td>\n      <td>0.0</td>\n      <td>0.0</td>\n      <td>0.00</td>\n      <td>0.0</td>\n    </tr>\n    <tr>\n      <th>24937</th>\n      <td>0.0</td>\n      <td>0.00</td>\n      <td>0.0</td>\n      <td>0.0</td>\n      <td>0.19</td>\n      <td>0.00</td>\n      <td>-1.50</td>\n      <td>7.82</td>\n      <td>0.0</td>\n      <td>0.00</td>\n      <td>...</td>\n      <td>0.0</td>\n      <td>0.0</td>\n      <td>0.00</td>\n      <td>0.0</td>\n      <td>0.00</td>\n      <td>0.00</td>\n      <td>0.0</td>\n      <td>0.0</td>\n      <td>0.00</td>\n      <td>0.0</td>\n    </tr>\n  </tbody>\n</table>\n<p>24937 rows × 100 columns</p>\n</div>"
     },
     "metadata": {},
     "execution_count": 45
    }
   ],
   "source": [
    "data_n=data.loc[:,1:]\n",
    "data_n.replace(99.0,0,inplace=True)\n",
    "data_n"
   ]
  },
  {
   "cell_type": "code",
   "execution_count": null,
   "metadata": {},
   "outputs": [],
   "source": []
  },
  {
   "source": [
    "<h3>16 rated jokes in row [ 1 ] and 84 \"99's\" means not Rated"
   ],
   "cell_type": "markdown",
   "metadata": {}
  },
  {
   "cell_type": "code",
   "execution_count": 46,
   "metadata": {},
   "outputs": [
    {
     "output_type": "execute_result",
     "data": {
      "text/plain": [
       " 0.00    67\n",
       "-8.59     4\n",
       "-9.71     2\n",
       "-7.67     2\n",
       "-9.47     2\n",
       "-9.56     2\n",
       "-9.66     2\n",
       "-7.18     1\n",
       "-1.60     1\n",
       "-9.27     1\n",
       "-8.54     1\n",
       "-3.45     1\n",
       "-9.17     1\n",
       "-2.67     1\n",
       "-5.34     1\n",
       "-6.41     1\n",
       "-7.82     1\n",
       "-1.65     1\n",
       "-1.55     1\n",
       "-2.77     1\n",
       "-6.36     1\n",
       "-4.71     1\n",
       "-6.21     1\n",
       "-3.59     1\n",
       "-5.58     1\n",
       "-4.85     1\n",
       "Name: 1, dtype: int64"
      ]
     },
     "metadata": {},
     "execution_count": 46
    }
   ],
   "source": [
    "data_n.iloc[0].value_counts()"
   ]
  },
  {
   "source": [
    "<h1>Item Based"
   ],
   "cell_type": "markdown",
   "metadata": {}
  },
  {
   "cell_type": "code",
   "execution_count": 22,
   "metadata": {},
   "outputs": [],
   "source": [
    "from sklearn.metrics.pairwise import linear_kernel"
   ]
  },
  {
   "cell_type": "code",
   "execution_count": 47,
   "metadata": {},
   "outputs": [],
   "source": [
    "item_matrix = linear_kernel(data_n.T,data_n.T)"
   ]
  },
  {
   "cell_type": "code",
   "execution_count": 48,
   "metadata": {},
   "outputs": [],
   "source": [
    "item_matrix = pd.DataFrame(item_matrix,index=data_n.columns,columns=data_n.columns)"
   ]
  },
  {
   "cell_type": "code",
   "execution_count": 344,
   "metadata": {},
   "outputs": [],
   "source": [
    "def getItem(itemid,k):\n",
    "    sim_item = item_matrix[itemid]\n",
    "    top =sim_item.nlargest(k)\n",
    "    return top "
   ]
  },
  {
   "cell_type": "code",
   "execution_count": 347,
   "metadata": {},
   "outputs": [],
   "source": [
    "item_id = 2\n",
    "item = getItem(item_id,k=10)"
   ]
  },
  {
   "cell_type": "code",
   "execution_count": 348,
   "metadata": {},
   "outputs": [
    {
     "output_type": "execute_result",
     "data": {
      "text/plain": [
       "  JokesId  similarity\n",
       "0       2   4532.6482\n",
       "1      29   1916.5872\n",
       "2      35   1583.8675\n",
       "3      69   1548.0276\n",
       "4      50   1400.3988\n",
       "5      36   1328.1283\n",
       "6      56   1203.9445\n",
       "7      27   1116.9382\n",
       "8      66   1079.0862\n",
       "9      49    941.5505"
      ],
      "text/html": "<div>\n<style scoped>\n    .dataframe tbody tr th:only-of-type {\n        vertical-align: middle;\n    }\n\n    .dataframe tbody tr th {\n        vertical-align: top;\n    }\n\n    .dataframe thead th {\n        text-align: right;\n    }\n</style>\n<table border=\"1\" class=\"dataframe\">\n  <thead>\n    <tr style=\"text-align: right;\">\n      <th></th>\n      <th>JokesId</th>\n      <th>similarity</th>\n    </tr>\n  </thead>\n  <tbody>\n    <tr>\n      <th>0</th>\n      <td>2</td>\n      <td>4532.6482</td>\n    </tr>\n    <tr>\n      <th>1</th>\n      <td>29</td>\n      <td>1916.5872</td>\n    </tr>\n    <tr>\n      <th>2</th>\n      <td>35</td>\n      <td>1583.8675</td>\n    </tr>\n    <tr>\n      <th>3</th>\n      <td>69</td>\n      <td>1548.0276</td>\n    </tr>\n    <tr>\n      <th>4</th>\n      <td>50</td>\n      <td>1400.3988</td>\n    </tr>\n    <tr>\n      <th>5</th>\n      <td>36</td>\n      <td>1328.1283</td>\n    </tr>\n    <tr>\n      <th>6</th>\n      <td>56</td>\n      <td>1203.9445</td>\n    </tr>\n    <tr>\n      <th>7</th>\n      <td>27</td>\n      <td>1116.9382</td>\n    </tr>\n    <tr>\n      <th>8</th>\n      <td>66</td>\n      <td>1079.0862</td>\n    </tr>\n    <tr>\n      <th>9</th>\n      <td>49</td>\n      <td>941.5505</td>\n    </tr>\n  </tbody>\n</table>\n</div>"
     },
     "metadata": {},
     "execution_count": 348
    }
   ],
   "source": [
    "items = pd.DataFrame({'JokesId':item.index,'similarity':item.values})\n",
    "items"
   ]
  },
  {
   "source": [
    "<h1>User based"
   ],
   "cell_type": "markdown",
   "metadata": {}
  },
  {
   "cell_type": "code",
   "execution_count": 52,
   "metadata": {},
   "outputs": [],
   "source": [
    "user_matrix = linear_kernel(data_n,data_n)"
   ]
  },
  {
   "cell_type": "code",
   "execution_count": 53,
   "metadata": {},
   "outputs": [
    {
     "output_type": "execute_result",
     "data": {
      "text/plain": [
       "           1         2         3          4         5         6         7      \\\n",
       "1      1778.5546  467.9187  146.1892  -350.7982 -593.2410  411.6444 -367.1127   \n",
       "2       467.9187  772.4729   54.9651     4.4599 -188.5442  364.1994  -66.2368   \n",
       "3       146.1892   54.9651  202.1940  -103.5958  -90.5886   70.3020  -90.7399   \n",
       "4      -350.7982    4.4599 -103.5958  1092.0609  234.6663    8.5312    0.3556   \n",
       "5      -593.2410 -188.5442  -90.5886   234.6663  662.1633 -222.1043  206.1332   \n",
       "...          ...       ...       ...        ...       ...       ...       ...   \n",
       "24933  -600.7634 -247.6055  -22.4897  -253.8363  159.5707 -316.0409   37.6571   \n",
       "24934  -426.9902 -168.6245  -48.4751   202.7111  199.4319 -116.7326  171.0109   \n",
       "24935  -104.7924   -1.2705  -14.3652   133.1303  -71.4668  118.6333  353.4391   \n",
       "24936  -934.8140 -302.1823  -88.2200    31.3547  283.8588 -245.7381  196.9055   \n",
       "24937  -848.6013   27.1513  -48.7861   351.7646  425.0295   15.2082  383.2272   \n",
       "\n",
       "          8         9         10     ...     24928     24929     24930  \\\n",
       "1      -97.4630 -487.0859  -62.1308  ... -272.8386 -423.6832 -833.4671   \n",
       "2      320.0649 -122.8459 -144.7064  ... -119.5778  -63.3488 -573.9812   \n",
       "3       56.8591 -155.3159  -85.1092  ...   26.5406  -70.2597  -74.6291   \n",
       "4       31.3627  100.7427   74.6348  ...  -22.1337   45.2634  165.0657   \n",
       "5       51.2199  203.1417  223.3918  ...   61.6186   87.8848  326.8025   \n",
       "...         ...       ...       ...  ...       ...       ...       ...   \n",
       "24933 -200.7104  291.4368  -55.9819  ...  299.9794  338.5109  776.4294   \n",
       "24934   25.4141  210.0175    3.8683  ...  140.2296  176.9580  379.4071   \n",
       "24935  378.1723  -48.7115   21.1149  ...   46.1197  130.0228  -17.7193   \n",
       "24936   44.9186  330.7667  150.6874  ...  434.4677  374.3518  998.7340   \n",
       "24937  472.7417  329.2414   52.4186  ...  185.0633  454.6462  372.2113   \n",
       "\n",
       "          24931     24932      24933     24934      24935      24936  \\\n",
       "1     -327.4288 -343.5911  -600.7634 -426.9902  -104.7924  -934.8140   \n",
       "2      -88.4028 -189.6545  -247.6055 -168.6245    -1.2705  -302.1823   \n",
       "3      -56.1888   -5.9985   -22.4897  -48.4751   -14.3652   -88.2200   \n",
       "4      -24.7186  -25.8276  -253.8363  202.7111   133.1303    31.3547   \n",
       "5       55.7634  122.5872   159.5707  199.4319   -71.4668   283.8588   \n",
       "...         ...       ...        ...       ...        ...        ...   \n",
       "24933  305.4954  463.3465  1455.6341  217.1651  -161.9762   779.1460   \n",
       "24934    8.5904  258.4824   217.1651  713.4533   132.6848   114.6422   \n",
       "24935  223.4520   42.0957  -161.9762  132.6848  1098.4243    93.0482   \n",
       "24936  350.1057  363.9952   779.1460  114.6422    93.0482  1596.1835   \n",
       "24937  335.2475  212.0049   270.5741  431.2900   436.9048   564.6841   \n",
       "\n",
       "           24937  \n",
       "1      -848.6013  \n",
       "2        27.1513  \n",
       "3       -48.7861  \n",
       "4       351.7646  \n",
       "5       425.0295  \n",
       "...          ...  \n",
       "24933   270.5741  \n",
       "24934   431.2900  \n",
       "24935   436.9048  \n",
       "24936   564.6841  \n",
       "24937  1484.2621  \n",
       "\n",
       "[24937 rows x 24937 columns]"
      ],
      "text/html": "<div>\n<style scoped>\n    .dataframe tbody tr th:only-of-type {\n        vertical-align: middle;\n    }\n\n    .dataframe tbody tr th {\n        vertical-align: top;\n    }\n\n    .dataframe thead th {\n        text-align: right;\n    }\n</style>\n<table border=\"1\" class=\"dataframe\">\n  <thead>\n    <tr style=\"text-align: right;\">\n      <th></th>\n      <th>1</th>\n      <th>2</th>\n      <th>3</th>\n      <th>4</th>\n      <th>5</th>\n      <th>6</th>\n      <th>7</th>\n      <th>8</th>\n      <th>9</th>\n      <th>10</th>\n      <th>...</th>\n      <th>24928</th>\n      <th>24929</th>\n      <th>24930</th>\n      <th>24931</th>\n      <th>24932</th>\n      <th>24933</th>\n      <th>24934</th>\n      <th>24935</th>\n      <th>24936</th>\n      <th>24937</th>\n    </tr>\n  </thead>\n  <tbody>\n    <tr>\n      <th>1</th>\n      <td>1778.5546</td>\n      <td>467.9187</td>\n      <td>146.1892</td>\n      <td>-350.7982</td>\n      <td>-593.2410</td>\n      <td>411.6444</td>\n      <td>-367.1127</td>\n      <td>-97.4630</td>\n      <td>-487.0859</td>\n      <td>-62.1308</td>\n      <td>...</td>\n      <td>-272.8386</td>\n      <td>-423.6832</td>\n      <td>-833.4671</td>\n      <td>-327.4288</td>\n      <td>-343.5911</td>\n      <td>-600.7634</td>\n      <td>-426.9902</td>\n      <td>-104.7924</td>\n      <td>-934.8140</td>\n      <td>-848.6013</td>\n    </tr>\n    <tr>\n      <th>2</th>\n      <td>467.9187</td>\n      <td>772.4729</td>\n      <td>54.9651</td>\n      <td>4.4599</td>\n      <td>-188.5442</td>\n      <td>364.1994</td>\n      <td>-66.2368</td>\n      <td>320.0649</td>\n      <td>-122.8459</td>\n      <td>-144.7064</td>\n      <td>...</td>\n      <td>-119.5778</td>\n      <td>-63.3488</td>\n      <td>-573.9812</td>\n      <td>-88.4028</td>\n      <td>-189.6545</td>\n      <td>-247.6055</td>\n      <td>-168.6245</td>\n      <td>-1.2705</td>\n      <td>-302.1823</td>\n      <td>27.1513</td>\n    </tr>\n    <tr>\n      <th>3</th>\n      <td>146.1892</td>\n      <td>54.9651</td>\n      <td>202.1940</td>\n      <td>-103.5958</td>\n      <td>-90.5886</td>\n      <td>70.3020</td>\n      <td>-90.7399</td>\n      <td>56.8591</td>\n      <td>-155.3159</td>\n      <td>-85.1092</td>\n      <td>...</td>\n      <td>26.5406</td>\n      <td>-70.2597</td>\n      <td>-74.6291</td>\n      <td>-56.1888</td>\n      <td>-5.9985</td>\n      <td>-22.4897</td>\n      <td>-48.4751</td>\n      <td>-14.3652</td>\n      <td>-88.2200</td>\n      <td>-48.7861</td>\n    </tr>\n    <tr>\n      <th>4</th>\n      <td>-350.7982</td>\n      <td>4.4599</td>\n      <td>-103.5958</td>\n      <td>1092.0609</td>\n      <td>234.6663</td>\n      <td>8.5312</td>\n      <td>0.3556</td>\n      <td>31.3627</td>\n      <td>100.7427</td>\n      <td>74.6348</td>\n      <td>...</td>\n      <td>-22.1337</td>\n      <td>45.2634</td>\n      <td>165.0657</td>\n      <td>-24.7186</td>\n      <td>-25.8276</td>\n      <td>-253.8363</td>\n      <td>202.7111</td>\n      <td>133.1303</td>\n      <td>31.3547</td>\n      <td>351.7646</td>\n    </tr>\n    <tr>\n      <th>5</th>\n      <td>-593.2410</td>\n      <td>-188.5442</td>\n      <td>-90.5886</td>\n      <td>234.6663</td>\n      <td>662.1633</td>\n      <td>-222.1043</td>\n      <td>206.1332</td>\n      <td>51.2199</td>\n      <td>203.1417</td>\n      <td>223.3918</td>\n      <td>...</td>\n      <td>61.6186</td>\n      <td>87.8848</td>\n      <td>326.8025</td>\n      <td>55.7634</td>\n      <td>122.5872</td>\n      <td>159.5707</td>\n      <td>199.4319</td>\n      <td>-71.4668</td>\n      <td>283.8588</td>\n      <td>425.0295</td>\n    </tr>\n    <tr>\n      <th>...</th>\n      <td>...</td>\n      <td>...</td>\n      <td>...</td>\n      <td>...</td>\n      <td>...</td>\n      <td>...</td>\n      <td>...</td>\n      <td>...</td>\n      <td>...</td>\n      <td>...</td>\n      <td>...</td>\n      <td>...</td>\n      <td>...</td>\n      <td>...</td>\n      <td>...</td>\n      <td>...</td>\n      <td>...</td>\n      <td>...</td>\n      <td>...</td>\n      <td>...</td>\n      <td>...</td>\n    </tr>\n    <tr>\n      <th>24933</th>\n      <td>-600.7634</td>\n      <td>-247.6055</td>\n      <td>-22.4897</td>\n      <td>-253.8363</td>\n      <td>159.5707</td>\n      <td>-316.0409</td>\n      <td>37.6571</td>\n      <td>-200.7104</td>\n      <td>291.4368</td>\n      <td>-55.9819</td>\n      <td>...</td>\n      <td>299.9794</td>\n      <td>338.5109</td>\n      <td>776.4294</td>\n      <td>305.4954</td>\n      <td>463.3465</td>\n      <td>1455.6341</td>\n      <td>217.1651</td>\n      <td>-161.9762</td>\n      <td>779.1460</td>\n      <td>270.5741</td>\n    </tr>\n    <tr>\n      <th>24934</th>\n      <td>-426.9902</td>\n      <td>-168.6245</td>\n      <td>-48.4751</td>\n      <td>202.7111</td>\n      <td>199.4319</td>\n      <td>-116.7326</td>\n      <td>171.0109</td>\n      <td>25.4141</td>\n      <td>210.0175</td>\n      <td>3.8683</td>\n      <td>...</td>\n      <td>140.2296</td>\n      <td>176.9580</td>\n      <td>379.4071</td>\n      <td>8.5904</td>\n      <td>258.4824</td>\n      <td>217.1651</td>\n      <td>713.4533</td>\n      <td>132.6848</td>\n      <td>114.6422</td>\n      <td>431.2900</td>\n    </tr>\n    <tr>\n      <th>24935</th>\n      <td>-104.7924</td>\n      <td>-1.2705</td>\n      <td>-14.3652</td>\n      <td>133.1303</td>\n      <td>-71.4668</td>\n      <td>118.6333</td>\n      <td>353.4391</td>\n      <td>378.1723</td>\n      <td>-48.7115</td>\n      <td>21.1149</td>\n      <td>...</td>\n      <td>46.1197</td>\n      <td>130.0228</td>\n      <td>-17.7193</td>\n      <td>223.4520</td>\n      <td>42.0957</td>\n      <td>-161.9762</td>\n      <td>132.6848</td>\n      <td>1098.4243</td>\n      <td>93.0482</td>\n      <td>436.9048</td>\n    </tr>\n    <tr>\n      <th>24936</th>\n      <td>-934.8140</td>\n      <td>-302.1823</td>\n      <td>-88.2200</td>\n      <td>31.3547</td>\n      <td>283.8588</td>\n      <td>-245.7381</td>\n      <td>196.9055</td>\n      <td>44.9186</td>\n      <td>330.7667</td>\n      <td>150.6874</td>\n      <td>...</td>\n      <td>434.4677</td>\n      <td>374.3518</td>\n      <td>998.7340</td>\n      <td>350.1057</td>\n      <td>363.9952</td>\n      <td>779.1460</td>\n      <td>114.6422</td>\n      <td>93.0482</td>\n      <td>1596.1835</td>\n      <td>564.6841</td>\n    </tr>\n    <tr>\n      <th>24937</th>\n      <td>-848.6013</td>\n      <td>27.1513</td>\n      <td>-48.7861</td>\n      <td>351.7646</td>\n      <td>425.0295</td>\n      <td>15.2082</td>\n      <td>383.2272</td>\n      <td>472.7417</td>\n      <td>329.2414</td>\n      <td>52.4186</td>\n      <td>...</td>\n      <td>185.0633</td>\n      <td>454.6462</td>\n      <td>372.2113</td>\n      <td>335.2475</td>\n      <td>212.0049</td>\n      <td>270.5741</td>\n      <td>431.2900</td>\n      <td>436.9048</td>\n      <td>564.6841</td>\n      <td>1484.2621</td>\n    </tr>\n  </tbody>\n</table>\n<p>24937 rows × 24937 columns</p>\n</div>"
     },
     "metadata": {},
     "execution_count": 53
    }
   ],
   "source": [
    "user_matrix = pd.DataFrame(user_matrix,index=data_n.index,columns=data_n.index)\n",
    "user_matrix"
   ]
  },
  {
   "cell_type": "code",
   "execution_count": 350,
   "metadata": {},
   "outputs": [],
   "source": [
    "def getuser(userid,k):\n",
    "    sim_user = user_matrix[userid]\n",
    "    top =sim_user.sort_values(ascending=False)\n",
    "    return top[1:k]"
   ]
  },
  {
   "cell_type": "code",
   "execution_count": 353,
   "metadata": {},
   "outputs": [
    {
     "output_type": "execute_result",
     "data": {
      "text/plain": [
       "   UserId  similarity\n",
       "0   23424    328.6963\n",
       "1   22771    313.9121\n",
       "2   23959    298.7328\n",
       "3   23356    291.4463\n",
       "4    3377    283.5435\n",
       "5   22713    279.4523\n",
       "6   11062    274.8514\n",
       "7   12250    241.9000\n",
       "8   20276    239.7536\n",
       "9   16994    236.8222"
      ],
      "text/html": "<div>\n<style scoped>\n    .dataframe tbody tr th:only-of-type {\n        vertical-align: middle;\n    }\n\n    .dataframe tbody tr th {\n        vertical-align: top;\n    }\n\n    .dataframe thead th {\n        text-align: right;\n    }\n</style>\n<table border=\"1\" class=\"dataframe\">\n  <thead>\n    <tr style=\"text-align: right;\">\n      <th></th>\n      <th>UserId</th>\n      <th>similarity</th>\n    </tr>\n  </thead>\n  <tbody>\n    <tr>\n      <th>0</th>\n      <td>23424</td>\n      <td>328.6963</td>\n    </tr>\n    <tr>\n      <th>1</th>\n      <td>22771</td>\n      <td>313.9121</td>\n    </tr>\n    <tr>\n      <th>2</th>\n      <td>23959</td>\n      <td>298.7328</td>\n    </tr>\n    <tr>\n      <th>3</th>\n      <td>23356</td>\n      <td>291.4463</td>\n    </tr>\n    <tr>\n      <th>4</th>\n      <td>3377</td>\n      <td>283.5435</td>\n    </tr>\n    <tr>\n      <th>5</th>\n      <td>22713</td>\n      <td>279.4523</td>\n    </tr>\n    <tr>\n      <th>6</th>\n      <td>11062</td>\n      <td>274.8514</td>\n    </tr>\n    <tr>\n      <th>7</th>\n      <td>12250</td>\n      <td>241.9000</td>\n    </tr>\n    <tr>\n      <th>8</th>\n      <td>20276</td>\n      <td>239.7536</td>\n    </tr>\n    <tr>\n      <th>9</th>\n      <td>16994</td>\n      <td>236.8222</td>\n    </tr>\n  </tbody>\n</table>\n</div>"
     },
     "metadata": {},
     "execution_count": 353
    }
   ],
   "source": [
    "top_user = getuser(3,10)\n",
    "pd.DataFrame({'UserId':top_user.index,'similarity':top_user.values})"
   ]
  },
  {
   "source": [
    "<h1>Model Based"
   ],
   "cell_type": "markdown",
   "metadata": {}
  },
  {
   "cell_type": "code",
   "execution_count": 133,
   "metadata": {},
   "outputs": [],
   "source": [
    "from surprise.model_selection import train_test_split,cross_validate\n",
    "from surprise import SVD,Reader,Dataset,accuracy"
   ]
  },
  {
   "cell_type": "code",
   "execution_count": 114,
   "metadata": {},
   "outputs": [],
   "source": [
    "reader =  Reader(rating_scale=(-10,10))\n",
    "dd = Dataset.load_from_df(df,reader)"
   ]
  },
  {
   "cell_type": "code",
   "execution_count": 399,
   "metadata": {},
   "outputs": [],
   "source": [
    "trainset , testset = train_test_split(dd,test_size=0.20,random_state=7)"
   ]
  },
  {
   "cell_type": "code",
   "execution_count": 400,
   "metadata": {},
   "outputs": [],
   "source": [
    "model = SVD(lr_all=0.001,n_factors=50)"
   ]
  },
  {
   "cell_type": "code",
   "execution_count": 401,
   "metadata": {},
   "outputs": [
    {
     "output_type": "execute_result",
     "data": {
      "text/plain": [
       "<surprise.prediction_algorithms.matrix_factorization.SVD at 0x1ea67ebe148>"
      ]
     },
     "metadata": {},
     "execution_count": 401
    }
   ],
   "source": [
    "model.fit(trainset)"
   ]
  },
  {
   "cell_type": "code",
   "execution_count": 402,
   "metadata": {},
   "outputs": [],
   "source": [
    "pred = model.test(testset)"
   ]
  },
  {
   "cell_type": "code",
   "execution_count": 403,
   "metadata": {},
   "outputs": [
    {
     "output_type": "execute_result",
     "data": {
      "text/plain": [
       "Prediction(uid=34, iid=48, r_ui=-3.54, est=0.9427836692944123, details={'was_impossible': False})"
      ]
     },
     "metadata": {},
     "execution_count": 403
    }
   ],
   "source": [
    "pred[1]"
   ]
  },
  {
   "cell_type": "code",
   "execution_count": 405,
   "metadata": {},
   "outputs": [
    {
     "output_type": "stream",
     "name": "stdout",
     "text": [
      "RMSE: 2.5650\n"
     ]
    },
    {
     "output_type": "execute_result",
     "data": {
      "text/plain": [
       "2.565038501154731"
      ]
     },
     "metadata": {},
     "execution_count": 405
    }
   ],
   "source": [
    "accuracy.rmse(pred)"
   ]
  },
  {
   "cell_type": "code",
   "execution_count": 432,
   "metadata": {},
   "outputs": [],
   "source": [
    "def precision_k(predictions,k=10,threshold=0.5):\n",
    "    user_est_true = defaultdict(list)\n",
    "    for uid, _, true_r, est, _ in predictions:\n",
    "        user_est_true[uid].append((est, true_r))\n",
    "\n",
    "    precisions = dict()\n",
    "    recalls=dict()\n",
    "    for uid , urerRating in user_est_true.items():\n",
    "        user_ratings.sort(key=lambda x: x[0], reverse=True)\n",
    "        # print(urerRating[1])\n",
    "        n_rel = sum((true_r >= threshold) for (_, true_r) in user_ratings)\n",
    "        n_rec_k = sum((est >= threshold) for (est, _) in user_ratings[:k])\n",
    "\n",
    "\n",
    "        n_rel_and_rec_k = sum(((true_r >= threshold) and (est >= threshold))\n",
    "                              for (est, true_r) in user_ratings[:k])\n",
    "        precisions[uid] =  n_rel_and_rec_k / n_rec_k if n_rec_k != 0 else 0\n",
    "        recalls[uid] = n_rel_and_rec_k / n_rel if n_rel != 0 else 0\n",
    "    return precisions,recalls\n"
   ]
  },
  {
   "cell_type": "code",
   "execution_count": 438,
   "metadata": {
    "tags": []
   },
   "outputs": [
    {
     "output_type": "stream",
     "name": "stdout",
     "text": [
      "precision 1.0 recall 0.5 on threshold -10.0 \n",
      "\n",
      "\n",
      "precision 1.0 recall 0.5 on threshold -9.591836734693878 \n",
      "\n",
      "\n",
      "precision 1.0 recall 0.5 on threshold -9.183673469387756 \n",
      "\n",
      "\n",
      "precision 1.0 recall 0.5 on threshold -8.775510204081632 \n",
      "\n",
      "\n",
      "precision 1.0 recall 0.5 on threshold -8.36734693877551 \n",
      "\n",
      "\n",
      "precision 1.0 recall 0.5 on threshold -7.959183673469388 \n",
      "\n",
      "\n",
      "precision 1.0 recall 0.5 on threshold -7.551020408163265 \n",
      "\n",
      "\n",
      "precision 1.0 recall 0.5 on threshold -7.142857142857142 \n",
      "\n",
      "\n",
      "precision 1.0 recall 0.5 on threshold -6.73469387755102 \n",
      "\n",
      "\n",
      "precision 1.0 recall 0.5 on threshold -6.326530612244898 \n",
      "\n",
      "\n",
      "precision 1.0 recall 0.5 on threshold -5.918367346938775 \n",
      "\n",
      "\n",
      "precision 1.0 recall 0.5 on threshold -5.5102040816326525 \n",
      "\n",
      "\n",
      "precision 1.0 recall 0.5 on threshold -5.1020408163265305 \n",
      "\n",
      "\n",
      "precision 1.0 recall 0.5 on threshold -4.6938775510204085 \n",
      "\n",
      "\n",
      "precision 1.0 recall 0.5 on threshold -4.285714285714286 \n",
      "\n",
      "\n",
      "precision 1.0 recall 0.5 on threshold -3.8775510204081627 \n",
      "\n",
      "\n",
      "precision 1.0 recall 0.5 on threshold -3.4693877551020407 \n",
      "\n",
      "\n",
      "precision 1.0 recall 0.5 on threshold -3.0612244897959187 \n",
      "\n",
      "\n",
      "precision 1.0 recall 0.5 on threshold -2.6530612244897958 \n",
      "\n",
      "\n",
      "precision 1.0 recall 0.5 on threshold -2.244897959183673 \n",
      "\n",
      "\n",
      "precision 1.0 recall 0.5 on threshold -1.8367346938775508 \n",
      "\n",
      "\n",
      "precision 1.0 recall 0.5 on threshold -1.4285714285714288 \n",
      "\n",
      "\n",
      "precision 1.0 recall 0.5 on threshold -1.020408163265305 \n",
      "\n",
      "\n",
      "precision 1.0 recall 0.5 on threshold -0.612244897959183 \n",
      "\n",
      "\n",
      "precision 1.0 recall 0.5 on threshold -0.204081632653061 \n",
      "\n",
      "\n",
      "precision 1.0 recall 0.5555555555555555 on threshold 0.204081632653061 \n",
      "\n",
      "\n",
      "precision 0.5999999999999999 recall 0.75 on threshold 0.612244897959183 \n",
      "\n",
      "\n",
      "precision 0.4000000000000001 recall 1.0 on threshold 1.0204081632653068 \n",
      "\n",
      "\n",
      "precision 0.0 recall 0.0 on threshold 1.4285714285714288 \n",
      "\n",
      "\n",
      "precision 0.0 recall 0.0 on threshold 1.8367346938775508 \n",
      "\n",
      "\n",
      "precision 0.0 recall 0.0 on threshold 2.2448979591836746 \n",
      "\n",
      "\n",
      "precision 0.0 recall 0.0 on threshold 2.6530612244897966 \n",
      "\n",
      "\n",
      "precision 0.0 recall 0.0 on threshold 3.0612244897959187 \n",
      "\n",
      "\n",
      "precision 0.0 recall 0.0 on threshold 3.4693877551020407 \n",
      "\n",
      "\n",
      "precision 0.0 recall 0.0 on threshold 3.8775510204081627 \n",
      "\n",
      "\n",
      "precision 0.0 recall 0.0 on threshold 4.2857142857142865 \n",
      "\n",
      "\n",
      "precision 0.0 recall 0.0 on threshold 4.6938775510204085 \n",
      "\n",
      "\n",
      "precision 0.0 recall 0.0 on threshold 5.1020408163265305 \n",
      "\n",
      "\n",
      "precision 0.0 recall 0.0 on threshold 5.510204081632654 \n",
      "\n",
      "\n",
      "precision 0.0 recall 0.0 on threshold 5.918367346938776 \n",
      "\n",
      "\n",
      "precision 0.0 recall 0.0 on threshold 6.326530612244898 \n",
      "\n",
      "\n",
      "precision 0.0 recall 0.0 on threshold 6.73469387755102 \n",
      "\n",
      "\n",
      "precision 0.0 recall 0.0 on threshold 7.142857142857142 \n",
      "\n",
      "\n",
      "precision 0.0 recall 0.0 on threshold 7.551020408163264 \n",
      "\n",
      "\n",
      "precision 0.0 recall 0.0 on threshold 7.95918367346939 \n",
      "\n",
      "\n",
      "precision 0.0 recall 0.0 on threshold 8.367346938775512 \n",
      "\n",
      "\n",
      "precision 0.0 recall 0.0 on threshold 8.775510204081634 \n",
      "\n",
      "\n",
      "precision 0.0 recall 0.0 on threshold 9.183673469387756 \n",
      "\n",
      "\n",
      "precision 0.0 recall 0.0 on threshold 9.591836734693878 \n",
      "\n",
      "\n",
      "precision 0.0 recall 0.0 on threshold 10.0 \n",
      "\n",
      "\n"
     ]
    }
   ],
   "source": [
    "# precisions\n",
    "t=np.linspace(-10.,10.,50)\n",
    "# t=[2.5]\n",
    "for i in t:\n",
    "    precisions,recalls =precision_k(pred,k=5,threshold=i)\n",
    "\n",
    "    p=(sum(prec for prec in precisions.values()) / len(precisions))\n",
    "    r=(sum(rec for rec in recalls.values()) / len(recalls))\n",
    "    print(f'precision {p} recall {r} on threshold {i} \\n\\n')"
   ]
  },
  {
   "cell_type": "code",
   "execution_count": 440,
   "metadata": {},
   "outputs": [
    {
     "output_type": "execute_result",
     "data": {
      "text/plain": [
       "({17: 0.6,\n",
       "  34: 0.6,\n",
       "  18: 0.6,\n",
       "  20: 0.6,\n",
       "  21: 0.6,\n",
       "  30: 0.6,\n",
       "  19: 0.6,\n",
       "  28: 0.6,\n",
       "  24: 0.6,\n",
       "  27: 0.6,\n",
       "  23: 0.6,\n",
       "  32: 0.6,\n",
       "  22: 0.6,\n",
       "  33: 0.6,\n",
       "  31: 0.6,\n",
       "  16: 0.6,\n",
       "  29: 0.6,\n",
       "  35: 0.6,\n",
       "  25: 0.6,\n",
       "  26: 0.6,\n",
       "  15: 0.6},\n",
       " {17: 0.75,\n",
       "  34: 0.75,\n",
       "  18: 0.75,\n",
       "  20: 0.75,\n",
       "  21: 0.75,\n",
       "  30: 0.75,\n",
       "  19: 0.75,\n",
       "  28: 0.75,\n",
       "  24: 0.75,\n",
       "  27: 0.75,\n",
       "  23: 0.75,\n",
       "  32: 0.75,\n",
       "  22: 0.75,\n",
       "  33: 0.75,\n",
       "  31: 0.75,\n",
       "  16: 0.75,\n",
       "  29: 0.75,\n",
       "  35: 0.75,\n",
       "  25: 0.75,\n",
       "  26: 0.75,\n",
       "  15: 0.75})"
      ]
     },
     "metadata": {},
     "execution_count": 440
    }
   ],
   "source": [
    "precisions,recalls =precision_k(pred,k=5,threshold=0.6)\n",
    "precisions,recalls"
   ]
  },
  {
   "cell_type": "code",
   "execution_count": 395,
   "metadata": {},
   "outputs": [],
   "source": [
    "from collections import defaultdict\n",
    "def get_top_n(predictions, n=10):\n",
    "    # First map the predictions to each user.\n",
    "    top_n = defaultdict(list)\n",
    "    for uid, iid, true_r, est, _ in predictions:\n",
    "        # print(iid,est)\n",
    "        top_n[uid].append((iid, est))\n",
    "\n",
    "    # Then sort the predictions for each user and retrieve the k highest ones.\n",
    "    for uid, user_ratings in top_n.items():\n",
    "        user_ratings.sort(key=lambda x: x[1], reverse=True)\n",
    "        top_n[uid] = user_ratings[:n]\n",
    "\n",
    "    return top_n"
   ]
  },
  {
   "cell_type": "code",
   "execution_count": 396,
   "metadata": {
    "tags": []
   },
   "outputs": [],
   "source": [
    "top_n = get_top_n(pred, n=10)\n",
    "# top_n"
   ]
  },
  {
   "cell_type": "code",
   "execution_count": 182,
   "metadata": {},
   "outputs": [],
   "source": [
    " import re"
   ]
  },
  {
   "cell_type": "code",
   "execution_count": 325,
   "metadata": {},
   "outputs": [],
   "source": [
    "def getJokes(file):\n",
    "    path = f'./jester_dataset_1_joke_texts/jokes/init{file}.html'\n",
    "    with open(path, \"r\", encoding='utf-8') as f:\n",
    "        text= f.read()\n",
    "        # print(text)\n",
    "        start = text.find(\"<!--begin of joke -->\") + len(\"<!--begin of joke -->\")\n",
    "        end = text.find(\"<!--end of joke -->\")\n",
    "        t =(text[start:end])\n",
    "        return t"
   ]
  },
  {
   "cell_type": "code",
   "execution_count": 398,
   "metadata": {},
   "outputs": [
    {
     "output_type": "stream",
     "name": "stdout",
     "text": [
      "{32, 5, 76, 50, 21, 27, 29, 62}\n----------------------------------------JokeId 32--------------------------------------------- \nA man arrives at the gates of heaven. St. Peter asks, \"Religion?\" \nThe man says, \"Methodist.\" St. Peter looks down his list, and says, \n\"Go to room 24, but be very quiet as you pass room 8.\" \n<P>\nAnother man arrives at the gates of heaven. \"Religion?\"\n\"Baptist.\" \"Go to room 18, but be very quiet as you pass room 8.\" \n<P>\nA third man arrives at the gates. \"Religion?\" \"Jewish.\"\n\"Go to room 11, but be very quiet as you pass room 8.\" \nThe man says, \"I can understand there being different rooms for different religions, but why\nmust I be quiet when I pass room 8?\" St. Peter tells him, \"Well the Catholics are in room 8, \nand they think they're the only ones here.\n----------------------------------------------------------------------------------------------------\n\n\n----------------------------------------JokeId 5--------------------------------------------- \nQ.\tWhat's O. J. Simpson's Internet address? <P>\nA.\tSlash, slash, backslash, slash, slash, escape.\n----------------------------------------------------------------------------------------------------\n\n\n----------------------------------------JokeId 76--------------------------------------------- \nThere once was a man and a woman that both  got in  a terrible car wreck. Both of their vehicles  \nwere completely destroyed, buy fortunately, no one  was   hurt.  In thankfulness, the woman said to the \nman, 'We are both okay, so we should celebrate. I have   a  bottle of wine in my car, let's open it.'         \nSo the woman got the bottleout of the car, and  handed it to the man. The man took a really big drink, \nand handed the woman the bottle. The  woman  closed the bottle and put it down. The man  asked,  \n'Aren't you going to take a drink?' \n<p>\nThe woman cleverly replied, \n<i>'No, I think I'll  just  wait for the cops to get here.'</i>\n----------------------------------------------------------------------------------------------------\n\n\n----------------------------------------JokeId 50--------------------------------------------- \nA guy goes into confession and says to the priest, \"Father, I'm 80 years\nold, widower, with 11 grandchildren. Last night I met two beautiful flight\nattendants. They took me home and I made love to both of them. Twice.\"\n<P>\nThe priest said: \"Well, my son, when was the last time you were in\nconfession?\"\n<p> \"Never Father, I'm Jewish.\"\n<p> \"So then, why are you telling me?\"\n<p> \"I'm telling everybody.\"\n----------------------------------------------------------------------------------------------------\n\n\n----------------------------------------JokeId 21--------------------------------------------- \nWhat's the difference between a used tire and 365 used condoms?<P>\n\nOne's a Goodyear, the other's a great year.\n----------------------------------------------------------------------------------------------------\n\n\n----------------------------------------JokeId 27--------------------------------------------- \nClinton returns from a vacation in Arkansas and walks down  the\nsteps of Air Force One with two pigs under his arms.  At the bottom\nof the steps, he says  to the honor guardsman, \"These are genuine\nArkansas Razor-Back Hogs.  I got this one for Chelsea and this one for\nHillary.\"  <P>\n\nThe guardsman replies, \"Nice trade, Sir.\"\n----------------------------------------------------------------------------------------------------\n\n\n----------------------------------------JokeId 29--------------------------------------------- \nAn old Scotsmen is sitting with a younger Scottish gentleman and says the boy. \n\"Ah, lad look out that window. You see that stone wall there, I built it with\nme own bare hands, placed every stone meself.  But do they call me MacGregor the\nwall builder? No! <P>\n\nHe Takes a few sips of his beer then says, \"Aye, and look out on that lake and \neye that beautiful pier. I built it meself, laid every board and hammered each\nnail but do they call me MacGregor the pier builder? No! <P>\n\nHe continues...\"And lad, you see that road? That too I build with me own bare \nhands. Laid every inch of pavement meself, but do they call MacGregor the road\nbuilder? No!\"\n\nAgain he returns to his beer for a few sips, then says, \n\"Agh, but you screw one sheep...\"\n----------------------------------------------------------------------------------------------------\n\n\n----------------------------------------JokeId 62--------------------------------------------- \nA group of  managers were given the assignment to measure the\nheight of a flagpole. So they go out to the flagpole with ladders\nand tape measures, and they're falling off the ladders, dropping\nthe tape measures - the whole thing is just a mess.\nAn engineer comes along and sees what they're trying to do,\nwalks over, pulls the flagpole out of the ground, lays it flat,\nmeasures it from end to end, gives the measurement to one of the\nmanagers and walks away.\n<p>After the engineer has gone, one manager turns to another and\nlaughs. \"Isn't that just like an engineer, we're looking for the \nheight and he gives us the length.\"\n----------------------------------------------------------------------------------------------------\n\n\n"
     ]
    }
   ],
   "source": [
    "jokesid=set()\n",
    "for uid, user_ratings in top_n.items():\n",
    "    user,jokes=(uid, [iid for (iid, _) in user_ratings])\n",
    "    # print(jokes)\n",
    "    for i in jokes:\n",
    "        jokesid.add(i)\n",
    "print(jokesid)\n",
    "for file in jokesid:\n",
    "    print(f'{\"-\"*40}JokeId {file}{\"-\"*45} {getJokes(file)}{\"-\"*100}\\n\\n')\n"
   ]
  },
  {
   "cell_type": "code",
   "execution_count": null,
   "metadata": {},
   "outputs": [],
   "source": []
  },
  {
   "cell_type": "code",
   "execution_count": 301,
   "metadata": {},
   "outputs": [
    {
     "output_type": "execute_result",
     "data": {
      "text/plain": [
       "     u                j\n",
       "0   24             {50}\n",
       "1   18             {50}\n",
       "2   31             {27}\n",
       "3   25             {50}\n",
       "4   29             {50}\n",
       "5   22             {50}\n",
       "6   33             {27}\n",
       "7   28             {27}\n",
       "8   35             {27}\n",
       "9   30             {27}\n",
       "10  16             {50}\n",
       "11  27             {50}\n",
       "12  34             {27}\n",
       "13  21             {27}\n",
       "14  17             {50}\n",
       "15  23             {50}\n",
       "16  19             {50}\n",
       "17  26             {50}\n",
       "18  20             {27}\n",
       "19  32             {27}\n",
       "20  15  {50, 5, 29, 62}"
      ],
      "text/html": "<div>\n<style scoped>\n    .dataframe tbody tr th:only-of-type {\n        vertical-align: middle;\n    }\n\n    .dataframe tbody tr th {\n        vertical-align: top;\n    }\n\n    .dataframe thead th {\n        text-align: right;\n    }\n</style>\n<table border=\"1\" class=\"dataframe\">\n  <thead>\n    <tr style=\"text-align: right;\">\n      <th></th>\n      <th>u</th>\n      <th>j</th>\n    </tr>\n  </thead>\n  <tbody>\n    <tr>\n      <th>0</th>\n      <td>24</td>\n      <td>{50}</td>\n    </tr>\n    <tr>\n      <th>1</th>\n      <td>18</td>\n      <td>{50}</td>\n    </tr>\n    <tr>\n      <th>2</th>\n      <td>31</td>\n      <td>{27}</td>\n    </tr>\n    <tr>\n      <th>3</th>\n      <td>25</td>\n      <td>{50}</td>\n    </tr>\n    <tr>\n      <th>4</th>\n      <td>29</td>\n      <td>{50}</td>\n    </tr>\n    <tr>\n      <th>5</th>\n      <td>22</td>\n      <td>{50}</td>\n    </tr>\n    <tr>\n      <th>6</th>\n      <td>33</td>\n      <td>{27}</td>\n    </tr>\n    <tr>\n      <th>7</th>\n      <td>28</td>\n      <td>{27}</td>\n    </tr>\n    <tr>\n      <th>8</th>\n      <td>35</td>\n      <td>{27}</td>\n    </tr>\n    <tr>\n      <th>9</th>\n      <td>30</td>\n      <td>{27}</td>\n    </tr>\n    <tr>\n      <th>10</th>\n      <td>16</td>\n      <td>{50}</td>\n    </tr>\n    <tr>\n      <th>11</th>\n      <td>27</td>\n      <td>{50}</td>\n    </tr>\n    <tr>\n      <th>12</th>\n      <td>34</td>\n      <td>{27}</td>\n    </tr>\n    <tr>\n      <th>13</th>\n      <td>21</td>\n      <td>{27}</td>\n    </tr>\n    <tr>\n      <th>14</th>\n      <td>17</td>\n      <td>{50}</td>\n    </tr>\n    <tr>\n      <th>15</th>\n      <td>23</td>\n      <td>{50}</td>\n    </tr>\n    <tr>\n      <th>16</th>\n      <td>19</td>\n      <td>{50}</td>\n    </tr>\n    <tr>\n      <th>17</th>\n      <td>26</td>\n      <td>{50}</td>\n    </tr>\n    <tr>\n      <th>18</th>\n      <td>20</td>\n      <td>{27}</td>\n    </tr>\n    <tr>\n      <th>19</th>\n      <td>32</td>\n      <td>{27}</td>\n    </tr>\n    <tr>\n      <th>20</th>\n      <td>15</td>\n      <td>{50, 5, 29, 62}</td>\n    </tr>\n  </tbody>\n</table>\n</div>"
     },
     "metadata": {},
     "execution_count": 301
    }
   ],
   "source": [
    "final = pd.DataFrame({'u':userid,'j':jokesid})\n",
    "final"
   ]
  },
  {
   "cell_type": "code",
   "execution_count": 137,
   "metadata": {},
   "outputs": [
    {
     "output_type": "execute_result",
     "data": {
      "text/plain": [
       "{'test_rmse': array([2.5738067 , 2.58743182, 2.60043542]),\n",
       " 'test_mae': array([1.20890669, 1.2658846 , 1.30227421]),\n",
       " 'fit_time': (145.22379231452942, 185.27940273284912, 230.84769105911255),\n",
       " 'test_time': (8.394989013671875, 15.545635461807251, 13.717051982879639)}"
      ]
     },
     "metadata": {},
     "execution_count": 137
    }
   ],
   "source": [
    "cross_validate(model,dd,cv=3)"
   ]
  },
  {
   "cell_type": "code",
   "execution_count": null,
   "metadata": {},
   "outputs": [],
   "source": []
  }
 ]
}