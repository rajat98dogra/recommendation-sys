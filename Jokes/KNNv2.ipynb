{
 "metadata": {
  "language_info": {
   "codemirror_mode": {
    "name": "ipython",
    "version": 3
   },
   "file_extension": ".py",
   "mimetype": "text/x-python",
   "name": "python",
   "nbconvert_exporter": "python",
   "pygments_lexer": "ipython3",
   "version": "3.7.9"
  },
  "orig_nbformat": 2,
  "kernelspec": {
   "name": "pythonjvsc74a57bd03e450a651d082633f5bc5e89c9da064f1b780eaed216155c44f4406c42d93987",
   "display_name": "Python 3.7.9  ('venv': venv)"
  },
  "metadata": {
   "interpreter": {
    "hash": "3e450a651d082633f5bc5e89c9da064f1b780eaed216155c44f4406c42d93987"
   }
  }
 },
 "nbformat": 4,
 "nbformat_minor": 2,
 "cells": [
  {
   "cell_type": "code",
   "execution_count": 1,
   "metadata": {},
   "outputs": [],
   "source": [
    "import numpy as np\n",
    "import pandas as pd\n",
    "from surprise import KNNBaseline,Reader,Dataset,accuracy,KNNBasic\n",
    "from surprise.model_selection import cross_validate,train_test_split"
   ]
  },
  {
   "cell_type": "code",
   "execution_count": 17,
   "metadata": {},
   "outputs": [],
   "source": [
    "data = pd.read_excel('jester-data-3.xls',header=None)\n",
    "data = data.rename({0:'Rate_count'},axis=1)\n",
    "data['userId']=data.index+1\n"
   ]
  },
  {
   "cell_type": "code",
   "execution_count": 18,
   "metadata": {},
   "outputs": [
    {
     "output_type": "execute_result",
     "data": {
      "text/plain": [
       "       Rate_count     1      2     3     4     5      6      7     8     9  \\\n",
       "0              26  99.0  99.00  99.0  99.0 -1.65  99.00  -0.78  6.89  99.0   \n",
       "1              33  99.0  99.00  99.0  99.0 -9.27  99.00  -9.17 -8.59  99.0   \n",
       "2              16  99.0  99.00  99.0  99.0 -6.12  99.00  -7.48 -7.77  99.0   \n",
       "3              24  99.0   0.05  99.0  99.0 -2.82  99.00  -4.85 -0.87  99.0   \n",
       "4              22  99.0  99.00  99.0  99.0 -4.95  99.00   6.21  2.72  99.0   \n",
       "...           ...   ...    ...   ...   ...   ...    ...    ...   ...   ...   \n",
       "24933          21  99.0  99.00  99.0  99.0  5.78   8.45  99.00  8.20  99.0   \n",
       "24934          16  99.0  99.00  99.0  99.0  5.24  99.00  99.00  5.68  99.0   \n",
       "24935          35  99.0  99.00  99.0  99.0 -3.93  99.00  -9.03 -2.67  99.0   \n",
       "24936          21  99.0  99.00  99.0  99.0  9.42   9.66  99.00  9.17  99.0   \n",
       "24937          35  99.0  99.00  99.0  99.0  0.19  99.00  -1.50  7.82  99.0   \n",
       "\n",
       "       ...    92     93    94     95    96    97    98     99   100  userId  \n",
       "0      ...  99.0  99.00  99.0  99.00  99.0  99.0  99.0  99.00  99.0       1  \n",
       "1      ...  99.0  -2.77  99.0  99.00  99.0  99.0  99.0  99.00  99.0       2  \n",
       "2      ...  99.0  99.00  99.0  99.00  99.0  99.0  99.0  99.00  99.0       3  \n",
       "3      ...  99.0  99.00  99.0   1.84  99.0  99.0  99.0  -4.08  99.0       4  \n",
       "4      ...  99.0  99.00  99.0  99.00  99.0  99.0  99.0  99.00  99.0       5  \n",
       "...    ...   ...    ...   ...    ...   ...   ...   ...    ...   ...     ...  \n",
       "24933  ...  99.0  99.00  99.0  99.00  99.0  99.0  99.0  99.00  99.0   24934  \n",
       "24934  ...  99.0  99.00  99.0  99.00  99.0  99.0  99.0  99.00  99.0   24935  \n",
       "24935  ...  99.0  99.00  99.0  99.00  99.0  99.0  99.0  99.00  99.0   24936  \n",
       "24936  ...  99.0  99.00  99.0  99.00  99.0  99.0  99.0  99.00  99.0   24937  \n",
       "24937  ...  99.0  99.00  99.0  99.00  99.0  99.0  99.0  99.00  99.0   24938  \n",
       "\n",
       "[24938 rows x 102 columns]"
      ],
      "text/html": "<div>\n<style scoped>\n    .dataframe tbody tr th:only-of-type {\n        vertical-align: middle;\n    }\n\n    .dataframe tbody tr th {\n        vertical-align: top;\n    }\n\n    .dataframe thead th {\n        text-align: right;\n    }\n</style>\n<table border=\"1\" class=\"dataframe\">\n  <thead>\n    <tr style=\"text-align: right;\">\n      <th></th>\n      <th>Rate_count</th>\n      <th>1</th>\n      <th>2</th>\n      <th>3</th>\n      <th>4</th>\n      <th>5</th>\n      <th>6</th>\n      <th>7</th>\n      <th>8</th>\n      <th>9</th>\n      <th>...</th>\n      <th>92</th>\n      <th>93</th>\n      <th>94</th>\n      <th>95</th>\n      <th>96</th>\n      <th>97</th>\n      <th>98</th>\n      <th>99</th>\n      <th>100</th>\n      <th>userId</th>\n    </tr>\n  </thead>\n  <tbody>\n    <tr>\n      <th>0</th>\n      <td>26</td>\n      <td>99.0</td>\n      <td>99.00</td>\n      <td>99.0</td>\n      <td>99.0</td>\n      <td>-1.65</td>\n      <td>99.00</td>\n      <td>-0.78</td>\n      <td>6.89</td>\n      <td>99.0</td>\n      <td>...</td>\n      <td>99.0</td>\n      <td>99.00</td>\n      <td>99.0</td>\n      <td>99.00</td>\n      <td>99.0</td>\n      <td>99.0</td>\n      <td>99.0</td>\n      <td>99.00</td>\n      <td>99.0</td>\n      <td>1</td>\n    </tr>\n    <tr>\n      <th>1</th>\n      <td>33</td>\n      <td>99.0</td>\n      <td>99.00</td>\n      <td>99.0</td>\n      <td>99.0</td>\n      <td>-9.27</td>\n      <td>99.00</td>\n      <td>-9.17</td>\n      <td>-8.59</td>\n      <td>99.0</td>\n      <td>...</td>\n      <td>99.0</td>\n      <td>-2.77</td>\n      <td>99.0</td>\n      <td>99.00</td>\n      <td>99.0</td>\n      <td>99.0</td>\n      <td>99.0</td>\n      <td>99.00</td>\n      <td>99.0</td>\n      <td>2</td>\n    </tr>\n    <tr>\n      <th>2</th>\n      <td>16</td>\n      <td>99.0</td>\n      <td>99.00</td>\n      <td>99.0</td>\n      <td>99.0</td>\n      <td>-6.12</td>\n      <td>99.00</td>\n      <td>-7.48</td>\n      <td>-7.77</td>\n      <td>99.0</td>\n      <td>...</td>\n      <td>99.0</td>\n      <td>99.00</td>\n      <td>99.0</td>\n      <td>99.00</td>\n      <td>99.0</td>\n      <td>99.0</td>\n      <td>99.0</td>\n      <td>99.00</td>\n      <td>99.0</td>\n      <td>3</td>\n    </tr>\n    <tr>\n      <th>3</th>\n      <td>24</td>\n      <td>99.0</td>\n      <td>0.05</td>\n      <td>99.0</td>\n      <td>99.0</td>\n      <td>-2.82</td>\n      <td>99.00</td>\n      <td>-4.85</td>\n      <td>-0.87</td>\n      <td>99.0</td>\n      <td>...</td>\n      <td>99.0</td>\n      <td>99.00</td>\n      <td>99.0</td>\n      <td>1.84</td>\n      <td>99.0</td>\n      <td>99.0</td>\n      <td>99.0</td>\n      <td>-4.08</td>\n      <td>99.0</td>\n      <td>4</td>\n    </tr>\n    <tr>\n      <th>4</th>\n      <td>22</td>\n      <td>99.0</td>\n      <td>99.00</td>\n      <td>99.0</td>\n      <td>99.0</td>\n      <td>-4.95</td>\n      <td>99.00</td>\n      <td>6.21</td>\n      <td>2.72</td>\n      <td>99.0</td>\n      <td>...</td>\n      <td>99.0</td>\n      <td>99.00</td>\n      <td>99.0</td>\n      <td>99.00</td>\n      <td>99.0</td>\n      <td>99.0</td>\n      <td>99.0</td>\n      <td>99.00</td>\n      <td>99.0</td>\n      <td>5</td>\n    </tr>\n    <tr>\n      <th>...</th>\n      <td>...</td>\n      <td>...</td>\n      <td>...</td>\n      <td>...</td>\n      <td>...</td>\n      <td>...</td>\n      <td>...</td>\n      <td>...</td>\n      <td>...</td>\n      <td>...</td>\n      <td>...</td>\n      <td>...</td>\n      <td>...</td>\n      <td>...</td>\n      <td>...</td>\n      <td>...</td>\n      <td>...</td>\n      <td>...</td>\n      <td>...</td>\n      <td>...</td>\n      <td>...</td>\n    </tr>\n    <tr>\n      <th>24933</th>\n      <td>21</td>\n      <td>99.0</td>\n      <td>99.00</td>\n      <td>99.0</td>\n      <td>99.0</td>\n      <td>5.78</td>\n      <td>8.45</td>\n      <td>99.00</td>\n      <td>8.20</td>\n      <td>99.0</td>\n      <td>...</td>\n      <td>99.0</td>\n      <td>99.00</td>\n      <td>99.0</td>\n      <td>99.00</td>\n      <td>99.0</td>\n      <td>99.0</td>\n      <td>99.0</td>\n      <td>99.00</td>\n      <td>99.0</td>\n      <td>24934</td>\n    </tr>\n    <tr>\n      <th>24934</th>\n      <td>16</td>\n      <td>99.0</td>\n      <td>99.00</td>\n      <td>99.0</td>\n      <td>99.0</td>\n      <td>5.24</td>\n      <td>99.00</td>\n      <td>99.00</td>\n      <td>5.68</td>\n      <td>99.0</td>\n      <td>...</td>\n      <td>99.0</td>\n      <td>99.00</td>\n      <td>99.0</td>\n      <td>99.00</td>\n      <td>99.0</td>\n      <td>99.0</td>\n      <td>99.0</td>\n      <td>99.00</td>\n      <td>99.0</td>\n      <td>24935</td>\n    </tr>\n    <tr>\n      <th>24935</th>\n      <td>35</td>\n      <td>99.0</td>\n      <td>99.00</td>\n      <td>99.0</td>\n      <td>99.0</td>\n      <td>-3.93</td>\n      <td>99.00</td>\n      <td>-9.03</td>\n      <td>-2.67</td>\n      <td>99.0</td>\n      <td>...</td>\n      <td>99.0</td>\n      <td>99.00</td>\n      <td>99.0</td>\n      <td>99.00</td>\n      <td>99.0</td>\n      <td>99.0</td>\n      <td>99.0</td>\n      <td>99.00</td>\n      <td>99.0</td>\n      <td>24936</td>\n    </tr>\n    <tr>\n      <th>24936</th>\n      <td>21</td>\n      <td>99.0</td>\n      <td>99.00</td>\n      <td>99.0</td>\n      <td>99.0</td>\n      <td>9.42</td>\n      <td>9.66</td>\n      <td>99.00</td>\n      <td>9.17</td>\n      <td>99.0</td>\n      <td>...</td>\n      <td>99.0</td>\n      <td>99.00</td>\n      <td>99.0</td>\n      <td>99.00</td>\n      <td>99.0</td>\n      <td>99.0</td>\n      <td>99.0</td>\n      <td>99.00</td>\n      <td>99.0</td>\n      <td>24937</td>\n    </tr>\n    <tr>\n      <th>24937</th>\n      <td>35</td>\n      <td>99.0</td>\n      <td>99.00</td>\n      <td>99.0</td>\n      <td>99.0</td>\n      <td>0.19</td>\n      <td>99.00</td>\n      <td>-1.50</td>\n      <td>7.82</td>\n      <td>99.0</td>\n      <td>...</td>\n      <td>99.0</td>\n      <td>99.00</td>\n      <td>99.0</td>\n      <td>99.00</td>\n      <td>99.0</td>\n      <td>99.0</td>\n      <td>99.0</td>\n      <td>99.00</td>\n      <td>99.0</td>\n      <td>24938</td>\n    </tr>\n  </tbody>\n</table>\n<p>24938 rows × 102 columns</p>\n</div>"
     },
     "metadata": {},
     "execution_count": 18
    }
   ],
   "source": [
    "data"
   ]
  },
  {
   "cell_type": "code",
   "execution_count": 19,
   "metadata": {},
   "outputs": [],
   "source": [
    "df =pd.melt(data.loc[:,1:] ,id_vars ='userId'  , value_name=\"rating\")\n",
    "df = df.rename({'variable':'JokesId'},axis=1)"
   ]
  },
  {
   "cell_type": "code",
   "execution_count": 20,
   "metadata": {},
   "outputs": [
    {
     "output_type": "execute_result",
     "data": {
      "text/plain": [
       "         userId JokesId  rating\n",
       "0             1       1    99.0\n",
       "1             2       1    99.0\n",
       "2             3       1    99.0\n",
       "3             4       1    99.0\n",
       "4             5       1    99.0\n",
       "...         ...     ...     ...\n",
       "2493795   24934     100    99.0\n",
       "2493796   24935     100    99.0\n",
       "2493797   24936     100    99.0\n",
       "2493798   24937     100    99.0\n",
       "2493799   24938     100    99.0\n",
       "\n",
       "[2493800 rows x 3 columns]"
      ],
      "text/html": "<div>\n<style scoped>\n    .dataframe tbody tr th:only-of-type {\n        vertical-align: middle;\n    }\n\n    .dataframe tbody tr th {\n        vertical-align: top;\n    }\n\n    .dataframe thead th {\n        text-align: right;\n    }\n</style>\n<table border=\"1\" class=\"dataframe\">\n  <thead>\n    <tr style=\"text-align: right;\">\n      <th></th>\n      <th>userId</th>\n      <th>JokesId</th>\n      <th>rating</th>\n    </tr>\n  </thead>\n  <tbody>\n    <tr>\n      <th>0</th>\n      <td>1</td>\n      <td>1</td>\n      <td>99.0</td>\n    </tr>\n    <tr>\n      <th>1</th>\n      <td>2</td>\n      <td>1</td>\n      <td>99.0</td>\n    </tr>\n    <tr>\n      <th>2</th>\n      <td>3</td>\n      <td>1</td>\n      <td>99.0</td>\n    </tr>\n    <tr>\n      <th>3</th>\n      <td>4</td>\n      <td>1</td>\n      <td>99.0</td>\n    </tr>\n    <tr>\n      <th>4</th>\n      <td>5</td>\n      <td>1</td>\n      <td>99.0</td>\n    </tr>\n    <tr>\n      <th>...</th>\n      <td>...</td>\n      <td>...</td>\n      <td>...</td>\n    </tr>\n    <tr>\n      <th>2493795</th>\n      <td>24934</td>\n      <td>100</td>\n      <td>99.0</td>\n    </tr>\n    <tr>\n      <th>2493796</th>\n      <td>24935</td>\n      <td>100</td>\n      <td>99.0</td>\n    </tr>\n    <tr>\n      <th>2493797</th>\n      <td>24936</td>\n      <td>100</td>\n      <td>99.0</td>\n    </tr>\n    <tr>\n      <th>2493798</th>\n      <td>24937</td>\n      <td>100</td>\n      <td>99.0</td>\n    </tr>\n    <tr>\n      <th>2493799</th>\n      <td>24938</td>\n      <td>100</td>\n      <td>99.0</td>\n    </tr>\n  </tbody>\n</table>\n<p>2493800 rows × 3 columns</p>\n</div>"
     },
     "metadata": {},
     "execution_count": 20
    }
   ],
   "source": [
    "df"
   ]
  },
  {
   "cell_type": "code",
   "execution_count": 21,
   "metadata": {},
   "outputs": [],
   "source": [
    "df['rating'].replace(99.0,0,inplace=True)\n"
   ]
  },
  {
   "cell_type": "code",
   "execution_count": 22,
   "metadata": {},
   "outputs": [
    {
     "output_type": "execute_result",
     "data": {
      "text/plain": [
       "         userId JokesId  rating\n",
       "0             1       1     0.0\n",
       "1             2       1     0.0\n",
       "2             3       1     0.0\n",
       "3             4       1     0.0\n",
       "4             5       1     0.0\n",
       "...         ...     ...     ...\n",
       "2493795   24934     100     0.0\n",
       "2493796   24935     100     0.0\n",
       "2493797   24936     100     0.0\n",
       "2493798   24937     100     0.0\n",
       "2493799   24938     100     0.0\n",
       "\n",
       "[2493800 rows x 3 columns]"
      ],
      "text/html": "<div>\n<style scoped>\n    .dataframe tbody tr th:only-of-type {\n        vertical-align: middle;\n    }\n\n    .dataframe tbody tr th {\n        vertical-align: top;\n    }\n\n    .dataframe thead th {\n        text-align: right;\n    }\n</style>\n<table border=\"1\" class=\"dataframe\">\n  <thead>\n    <tr style=\"text-align: right;\">\n      <th></th>\n      <th>userId</th>\n      <th>JokesId</th>\n      <th>rating</th>\n    </tr>\n  </thead>\n  <tbody>\n    <tr>\n      <th>0</th>\n      <td>1</td>\n      <td>1</td>\n      <td>0.0</td>\n    </tr>\n    <tr>\n      <th>1</th>\n      <td>2</td>\n      <td>1</td>\n      <td>0.0</td>\n    </tr>\n    <tr>\n      <th>2</th>\n      <td>3</td>\n      <td>1</td>\n      <td>0.0</td>\n    </tr>\n    <tr>\n      <th>3</th>\n      <td>4</td>\n      <td>1</td>\n      <td>0.0</td>\n    </tr>\n    <tr>\n      <th>4</th>\n      <td>5</td>\n      <td>1</td>\n      <td>0.0</td>\n    </tr>\n    <tr>\n      <th>...</th>\n      <td>...</td>\n      <td>...</td>\n      <td>...</td>\n    </tr>\n    <tr>\n      <th>2493795</th>\n      <td>24934</td>\n      <td>100</td>\n      <td>0.0</td>\n    </tr>\n    <tr>\n      <th>2493796</th>\n      <td>24935</td>\n      <td>100</td>\n      <td>0.0</td>\n    </tr>\n    <tr>\n      <th>2493797</th>\n      <td>24936</td>\n      <td>100</td>\n      <td>0.0</td>\n    </tr>\n    <tr>\n      <th>2493798</th>\n      <td>24937</td>\n      <td>100</td>\n      <td>0.0</td>\n    </tr>\n    <tr>\n      <th>2493799</th>\n      <td>24938</td>\n      <td>100</td>\n      <td>0.0</td>\n    </tr>\n  </tbody>\n</table>\n<p>2493800 rows × 3 columns</p>\n</div>"
     },
     "metadata": {},
     "execution_count": 22
    }
   ],
   "source": [
    "df"
   ]
  },
  {
   "cell_type": "code",
   "execution_count": 23,
   "metadata": {},
   "outputs": [],
   "source": [
    "reader = Reader(rating_scale=(-10,10))\n",
    "dd = Dataset.load_from_df(df,reader)"
   ]
  },
  {
   "cell_type": "code",
   "execution_count": 24,
   "metadata": {},
   "outputs": [],
   "source": [
    "trainset1 , testset1 = train_test_split(dd,random_state=7,test_size=0.20)"
   ]
  },
  {
   "cell_type": "code",
   "execution_count": 25,
   "metadata": {},
   "outputs": [
    {
     "output_type": "stream",
     "name": "stdout",
     "text": [
      "General information on the training sets we will be using \n\n1) Number of items in each dataset 100\n2) Number of users in each dataset 24938\n3) Number of ratings in each dataset 1995040\n4) Mean rating 0.07355723694763013\n"
     ]
    }
   ],
   "source": [
    "print(\"General information on the training sets we will be using \\n\")\n",
    "print(\"1) Number of items in  dataset\", trainset1.n_items)\n",
    "print(\"2) Number of users in  dataset\", trainset1.n_users)\n",
    "print(\"3) Number of ratings in  dataset\", trainset1.n_ratings)\n",
    "print(\"4) Mean rating\", trainset1.global_mean)"
   ]
  },
  {
   "cell_type": "code",
   "execution_count": 26,
   "metadata": {},
   "outputs": [],
   "source": [
    "sim_options = {'name': 'pearson_baseline', 'user_based': False}"
   ]
  },
  {
   "cell_type": "code",
   "execution_count": 27,
   "metadata": {},
   "outputs": [],
   "source": [
    "# model = KNNBaseline(sim_options=sim_options)\n",
    "model = KNNBasic(k=40,min_k=10,sim_options=sim_options)"
   ]
  },
  {
   "cell_type": "code",
   "execution_count": 28,
   "metadata": {},
   "outputs": [
    {
     "output_type": "stream",
     "name": "stdout",
     "text": [
      "Estimating biases using als...\n",
      "Computing the pearson_baseline similarity matrix...\n",
      "Done computing similarity matrix.\n"
     ]
    },
    {
     "output_type": "execute_result",
     "data": {
      "text/plain": [
       "<surprise.prediction_algorithms.knns.KNNBasic at 0x1ee31400fc8>"
      ]
     },
     "metadata": {},
     "execution_count": 28
    }
   ],
   "source": [
    "model.fit(trainset1)"
   ]
  },
  {
   "cell_type": "code",
   "execution_count": 29,
   "metadata": {},
   "outputs": [],
   "source": [
    "pred = model.test(testset1)"
   ]
  },
  {
   "cell_type": "code",
   "execution_count": 30,
   "metadata": {},
   "outputs": [
    {
     "output_type": "stream",
     "name": "stdout",
     "text": [
      "RMSE: 2.4271\n"
     ]
    },
    {
     "output_type": "execute_result",
     "data": {
      "text/plain": [
       "2.427060633862265"
      ]
     },
     "metadata": {},
     "execution_count": 30
    }
   ],
   "source": [
    "accuracy.rmse(pred)"
   ]
  },
  {
   "cell_type": "code",
   "execution_count": 33,
   "metadata": {},
   "outputs": [
    {
     "output_type": "execute_result",
     "data": {
      "text/plain": [
       "          uid  iid  r_ui       est\n",
       "0        3739   84  0.00  0.006485\n",
       "1       11951   48 -3.54  0.704056\n",
       "2         497   93  2.14  0.000000\n",
       "3       10212   22  0.00 -0.029480\n",
       "4        1398   83  0.00 -0.016039\n",
       "...       ...  ...   ...       ...\n",
       "498755  14995   71  0.00 -0.512718\n",
       "498756   3218   69  2.38  2.040746\n",
       "498757  14459   78  0.00 -0.059453\n",
       "498758   7010   88 -3.93  0.000000\n",
       "498759  12330   24  0.00 -0.125633\n",
       "\n",
       "[498760 rows x 4 columns]"
      ],
      "text/html": "<div>\n<style scoped>\n    .dataframe tbody tr th:only-of-type {\n        vertical-align: middle;\n    }\n\n    .dataframe tbody tr th {\n        vertical-align: top;\n    }\n\n    .dataframe thead th {\n        text-align: right;\n    }\n</style>\n<table border=\"1\" class=\"dataframe\">\n  <thead>\n    <tr style=\"text-align: right;\">\n      <th></th>\n      <th>uid</th>\n      <th>iid</th>\n      <th>r_ui</th>\n      <th>est</th>\n    </tr>\n  </thead>\n  <tbody>\n    <tr>\n      <th>0</th>\n      <td>3739</td>\n      <td>84</td>\n      <td>0.00</td>\n      <td>0.006485</td>\n    </tr>\n    <tr>\n      <th>1</th>\n      <td>11951</td>\n      <td>48</td>\n      <td>-3.54</td>\n      <td>0.704056</td>\n    </tr>\n    <tr>\n      <th>2</th>\n      <td>497</td>\n      <td>93</td>\n      <td>2.14</td>\n      <td>0.000000</td>\n    </tr>\n    <tr>\n      <th>3</th>\n      <td>10212</td>\n      <td>22</td>\n      <td>0.00</td>\n      <td>-0.029480</td>\n    </tr>\n    <tr>\n      <th>4</th>\n      <td>1398</td>\n      <td>83</td>\n      <td>0.00</td>\n      <td>-0.016039</td>\n    </tr>\n    <tr>\n      <th>...</th>\n      <td>...</td>\n      <td>...</td>\n      <td>...</td>\n      <td>...</td>\n    </tr>\n    <tr>\n      <th>498755</th>\n      <td>14995</td>\n      <td>71</td>\n      <td>0.00</td>\n      <td>-0.512718</td>\n    </tr>\n    <tr>\n      <th>498756</th>\n      <td>3218</td>\n      <td>69</td>\n      <td>2.38</td>\n      <td>2.040746</td>\n    </tr>\n    <tr>\n      <th>498757</th>\n      <td>14459</td>\n      <td>78</td>\n      <td>0.00</td>\n      <td>-0.059453</td>\n    </tr>\n    <tr>\n      <th>498758</th>\n      <td>7010</td>\n      <td>88</td>\n      <td>-3.93</td>\n      <td>0.000000</td>\n    </tr>\n    <tr>\n      <th>498759</th>\n      <td>12330</td>\n      <td>24</td>\n      <td>0.00</td>\n      <td>-0.125633</td>\n    </tr>\n  </tbody>\n</table>\n<p>498760 rows × 4 columns</p>\n</div>"
     },
     "metadata": {},
     "execution_count": 33
    }
   ],
   "source": [
    "predictions = pd.DataFrame(pred)\n",
    "predictions=predictions.iloc[:,:-1]\n",
    "# predictions['error'] = \n",
    "predictions"
   ]
  },
  {
   "cell_type": "code",
   "execution_count": 65,
   "metadata": {},
   "outputs": [],
   "source": [
    "from collections import defaultdict"
   ]
  },
  {
   "cell_type": "code",
   "execution_count": 59,
   "metadata": {},
   "outputs": [],
   "source": [
    "def precision_k(predictions,k=10,threshold=0.0):\n",
    "    user_est_true = defaultdict(list)\n",
    "    for uid, _, true_r, est, _ in predictions:\n",
    "        user_est_true[uid].append((est, true_r))\n",
    "    # print(user_est_true)\n",
    "    precisions = dict()\n",
    "    recalls=dict()\n",
    "    for uid , user_ratings in user_est_true.items():\n",
    "        user_ratings.sort(key=lambda x: x[0], reverse=True)\n",
    "        # print(urerRating[1])\n",
    "        n_rel = sum((true_r >= threshold) for (_, true_r) in user_ratings)\n",
    "        n_rec_k = sum((est >= threshold) for (est, _) in user_ratings[:k])\n",
    "\n",
    "\n",
    "        n_rel_and_rec_k = sum(((true_r >= threshold) and (est >= threshold))\n",
    "                              for (est, true_r) in user_ratings[:k])\n",
    "        precisions[uid] =  n_rel_and_rec_k / n_rec_k if n_rec_k != 0 else 0\n",
    "        recalls[uid] = n_rel_and_rec_k / n_rel if n_rel != 0 else 0\n",
    "    return precisions,recalls\n"
   ]
  },
  {
   "cell_type": "code",
   "execution_count": 62,
   "metadata": {},
   "outputs": [],
   "source": [
    "precisions,recalls=precision_k(pred)\n"
   ]
  },
  {
   "cell_type": "code",
   "execution_count": 64,
   "metadata": {},
   "outputs": [
    {
     "output_type": "stream",
     "name": "stdout",
     "text": [
      "precision 0.8059745152104062 recall 0.3692709794690942  \n\n\n"
     ]
    }
   ],
   "source": [
    "p=(sum(prec for prec in precisions.values()) / len(precisions))\n",
    "r=(sum(rec for rec in recalls.values()) / len(recalls))\n",
    "print(f'precision {p} recall {r}  \\n\\n')"
   ]
  },
  {
   "cell_type": "code",
   "execution_count": null,
   "metadata": {},
   "outputs": [],
   "source": []
  }
 ]
}